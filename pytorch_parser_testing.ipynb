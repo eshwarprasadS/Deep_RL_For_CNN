{
  "nbformat": 4,
  "nbformat_minor": 0,
  "metadata": {
    "colab": {
      "provenance": []
    },
    "kernelspec": {
      "name": "python3",
      "display_name": "Python 3"
    },
    "language_info": {
      "name": "python"
    },
    "widgets": {
      "application/vnd.jupyter.widget-state+json": {
        "64d77576edb34dbf8bfcf1db629b50ea": {
          "model_module": "@jupyter-widgets/controls",
          "model_name": "HBoxModel",
          "model_module_version": "1.5.0",
          "state": {
            "_dom_classes": [],
            "_model_module": "@jupyter-widgets/controls",
            "_model_module_version": "1.5.0",
            "_model_name": "HBoxModel",
            "_view_count": null,
            "_view_module": "@jupyter-widgets/controls",
            "_view_module_version": "1.5.0",
            "_view_name": "HBoxView",
            "box_style": "",
            "children": [
              "IPY_MODEL_934d5fbb287e4885a773b7ee54c501e0",
              "IPY_MODEL_e3b0c56e1ba6467691c031777be5361c",
              "IPY_MODEL_c26903d7cc764a3bab1136faeac5f8df"
            ],
            "layout": "IPY_MODEL_b4d38b93580c431db07c9c1bec5e83eb"
          }
        },
        "934d5fbb287e4885a773b7ee54c501e0": {
          "model_module": "@jupyter-widgets/controls",
          "model_name": "HTMLModel",
          "model_module_version": "1.5.0",
          "state": {
            "_dom_classes": [],
            "_model_module": "@jupyter-widgets/controls",
            "_model_module_version": "1.5.0",
            "_model_name": "HTMLModel",
            "_view_count": null,
            "_view_module": "@jupyter-widgets/controls",
            "_view_module_version": "1.5.0",
            "_view_name": "HTMLView",
            "description": "",
            "description_tooltip": null,
            "layout": "IPY_MODEL_3da33130139e46589e4095207f1a24c8",
            "placeholder": "​",
            "style": "IPY_MODEL_20a2625eaedf4ed18489067d1ede8aba",
            "value": "100%"
          }
        },
        "e3b0c56e1ba6467691c031777be5361c": {
          "model_module": "@jupyter-widgets/controls",
          "model_name": "FloatProgressModel",
          "model_module_version": "1.5.0",
          "state": {
            "_dom_classes": [],
            "_model_module": "@jupyter-widgets/controls",
            "_model_module_version": "1.5.0",
            "_model_name": "FloatProgressModel",
            "_view_count": null,
            "_view_module": "@jupyter-widgets/controls",
            "_view_module_version": "1.5.0",
            "_view_name": "ProgressView",
            "bar_style": "success",
            "description": "",
            "description_tooltip": null,
            "layout": "IPY_MODEL_23d3646e09c44b26a323757837650eb9",
            "max": 9912422,
            "min": 0,
            "orientation": "horizontal",
            "style": "IPY_MODEL_1ae9c4633d134857af5365cb5b3bbd2c",
            "value": 9912422
          }
        },
        "c26903d7cc764a3bab1136faeac5f8df": {
          "model_module": "@jupyter-widgets/controls",
          "model_name": "HTMLModel",
          "model_module_version": "1.5.0",
          "state": {
            "_dom_classes": [],
            "_model_module": "@jupyter-widgets/controls",
            "_model_module_version": "1.5.0",
            "_model_name": "HTMLModel",
            "_view_count": null,
            "_view_module": "@jupyter-widgets/controls",
            "_view_module_version": "1.5.0",
            "_view_name": "HTMLView",
            "description": "",
            "description_tooltip": null,
            "layout": "IPY_MODEL_ab870d50d59b4c9886368595b4c1e7e2",
            "placeholder": "​",
            "style": "IPY_MODEL_69e2aeb44fbe438da82b3a5a6c9af5dc",
            "value": " 9912422/9912422 [00:00&lt;00:00, 38276631.91it/s]"
          }
        },
        "b4d38b93580c431db07c9c1bec5e83eb": {
          "model_module": "@jupyter-widgets/base",
          "model_name": "LayoutModel",
          "model_module_version": "1.2.0",
          "state": {
            "_model_module": "@jupyter-widgets/base",
            "_model_module_version": "1.2.0",
            "_model_name": "LayoutModel",
            "_view_count": null,
            "_view_module": "@jupyter-widgets/base",
            "_view_module_version": "1.2.0",
            "_view_name": "LayoutView",
            "align_content": null,
            "align_items": null,
            "align_self": null,
            "border": null,
            "bottom": null,
            "display": null,
            "flex": null,
            "flex_flow": null,
            "grid_area": null,
            "grid_auto_columns": null,
            "grid_auto_flow": null,
            "grid_auto_rows": null,
            "grid_column": null,
            "grid_gap": null,
            "grid_row": null,
            "grid_template_areas": null,
            "grid_template_columns": null,
            "grid_template_rows": null,
            "height": null,
            "justify_content": null,
            "justify_items": null,
            "left": null,
            "margin": null,
            "max_height": null,
            "max_width": null,
            "min_height": null,
            "min_width": null,
            "object_fit": null,
            "object_position": null,
            "order": null,
            "overflow": null,
            "overflow_x": null,
            "overflow_y": null,
            "padding": null,
            "right": null,
            "top": null,
            "visibility": null,
            "width": null
          }
        },
        "3da33130139e46589e4095207f1a24c8": {
          "model_module": "@jupyter-widgets/base",
          "model_name": "LayoutModel",
          "model_module_version": "1.2.0",
          "state": {
            "_model_module": "@jupyter-widgets/base",
            "_model_module_version": "1.2.0",
            "_model_name": "LayoutModel",
            "_view_count": null,
            "_view_module": "@jupyter-widgets/base",
            "_view_module_version": "1.2.0",
            "_view_name": "LayoutView",
            "align_content": null,
            "align_items": null,
            "align_self": null,
            "border": null,
            "bottom": null,
            "display": null,
            "flex": null,
            "flex_flow": null,
            "grid_area": null,
            "grid_auto_columns": null,
            "grid_auto_flow": null,
            "grid_auto_rows": null,
            "grid_column": null,
            "grid_gap": null,
            "grid_row": null,
            "grid_template_areas": null,
            "grid_template_columns": null,
            "grid_template_rows": null,
            "height": null,
            "justify_content": null,
            "justify_items": null,
            "left": null,
            "margin": null,
            "max_height": null,
            "max_width": null,
            "min_height": null,
            "min_width": null,
            "object_fit": null,
            "object_position": null,
            "order": null,
            "overflow": null,
            "overflow_x": null,
            "overflow_y": null,
            "padding": null,
            "right": null,
            "top": null,
            "visibility": null,
            "width": null
          }
        },
        "20a2625eaedf4ed18489067d1ede8aba": {
          "model_module": "@jupyter-widgets/controls",
          "model_name": "DescriptionStyleModel",
          "model_module_version": "1.5.0",
          "state": {
            "_model_module": "@jupyter-widgets/controls",
            "_model_module_version": "1.5.0",
            "_model_name": "DescriptionStyleModel",
            "_view_count": null,
            "_view_module": "@jupyter-widgets/base",
            "_view_module_version": "1.2.0",
            "_view_name": "StyleView",
            "description_width": ""
          }
        },
        "23d3646e09c44b26a323757837650eb9": {
          "model_module": "@jupyter-widgets/base",
          "model_name": "LayoutModel",
          "model_module_version": "1.2.0",
          "state": {
            "_model_module": "@jupyter-widgets/base",
            "_model_module_version": "1.2.0",
            "_model_name": "LayoutModel",
            "_view_count": null,
            "_view_module": "@jupyter-widgets/base",
            "_view_module_version": "1.2.0",
            "_view_name": "LayoutView",
            "align_content": null,
            "align_items": null,
            "align_self": null,
            "border": null,
            "bottom": null,
            "display": null,
            "flex": null,
            "flex_flow": null,
            "grid_area": null,
            "grid_auto_columns": null,
            "grid_auto_flow": null,
            "grid_auto_rows": null,
            "grid_column": null,
            "grid_gap": null,
            "grid_row": null,
            "grid_template_areas": null,
            "grid_template_columns": null,
            "grid_template_rows": null,
            "height": null,
            "justify_content": null,
            "justify_items": null,
            "left": null,
            "margin": null,
            "max_height": null,
            "max_width": null,
            "min_height": null,
            "min_width": null,
            "object_fit": null,
            "object_position": null,
            "order": null,
            "overflow": null,
            "overflow_x": null,
            "overflow_y": null,
            "padding": null,
            "right": null,
            "top": null,
            "visibility": null,
            "width": null
          }
        },
        "1ae9c4633d134857af5365cb5b3bbd2c": {
          "model_module": "@jupyter-widgets/controls",
          "model_name": "ProgressStyleModel",
          "model_module_version": "1.5.0",
          "state": {
            "_model_module": "@jupyter-widgets/controls",
            "_model_module_version": "1.5.0",
            "_model_name": "ProgressStyleModel",
            "_view_count": null,
            "_view_module": "@jupyter-widgets/base",
            "_view_module_version": "1.2.0",
            "_view_name": "StyleView",
            "bar_color": null,
            "description_width": ""
          }
        },
        "ab870d50d59b4c9886368595b4c1e7e2": {
          "model_module": "@jupyter-widgets/base",
          "model_name": "LayoutModel",
          "model_module_version": "1.2.0",
          "state": {
            "_model_module": "@jupyter-widgets/base",
            "_model_module_version": "1.2.0",
            "_model_name": "LayoutModel",
            "_view_count": null,
            "_view_module": "@jupyter-widgets/base",
            "_view_module_version": "1.2.0",
            "_view_name": "LayoutView",
            "align_content": null,
            "align_items": null,
            "align_self": null,
            "border": null,
            "bottom": null,
            "display": null,
            "flex": null,
            "flex_flow": null,
            "grid_area": null,
            "grid_auto_columns": null,
            "grid_auto_flow": null,
            "grid_auto_rows": null,
            "grid_column": null,
            "grid_gap": null,
            "grid_row": null,
            "grid_template_areas": null,
            "grid_template_columns": null,
            "grid_template_rows": null,
            "height": null,
            "justify_content": null,
            "justify_items": null,
            "left": null,
            "margin": null,
            "max_height": null,
            "max_width": null,
            "min_height": null,
            "min_width": null,
            "object_fit": null,
            "object_position": null,
            "order": null,
            "overflow": null,
            "overflow_x": null,
            "overflow_y": null,
            "padding": null,
            "right": null,
            "top": null,
            "visibility": null,
            "width": null
          }
        },
        "69e2aeb44fbe438da82b3a5a6c9af5dc": {
          "model_module": "@jupyter-widgets/controls",
          "model_name": "DescriptionStyleModel",
          "model_module_version": "1.5.0",
          "state": {
            "_model_module": "@jupyter-widgets/controls",
            "_model_module_version": "1.5.0",
            "_model_name": "DescriptionStyleModel",
            "_view_count": null,
            "_view_module": "@jupyter-widgets/base",
            "_view_module_version": "1.2.0",
            "_view_name": "StyleView",
            "description_width": ""
          }
        },
        "b8e082c8f29b4cd08d118993e0b9bf8d": {
          "model_module": "@jupyter-widgets/controls",
          "model_name": "HBoxModel",
          "model_module_version": "1.5.0",
          "state": {
            "_dom_classes": [],
            "_model_module": "@jupyter-widgets/controls",
            "_model_module_version": "1.5.0",
            "_model_name": "HBoxModel",
            "_view_count": null,
            "_view_module": "@jupyter-widgets/controls",
            "_view_module_version": "1.5.0",
            "_view_name": "HBoxView",
            "box_style": "",
            "children": [
              "IPY_MODEL_bac95701609f4a2baa96e877344b0ed1",
              "IPY_MODEL_989c7d181bf74b4ab0d0c7a7edd18626",
              "IPY_MODEL_2dc9ae5bfdb640258376b25f44ab9bdc"
            ],
            "layout": "IPY_MODEL_838fa5526a454101958b9f59db40d08c"
          }
        },
        "bac95701609f4a2baa96e877344b0ed1": {
          "model_module": "@jupyter-widgets/controls",
          "model_name": "HTMLModel",
          "model_module_version": "1.5.0",
          "state": {
            "_dom_classes": [],
            "_model_module": "@jupyter-widgets/controls",
            "_model_module_version": "1.5.0",
            "_model_name": "HTMLModel",
            "_view_count": null,
            "_view_module": "@jupyter-widgets/controls",
            "_view_module_version": "1.5.0",
            "_view_name": "HTMLView",
            "description": "",
            "description_tooltip": null,
            "layout": "IPY_MODEL_46d195e8b2b34fcaa8742e570701ee6a",
            "placeholder": "​",
            "style": "IPY_MODEL_0f5ab4cc137c4b128efd2a4f91efb670",
            "value": "100%"
          }
        },
        "989c7d181bf74b4ab0d0c7a7edd18626": {
          "model_module": "@jupyter-widgets/controls",
          "model_name": "FloatProgressModel",
          "model_module_version": "1.5.0",
          "state": {
            "_dom_classes": [],
            "_model_module": "@jupyter-widgets/controls",
            "_model_module_version": "1.5.0",
            "_model_name": "FloatProgressModel",
            "_view_count": null,
            "_view_module": "@jupyter-widgets/controls",
            "_view_module_version": "1.5.0",
            "_view_name": "ProgressView",
            "bar_style": "success",
            "description": "",
            "description_tooltip": null,
            "layout": "IPY_MODEL_90aa1079b5a04f1a81a591256d85afa1",
            "max": 28881,
            "min": 0,
            "orientation": "horizontal",
            "style": "IPY_MODEL_a7a7f380a14043d1b12dcc4cd908ca36",
            "value": 28881
          }
        },
        "2dc9ae5bfdb640258376b25f44ab9bdc": {
          "model_module": "@jupyter-widgets/controls",
          "model_name": "HTMLModel",
          "model_module_version": "1.5.0",
          "state": {
            "_dom_classes": [],
            "_model_module": "@jupyter-widgets/controls",
            "_model_module_version": "1.5.0",
            "_model_name": "HTMLModel",
            "_view_count": null,
            "_view_module": "@jupyter-widgets/controls",
            "_view_module_version": "1.5.0",
            "_view_name": "HTMLView",
            "description": "",
            "description_tooltip": null,
            "layout": "IPY_MODEL_e7f678fffd604ba6b78923e6507843b0",
            "placeholder": "​",
            "style": "IPY_MODEL_57f2400c1808465b8303f98eb12fe8a5",
            "value": " 28881/28881 [00:00&lt;00:00, 1472326.88it/s]"
          }
        },
        "838fa5526a454101958b9f59db40d08c": {
          "model_module": "@jupyter-widgets/base",
          "model_name": "LayoutModel",
          "model_module_version": "1.2.0",
          "state": {
            "_model_module": "@jupyter-widgets/base",
            "_model_module_version": "1.2.0",
            "_model_name": "LayoutModel",
            "_view_count": null,
            "_view_module": "@jupyter-widgets/base",
            "_view_module_version": "1.2.0",
            "_view_name": "LayoutView",
            "align_content": null,
            "align_items": null,
            "align_self": null,
            "border": null,
            "bottom": null,
            "display": null,
            "flex": null,
            "flex_flow": null,
            "grid_area": null,
            "grid_auto_columns": null,
            "grid_auto_flow": null,
            "grid_auto_rows": null,
            "grid_column": null,
            "grid_gap": null,
            "grid_row": null,
            "grid_template_areas": null,
            "grid_template_columns": null,
            "grid_template_rows": null,
            "height": null,
            "justify_content": null,
            "justify_items": null,
            "left": null,
            "margin": null,
            "max_height": null,
            "max_width": null,
            "min_height": null,
            "min_width": null,
            "object_fit": null,
            "object_position": null,
            "order": null,
            "overflow": null,
            "overflow_x": null,
            "overflow_y": null,
            "padding": null,
            "right": null,
            "top": null,
            "visibility": null,
            "width": null
          }
        },
        "46d195e8b2b34fcaa8742e570701ee6a": {
          "model_module": "@jupyter-widgets/base",
          "model_name": "LayoutModel",
          "model_module_version": "1.2.0",
          "state": {
            "_model_module": "@jupyter-widgets/base",
            "_model_module_version": "1.2.0",
            "_model_name": "LayoutModel",
            "_view_count": null,
            "_view_module": "@jupyter-widgets/base",
            "_view_module_version": "1.2.0",
            "_view_name": "LayoutView",
            "align_content": null,
            "align_items": null,
            "align_self": null,
            "border": null,
            "bottom": null,
            "display": null,
            "flex": null,
            "flex_flow": null,
            "grid_area": null,
            "grid_auto_columns": null,
            "grid_auto_flow": null,
            "grid_auto_rows": null,
            "grid_column": null,
            "grid_gap": null,
            "grid_row": null,
            "grid_template_areas": null,
            "grid_template_columns": null,
            "grid_template_rows": null,
            "height": null,
            "justify_content": null,
            "justify_items": null,
            "left": null,
            "margin": null,
            "max_height": null,
            "max_width": null,
            "min_height": null,
            "min_width": null,
            "object_fit": null,
            "object_position": null,
            "order": null,
            "overflow": null,
            "overflow_x": null,
            "overflow_y": null,
            "padding": null,
            "right": null,
            "top": null,
            "visibility": null,
            "width": null
          }
        },
        "0f5ab4cc137c4b128efd2a4f91efb670": {
          "model_module": "@jupyter-widgets/controls",
          "model_name": "DescriptionStyleModel",
          "model_module_version": "1.5.0",
          "state": {
            "_model_module": "@jupyter-widgets/controls",
            "_model_module_version": "1.5.0",
            "_model_name": "DescriptionStyleModel",
            "_view_count": null,
            "_view_module": "@jupyter-widgets/base",
            "_view_module_version": "1.2.0",
            "_view_name": "StyleView",
            "description_width": ""
          }
        },
        "90aa1079b5a04f1a81a591256d85afa1": {
          "model_module": "@jupyter-widgets/base",
          "model_name": "LayoutModel",
          "model_module_version": "1.2.0",
          "state": {
            "_model_module": "@jupyter-widgets/base",
            "_model_module_version": "1.2.0",
            "_model_name": "LayoutModel",
            "_view_count": null,
            "_view_module": "@jupyter-widgets/base",
            "_view_module_version": "1.2.0",
            "_view_name": "LayoutView",
            "align_content": null,
            "align_items": null,
            "align_self": null,
            "border": null,
            "bottom": null,
            "display": null,
            "flex": null,
            "flex_flow": null,
            "grid_area": null,
            "grid_auto_columns": null,
            "grid_auto_flow": null,
            "grid_auto_rows": null,
            "grid_column": null,
            "grid_gap": null,
            "grid_row": null,
            "grid_template_areas": null,
            "grid_template_columns": null,
            "grid_template_rows": null,
            "height": null,
            "justify_content": null,
            "justify_items": null,
            "left": null,
            "margin": null,
            "max_height": null,
            "max_width": null,
            "min_height": null,
            "min_width": null,
            "object_fit": null,
            "object_position": null,
            "order": null,
            "overflow": null,
            "overflow_x": null,
            "overflow_y": null,
            "padding": null,
            "right": null,
            "top": null,
            "visibility": null,
            "width": null
          }
        },
        "a7a7f380a14043d1b12dcc4cd908ca36": {
          "model_module": "@jupyter-widgets/controls",
          "model_name": "ProgressStyleModel",
          "model_module_version": "1.5.0",
          "state": {
            "_model_module": "@jupyter-widgets/controls",
            "_model_module_version": "1.5.0",
            "_model_name": "ProgressStyleModel",
            "_view_count": null,
            "_view_module": "@jupyter-widgets/base",
            "_view_module_version": "1.2.0",
            "_view_name": "StyleView",
            "bar_color": null,
            "description_width": ""
          }
        },
        "e7f678fffd604ba6b78923e6507843b0": {
          "model_module": "@jupyter-widgets/base",
          "model_name": "LayoutModel",
          "model_module_version": "1.2.0",
          "state": {
            "_model_module": "@jupyter-widgets/base",
            "_model_module_version": "1.2.0",
            "_model_name": "LayoutModel",
            "_view_count": null,
            "_view_module": "@jupyter-widgets/base",
            "_view_module_version": "1.2.0",
            "_view_name": "LayoutView",
            "align_content": null,
            "align_items": null,
            "align_self": null,
            "border": null,
            "bottom": null,
            "display": null,
            "flex": null,
            "flex_flow": null,
            "grid_area": null,
            "grid_auto_columns": null,
            "grid_auto_flow": null,
            "grid_auto_rows": null,
            "grid_column": null,
            "grid_gap": null,
            "grid_row": null,
            "grid_template_areas": null,
            "grid_template_columns": null,
            "grid_template_rows": null,
            "height": null,
            "justify_content": null,
            "justify_items": null,
            "left": null,
            "margin": null,
            "max_height": null,
            "max_width": null,
            "min_height": null,
            "min_width": null,
            "object_fit": null,
            "object_position": null,
            "order": null,
            "overflow": null,
            "overflow_x": null,
            "overflow_y": null,
            "padding": null,
            "right": null,
            "top": null,
            "visibility": null,
            "width": null
          }
        },
        "57f2400c1808465b8303f98eb12fe8a5": {
          "model_module": "@jupyter-widgets/controls",
          "model_name": "DescriptionStyleModel",
          "model_module_version": "1.5.0",
          "state": {
            "_model_module": "@jupyter-widgets/controls",
            "_model_module_version": "1.5.0",
            "_model_name": "DescriptionStyleModel",
            "_view_count": null,
            "_view_module": "@jupyter-widgets/base",
            "_view_module_version": "1.2.0",
            "_view_name": "StyleView",
            "description_width": ""
          }
        },
        "af9296fd3fc84b0588f513fd00d7400c": {
          "model_module": "@jupyter-widgets/controls",
          "model_name": "HBoxModel",
          "model_module_version": "1.5.0",
          "state": {
            "_dom_classes": [],
            "_model_module": "@jupyter-widgets/controls",
            "_model_module_version": "1.5.0",
            "_model_name": "HBoxModel",
            "_view_count": null,
            "_view_module": "@jupyter-widgets/controls",
            "_view_module_version": "1.5.0",
            "_view_name": "HBoxView",
            "box_style": "",
            "children": [
              "IPY_MODEL_573ec63f00b648f9b2c1d62b36cb8fa6",
              "IPY_MODEL_eb065eafe1104c53a1c6f7bf9d9a8b55",
              "IPY_MODEL_10d5fe80a5ae4c3c9a795b90025fbc2e"
            ],
            "layout": "IPY_MODEL_b2b19e9eaa194c798b94f2fc9dc16e44"
          }
        },
        "573ec63f00b648f9b2c1d62b36cb8fa6": {
          "model_module": "@jupyter-widgets/controls",
          "model_name": "HTMLModel",
          "model_module_version": "1.5.0",
          "state": {
            "_dom_classes": [],
            "_model_module": "@jupyter-widgets/controls",
            "_model_module_version": "1.5.0",
            "_model_name": "HTMLModel",
            "_view_count": null,
            "_view_module": "@jupyter-widgets/controls",
            "_view_module_version": "1.5.0",
            "_view_name": "HTMLView",
            "description": "",
            "description_tooltip": null,
            "layout": "IPY_MODEL_c542ac48ff934b0a8b297d9477bc9b10",
            "placeholder": "​",
            "style": "IPY_MODEL_e6d4eec3b5ec4529b2f6856ca99f024f",
            "value": "100%"
          }
        },
        "eb065eafe1104c53a1c6f7bf9d9a8b55": {
          "model_module": "@jupyter-widgets/controls",
          "model_name": "FloatProgressModel",
          "model_module_version": "1.5.0",
          "state": {
            "_dom_classes": [],
            "_model_module": "@jupyter-widgets/controls",
            "_model_module_version": "1.5.0",
            "_model_name": "FloatProgressModel",
            "_view_count": null,
            "_view_module": "@jupyter-widgets/controls",
            "_view_module_version": "1.5.0",
            "_view_name": "ProgressView",
            "bar_style": "success",
            "description": "",
            "description_tooltip": null,
            "layout": "IPY_MODEL_17d83353e0724546bbdd295c6a93ec29",
            "max": 1648877,
            "min": 0,
            "orientation": "horizontal",
            "style": "IPY_MODEL_5c303957f6304f518e7f0032c3787614",
            "value": 1648877
          }
        },
        "10d5fe80a5ae4c3c9a795b90025fbc2e": {
          "model_module": "@jupyter-widgets/controls",
          "model_name": "HTMLModel",
          "model_module_version": "1.5.0",
          "state": {
            "_dom_classes": [],
            "_model_module": "@jupyter-widgets/controls",
            "_model_module_version": "1.5.0",
            "_model_name": "HTMLModel",
            "_view_count": null,
            "_view_module": "@jupyter-widgets/controls",
            "_view_module_version": "1.5.0",
            "_view_name": "HTMLView",
            "description": "",
            "description_tooltip": null,
            "layout": "IPY_MODEL_fde96da01f8044a48e05685090d036ef",
            "placeholder": "​",
            "style": "IPY_MODEL_b5a1f75a97ac4391a4f2565891f79aeb",
            "value": " 1648877/1648877 [00:00&lt;00:00, 29849246.84it/s]"
          }
        },
        "b2b19e9eaa194c798b94f2fc9dc16e44": {
          "model_module": "@jupyter-widgets/base",
          "model_name": "LayoutModel",
          "model_module_version": "1.2.0",
          "state": {
            "_model_module": "@jupyter-widgets/base",
            "_model_module_version": "1.2.0",
            "_model_name": "LayoutModel",
            "_view_count": null,
            "_view_module": "@jupyter-widgets/base",
            "_view_module_version": "1.2.0",
            "_view_name": "LayoutView",
            "align_content": null,
            "align_items": null,
            "align_self": null,
            "border": null,
            "bottom": null,
            "display": null,
            "flex": null,
            "flex_flow": null,
            "grid_area": null,
            "grid_auto_columns": null,
            "grid_auto_flow": null,
            "grid_auto_rows": null,
            "grid_column": null,
            "grid_gap": null,
            "grid_row": null,
            "grid_template_areas": null,
            "grid_template_columns": null,
            "grid_template_rows": null,
            "height": null,
            "justify_content": null,
            "justify_items": null,
            "left": null,
            "margin": null,
            "max_height": null,
            "max_width": null,
            "min_height": null,
            "min_width": null,
            "object_fit": null,
            "object_position": null,
            "order": null,
            "overflow": null,
            "overflow_x": null,
            "overflow_y": null,
            "padding": null,
            "right": null,
            "top": null,
            "visibility": null,
            "width": null
          }
        },
        "c542ac48ff934b0a8b297d9477bc9b10": {
          "model_module": "@jupyter-widgets/base",
          "model_name": "LayoutModel",
          "model_module_version": "1.2.0",
          "state": {
            "_model_module": "@jupyter-widgets/base",
            "_model_module_version": "1.2.0",
            "_model_name": "LayoutModel",
            "_view_count": null,
            "_view_module": "@jupyter-widgets/base",
            "_view_module_version": "1.2.0",
            "_view_name": "LayoutView",
            "align_content": null,
            "align_items": null,
            "align_self": null,
            "border": null,
            "bottom": null,
            "display": null,
            "flex": null,
            "flex_flow": null,
            "grid_area": null,
            "grid_auto_columns": null,
            "grid_auto_flow": null,
            "grid_auto_rows": null,
            "grid_column": null,
            "grid_gap": null,
            "grid_row": null,
            "grid_template_areas": null,
            "grid_template_columns": null,
            "grid_template_rows": null,
            "height": null,
            "justify_content": null,
            "justify_items": null,
            "left": null,
            "margin": null,
            "max_height": null,
            "max_width": null,
            "min_height": null,
            "min_width": null,
            "object_fit": null,
            "object_position": null,
            "order": null,
            "overflow": null,
            "overflow_x": null,
            "overflow_y": null,
            "padding": null,
            "right": null,
            "top": null,
            "visibility": null,
            "width": null
          }
        },
        "e6d4eec3b5ec4529b2f6856ca99f024f": {
          "model_module": "@jupyter-widgets/controls",
          "model_name": "DescriptionStyleModel",
          "model_module_version": "1.5.0",
          "state": {
            "_model_module": "@jupyter-widgets/controls",
            "_model_module_version": "1.5.0",
            "_model_name": "DescriptionStyleModel",
            "_view_count": null,
            "_view_module": "@jupyter-widgets/base",
            "_view_module_version": "1.2.0",
            "_view_name": "StyleView",
            "description_width": ""
          }
        },
        "17d83353e0724546bbdd295c6a93ec29": {
          "model_module": "@jupyter-widgets/base",
          "model_name": "LayoutModel",
          "model_module_version": "1.2.0",
          "state": {
            "_model_module": "@jupyter-widgets/base",
            "_model_module_version": "1.2.0",
            "_model_name": "LayoutModel",
            "_view_count": null,
            "_view_module": "@jupyter-widgets/base",
            "_view_module_version": "1.2.0",
            "_view_name": "LayoutView",
            "align_content": null,
            "align_items": null,
            "align_self": null,
            "border": null,
            "bottom": null,
            "display": null,
            "flex": null,
            "flex_flow": null,
            "grid_area": null,
            "grid_auto_columns": null,
            "grid_auto_flow": null,
            "grid_auto_rows": null,
            "grid_column": null,
            "grid_gap": null,
            "grid_row": null,
            "grid_template_areas": null,
            "grid_template_columns": null,
            "grid_template_rows": null,
            "height": null,
            "justify_content": null,
            "justify_items": null,
            "left": null,
            "margin": null,
            "max_height": null,
            "max_width": null,
            "min_height": null,
            "min_width": null,
            "object_fit": null,
            "object_position": null,
            "order": null,
            "overflow": null,
            "overflow_x": null,
            "overflow_y": null,
            "padding": null,
            "right": null,
            "top": null,
            "visibility": null,
            "width": null
          }
        },
        "5c303957f6304f518e7f0032c3787614": {
          "model_module": "@jupyter-widgets/controls",
          "model_name": "ProgressStyleModel",
          "model_module_version": "1.5.0",
          "state": {
            "_model_module": "@jupyter-widgets/controls",
            "_model_module_version": "1.5.0",
            "_model_name": "ProgressStyleModel",
            "_view_count": null,
            "_view_module": "@jupyter-widgets/base",
            "_view_module_version": "1.2.0",
            "_view_name": "StyleView",
            "bar_color": null,
            "description_width": ""
          }
        },
        "fde96da01f8044a48e05685090d036ef": {
          "model_module": "@jupyter-widgets/base",
          "model_name": "LayoutModel",
          "model_module_version": "1.2.0",
          "state": {
            "_model_module": "@jupyter-widgets/base",
            "_model_module_version": "1.2.0",
            "_model_name": "LayoutModel",
            "_view_count": null,
            "_view_module": "@jupyter-widgets/base",
            "_view_module_version": "1.2.0",
            "_view_name": "LayoutView",
            "align_content": null,
            "align_items": null,
            "align_self": null,
            "border": null,
            "bottom": null,
            "display": null,
            "flex": null,
            "flex_flow": null,
            "grid_area": null,
            "grid_auto_columns": null,
            "grid_auto_flow": null,
            "grid_auto_rows": null,
            "grid_column": null,
            "grid_gap": null,
            "grid_row": null,
            "grid_template_areas": null,
            "grid_template_columns": null,
            "grid_template_rows": null,
            "height": null,
            "justify_content": null,
            "justify_items": null,
            "left": null,
            "margin": null,
            "max_height": null,
            "max_width": null,
            "min_height": null,
            "min_width": null,
            "object_fit": null,
            "object_position": null,
            "order": null,
            "overflow": null,
            "overflow_x": null,
            "overflow_y": null,
            "padding": null,
            "right": null,
            "top": null,
            "visibility": null,
            "width": null
          }
        },
        "b5a1f75a97ac4391a4f2565891f79aeb": {
          "model_module": "@jupyter-widgets/controls",
          "model_name": "DescriptionStyleModel",
          "model_module_version": "1.5.0",
          "state": {
            "_model_module": "@jupyter-widgets/controls",
            "_model_module_version": "1.5.0",
            "_model_name": "DescriptionStyleModel",
            "_view_count": null,
            "_view_module": "@jupyter-widgets/base",
            "_view_module_version": "1.2.0",
            "_view_name": "StyleView",
            "description_width": ""
          }
        },
        "ed881091891b4a1bbf261215f35e5ba6": {
          "model_module": "@jupyter-widgets/controls",
          "model_name": "HBoxModel",
          "model_module_version": "1.5.0",
          "state": {
            "_dom_classes": [],
            "_model_module": "@jupyter-widgets/controls",
            "_model_module_version": "1.5.0",
            "_model_name": "HBoxModel",
            "_view_count": null,
            "_view_module": "@jupyter-widgets/controls",
            "_view_module_version": "1.5.0",
            "_view_name": "HBoxView",
            "box_style": "",
            "children": [
              "IPY_MODEL_f84ad1d8d76b4a53b3db91aec8df20be",
              "IPY_MODEL_c4c9f0938ba948709ce8b7eda3f29d03",
              "IPY_MODEL_690fb583c684429c8ddf150c1e357a91"
            ],
            "layout": "IPY_MODEL_b1b9630c1c8d476cbae450c350002005"
          }
        },
        "f84ad1d8d76b4a53b3db91aec8df20be": {
          "model_module": "@jupyter-widgets/controls",
          "model_name": "HTMLModel",
          "model_module_version": "1.5.0",
          "state": {
            "_dom_classes": [],
            "_model_module": "@jupyter-widgets/controls",
            "_model_module_version": "1.5.0",
            "_model_name": "HTMLModel",
            "_view_count": null,
            "_view_module": "@jupyter-widgets/controls",
            "_view_module_version": "1.5.0",
            "_view_name": "HTMLView",
            "description": "",
            "description_tooltip": null,
            "layout": "IPY_MODEL_4f76bba9af0e4b8b930a6f06f3a06c26",
            "placeholder": "​",
            "style": "IPY_MODEL_c7ceaead0c6e42d7b0aef678672d4aca",
            "value": "100%"
          }
        },
        "c4c9f0938ba948709ce8b7eda3f29d03": {
          "model_module": "@jupyter-widgets/controls",
          "model_name": "FloatProgressModel",
          "model_module_version": "1.5.0",
          "state": {
            "_dom_classes": [],
            "_model_module": "@jupyter-widgets/controls",
            "_model_module_version": "1.5.0",
            "_model_name": "FloatProgressModel",
            "_view_count": null,
            "_view_module": "@jupyter-widgets/controls",
            "_view_module_version": "1.5.0",
            "_view_name": "ProgressView",
            "bar_style": "success",
            "description": "",
            "description_tooltip": null,
            "layout": "IPY_MODEL_5808cd6a129c4f9dbd9a0851a6867828",
            "max": 4542,
            "min": 0,
            "orientation": "horizontal",
            "style": "IPY_MODEL_677eb37f892a4a6d8b62fa7d7daa3caf",
            "value": 4542
          }
        },
        "690fb583c684429c8ddf150c1e357a91": {
          "model_module": "@jupyter-widgets/controls",
          "model_name": "HTMLModel",
          "model_module_version": "1.5.0",
          "state": {
            "_dom_classes": [],
            "_model_module": "@jupyter-widgets/controls",
            "_model_module_version": "1.5.0",
            "_model_name": "HTMLModel",
            "_view_count": null,
            "_view_module": "@jupyter-widgets/controls",
            "_view_module_version": "1.5.0",
            "_view_name": "HTMLView",
            "description": "",
            "description_tooltip": null,
            "layout": "IPY_MODEL_70f859701f1d4ddaa802ebb04f86ad2d",
            "placeholder": "​",
            "style": "IPY_MODEL_9f11e2f5b3cf41b6b2223ef8590c25b5",
            "value": " 4542/4542 [00:00&lt;00:00, 330772.80it/s]"
          }
        },
        "b1b9630c1c8d476cbae450c350002005": {
          "model_module": "@jupyter-widgets/base",
          "model_name": "LayoutModel",
          "model_module_version": "1.2.0",
          "state": {
            "_model_module": "@jupyter-widgets/base",
            "_model_module_version": "1.2.0",
            "_model_name": "LayoutModel",
            "_view_count": null,
            "_view_module": "@jupyter-widgets/base",
            "_view_module_version": "1.2.0",
            "_view_name": "LayoutView",
            "align_content": null,
            "align_items": null,
            "align_self": null,
            "border": null,
            "bottom": null,
            "display": null,
            "flex": null,
            "flex_flow": null,
            "grid_area": null,
            "grid_auto_columns": null,
            "grid_auto_flow": null,
            "grid_auto_rows": null,
            "grid_column": null,
            "grid_gap": null,
            "grid_row": null,
            "grid_template_areas": null,
            "grid_template_columns": null,
            "grid_template_rows": null,
            "height": null,
            "justify_content": null,
            "justify_items": null,
            "left": null,
            "margin": null,
            "max_height": null,
            "max_width": null,
            "min_height": null,
            "min_width": null,
            "object_fit": null,
            "object_position": null,
            "order": null,
            "overflow": null,
            "overflow_x": null,
            "overflow_y": null,
            "padding": null,
            "right": null,
            "top": null,
            "visibility": null,
            "width": null
          }
        },
        "4f76bba9af0e4b8b930a6f06f3a06c26": {
          "model_module": "@jupyter-widgets/base",
          "model_name": "LayoutModel",
          "model_module_version": "1.2.0",
          "state": {
            "_model_module": "@jupyter-widgets/base",
            "_model_module_version": "1.2.0",
            "_model_name": "LayoutModel",
            "_view_count": null,
            "_view_module": "@jupyter-widgets/base",
            "_view_module_version": "1.2.0",
            "_view_name": "LayoutView",
            "align_content": null,
            "align_items": null,
            "align_self": null,
            "border": null,
            "bottom": null,
            "display": null,
            "flex": null,
            "flex_flow": null,
            "grid_area": null,
            "grid_auto_columns": null,
            "grid_auto_flow": null,
            "grid_auto_rows": null,
            "grid_column": null,
            "grid_gap": null,
            "grid_row": null,
            "grid_template_areas": null,
            "grid_template_columns": null,
            "grid_template_rows": null,
            "height": null,
            "justify_content": null,
            "justify_items": null,
            "left": null,
            "margin": null,
            "max_height": null,
            "max_width": null,
            "min_height": null,
            "min_width": null,
            "object_fit": null,
            "object_position": null,
            "order": null,
            "overflow": null,
            "overflow_x": null,
            "overflow_y": null,
            "padding": null,
            "right": null,
            "top": null,
            "visibility": null,
            "width": null
          }
        },
        "c7ceaead0c6e42d7b0aef678672d4aca": {
          "model_module": "@jupyter-widgets/controls",
          "model_name": "DescriptionStyleModel",
          "model_module_version": "1.5.0",
          "state": {
            "_model_module": "@jupyter-widgets/controls",
            "_model_module_version": "1.5.0",
            "_model_name": "DescriptionStyleModel",
            "_view_count": null,
            "_view_module": "@jupyter-widgets/base",
            "_view_module_version": "1.2.0",
            "_view_name": "StyleView",
            "description_width": ""
          }
        },
        "5808cd6a129c4f9dbd9a0851a6867828": {
          "model_module": "@jupyter-widgets/base",
          "model_name": "LayoutModel",
          "model_module_version": "1.2.0",
          "state": {
            "_model_module": "@jupyter-widgets/base",
            "_model_module_version": "1.2.0",
            "_model_name": "LayoutModel",
            "_view_count": null,
            "_view_module": "@jupyter-widgets/base",
            "_view_module_version": "1.2.0",
            "_view_name": "LayoutView",
            "align_content": null,
            "align_items": null,
            "align_self": null,
            "border": null,
            "bottom": null,
            "display": null,
            "flex": null,
            "flex_flow": null,
            "grid_area": null,
            "grid_auto_columns": null,
            "grid_auto_flow": null,
            "grid_auto_rows": null,
            "grid_column": null,
            "grid_gap": null,
            "grid_row": null,
            "grid_template_areas": null,
            "grid_template_columns": null,
            "grid_template_rows": null,
            "height": null,
            "justify_content": null,
            "justify_items": null,
            "left": null,
            "margin": null,
            "max_height": null,
            "max_width": null,
            "min_height": null,
            "min_width": null,
            "object_fit": null,
            "object_position": null,
            "order": null,
            "overflow": null,
            "overflow_x": null,
            "overflow_y": null,
            "padding": null,
            "right": null,
            "top": null,
            "visibility": null,
            "width": null
          }
        },
        "677eb37f892a4a6d8b62fa7d7daa3caf": {
          "model_module": "@jupyter-widgets/controls",
          "model_name": "ProgressStyleModel",
          "model_module_version": "1.5.0",
          "state": {
            "_model_module": "@jupyter-widgets/controls",
            "_model_module_version": "1.5.0",
            "_model_name": "ProgressStyleModel",
            "_view_count": null,
            "_view_module": "@jupyter-widgets/base",
            "_view_module_version": "1.2.0",
            "_view_name": "StyleView",
            "bar_color": null,
            "description_width": ""
          }
        },
        "70f859701f1d4ddaa802ebb04f86ad2d": {
          "model_module": "@jupyter-widgets/base",
          "model_name": "LayoutModel",
          "model_module_version": "1.2.0",
          "state": {
            "_model_module": "@jupyter-widgets/base",
            "_model_module_version": "1.2.0",
            "_model_name": "LayoutModel",
            "_view_count": null,
            "_view_module": "@jupyter-widgets/base",
            "_view_module_version": "1.2.0",
            "_view_name": "LayoutView",
            "align_content": null,
            "align_items": null,
            "align_self": null,
            "border": null,
            "bottom": null,
            "display": null,
            "flex": null,
            "flex_flow": null,
            "grid_area": null,
            "grid_auto_columns": null,
            "grid_auto_flow": null,
            "grid_auto_rows": null,
            "grid_column": null,
            "grid_gap": null,
            "grid_row": null,
            "grid_template_areas": null,
            "grid_template_columns": null,
            "grid_template_rows": null,
            "height": null,
            "justify_content": null,
            "justify_items": null,
            "left": null,
            "margin": null,
            "max_height": null,
            "max_width": null,
            "min_height": null,
            "min_width": null,
            "object_fit": null,
            "object_position": null,
            "order": null,
            "overflow": null,
            "overflow_x": null,
            "overflow_y": null,
            "padding": null,
            "right": null,
            "top": null,
            "visibility": null,
            "width": null
          }
        },
        "9f11e2f5b3cf41b6b2223ef8590c25b5": {
          "model_module": "@jupyter-widgets/controls",
          "model_name": "DescriptionStyleModel",
          "model_module_version": "1.5.0",
          "state": {
            "_model_module": "@jupyter-widgets/controls",
            "_model_module_version": "1.5.0",
            "_model_name": "DescriptionStyleModel",
            "_view_count": null,
            "_view_module": "@jupyter-widgets/base",
            "_view_module_version": "1.2.0",
            "_view_name": "StyleView",
            "description_width": ""
          }
        }
      }
    },
    "accelerator": "GPU",
    "gpuClass": "standard"
  },
  "cells": [
    {
      "cell_type": "code",
      "execution_count": 1,
      "metadata": {
        "id": "BHBF5HYVkHbZ"
      },
      "outputs": [],
      "source": [
        "import torch\n",
        "from torch.utils.data import DataLoader, Dataset\n",
        "import torch.nn as nn\n",
        "import torch.nn.functional as F\n",
        "import math"
      ]
    },
    {
      "cell_type": "code",
      "source": [
        "import numpy as np"
      ],
      "metadata": {
        "id": "xWLF4riIv05P"
      },
      "execution_count": 2,
      "outputs": []
    },
    {
      "cell_type": "code",
      "source": [
        "torch.manual_seed(1)"
      ],
      "metadata": {
        "colab": {
          "base_uri": "https://localhost:8080/"
        },
        "id": "VFCB-CxgarNF",
        "outputId": "9b8801f1-57e7-40ae-a10f-b04ef3f7b18b"
      },
      "execution_count": 3,
      "outputs": [
        {
          "output_type": "execute_result",
          "data": {
            "text/plain": [
              "<torch._C.Generator at 0x7f9e6c66aab0>"
            ]
          },
          "metadata": {},
          "execution_count": 3
        }
      ]
    },
    {
      "cell_type": "code",
      "source": [
        "device=torch.device(0)\n",
        "print(device)\n",
        "\n",
        "# device='cuda'"
      ],
      "metadata": {
        "colab": {
          "base_uri": "https://localhost:8080/"
        },
        "id": "vODB1rmd7xXZ",
        "outputId": "3db20bd1-28d5-424e-b116-42624441e358"
      },
      "execution_count": 4,
      "outputs": [
        {
          "output_type": "stream",
          "name": "stdout",
          "text": [
            "cuda:0\n"
          ]
        }
      ]
    },
    {
      "cell_type": "markdown",
      "source": [
        "## Data loading"
      ],
      "metadata": {
        "id": "u2MvALgeBclk"
      }
    },
    {
      "cell_type": "code",
      "source": [
        "# https://medium.com/@nutanbhogendrasharma/pytorch-convolutional-neural-network-with-mnist-dataset-4e8a4265e118\n",
        "from torchvision import datasets\n",
        "from torchvision.transforms import ToTensor\n",
        "train_data = datasets.MNIST(\n",
        "    root = 'data',\n",
        "    train = True,                         \n",
        "    transform = ToTensor(), \n",
        "    download = True,            \n",
        ")"
      ],
      "metadata": {
        "colab": {
          "base_uri": "https://localhost:8080/",
          "height": 423,
          "referenced_widgets": [
            "64d77576edb34dbf8bfcf1db629b50ea",
            "934d5fbb287e4885a773b7ee54c501e0",
            "e3b0c56e1ba6467691c031777be5361c",
            "c26903d7cc764a3bab1136faeac5f8df",
            "b4d38b93580c431db07c9c1bec5e83eb",
            "3da33130139e46589e4095207f1a24c8",
            "20a2625eaedf4ed18489067d1ede8aba",
            "23d3646e09c44b26a323757837650eb9",
            "1ae9c4633d134857af5365cb5b3bbd2c",
            "ab870d50d59b4c9886368595b4c1e7e2",
            "69e2aeb44fbe438da82b3a5a6c9af5dc",
            "b8e082c8f29b4cd08d118993e0b9bf8d",
            "bac95701609f4a2baa96e877344b0ed1",
            "989c7d181bf74b4ab0d0c7a7edd18626",
            "2dc9ae5bfdb640258376b25f44ab9bdc",
            "838fa5526a454101958b9f59db40d08c",
            "46d195e8b2b34fcaa8742e570701ee6a",
            "0f5ab4cc137c4b128efd2a4f91efb670",
            "90aa1079b5a04f1a81a591256d85afa1",
            "a7a7f380a14043d1b12dcc4cd908ca36",
            "e7f678fffd604ba6b78923e6507843b0",
            "57f2400c1808465b8303f98eb12fe8a5",
            "af9296fd3fc84b0588f513fd00d7400c",
            "573ec63f00b648f9b2c1d62b36cb8fa6",
            "eb065eafe1104c53a1c6f7bf9d9a8b55",
            "10d5fe80a5ae4c3c9a795b90025fbc2e",
            "b2b19e9eaa194c798b94f2fc9dc16e44",
            "c542ac48ff934b0a8b297d9477bc9b10",
            "e6d4eec3b5ec4529b2f6856ca99f024f",
            "17d83353e0724546bbdd295c6a93ec29",
            "5c303957f6304f518e7f0032c3787614",
            "fde96da01f8044a48e05685090d036ef",
            "b5a1f75a97ac4391a4f2565891f79aeb",
            "ed881091891b4a1bbf261215f35e5ba6",
            "f84ad1d8d76b4a53b3db91aec8df20be",
            "c4c9f0938ba948709ce8b7eda3f29d03",
            "690fb583c684429c8ddf150c1e357a91",
            "b1b9630c1c8d476cbae450c350002005",
            "4f76bba9af0e4b8b930a6f06f3a06c26",
            "c7ceaead0c6e42d7b0aef678672d4aca",
            "5808cd6a129c4f9dbd9a0851a6867828",
            "677eb37f892a4a6d8b62fa7d7daa3caf",
            "70f859701f1d4ddaa802ebb04f86ad2d",
            "9f11e2f5b3cf41b6b2223ef8590c25b5"
          ]
        },
        "id": "U9OLKWC_awm4",
        "outputId": "4a0892b1-8b6b-48bf-c375-8ea97f7ff38c"
      },
      "execution_count": 15,
      "outputs": [
        {
          "output_type": "stream",
          "name": "stdout",
          "text": [
            "Downloading http://yann.lecun.com/exdb/mnist/train-images-idx3-ubyte.gz\n",
            "Downloading http://yann.lecun.com/exdb/mnist/train-images-idx3-ubyte.gz to data/MNIST/raw/train-images-idx3-ubyte.gz\n"
          ]
        },
        {
          "output_type": "display_data",
          "data": {
            "text/plain": [
              "  0%|          | 0/9912422 [00:00<?, ?it/s]"
            ],
            "application/vnd.jupyter.widget-view+json": {
              "version_major": 2,
              "version_minor": 0,
              "model_id": "64d77576edb34dbf8bfcf1db629b50ea"
            }
          },
          "metadata": {}
        },
        {
          "output_type": "stream",
          "name": "stdout",
          "text": [
            "Extracting data/MNIST/raw/train-images-idx3-ubyte.gz to data/MNIST/raw\n",
            "\n",
            "Downloading http://yann.lecun.com/exdb/mnist/train-labels-idx1-ubyte.gz\n",
            "Downloading http://yann.lecun.com/exdb/mnist/train-labels-idx1-ubyte.gz to data/MNIST/raw/train-labels-idx1-ubyte.gz\n"
          ]
        },
        {
          "output_type": "display_data",
          "data": {
            "text/plain": [
              "  0%|          | 0/28881 [00:00<?, ?it/s]"
            ],
            "application/vnd.jupyter.widget-view+json": {
              "version_major": 2,
              "version_minor": 0,
              "model_id": "b8e082c8f29b4cd08d118993e0b9bf8d"
            }
          },
          "metadata": {}
        },
        {
          "output_type": "stream",
          "name": "stdout",
          "text": [
            "Extracting data/MNIST/raw/train-labels-idx1-ubyte.gz to data/MNIST/raw\n",
            "\n",
            "Downloading http://yann.lecun.com/exdb/mnist/t10k-images-idx3-ubyte.gz\n",
            "Downloading http://yann.lecun.com/exdb/mnist/t10k-images-idx3-ubyte.gz to data/MNIST/raw/t10k-images-idx3-ubyte.gz\n"
          ]
        },
        {
          "output_type": "display_data",
          "data": {
            "text/plain": [
              "  0%|          | 0/1648877 [00:00<?, ?it/s]"
            ],
            "application/vnd.jupyter.widget-view+json": {
              "version_major": 2,
              "version_minor": 0,
              "model_id": "af9296fd3fc84b0588f513fd00d7400c"
            }
          },
          "metadata": {}
        },
        {
          "output_type": "stream",
          "name": "stdout",
          "text": [
            "Extracting data/MNIST/raw/t10k-images-idx3-ubyte.gz to data/MNIST/raw\n",
            "\n",
            "Downloading http://yann.lecun.com/exdb/mnist/t10k-labels-idx1-ubyte.gz\n",
            "Downloading http://yann.lecun.com/exdb/mnist/t10k-labels-idx1-ubyte.gz to data/MNIST/raw/t10k-labels-idx1-ubyte.gz\n"
          ]
        },
        {
          "output_type": "display_data",
          "data": {
            "text/plain": [
              "  0%|          | 0/4542 [00:00<?, ?it/s]"
            ],
            "application/vnd.jupyter.widget-view+json": {
              "version_major": 2,
              "version_minor": 0,
              "model_id": "ed881091891b4a1bbf261215f35e5ba6"
            }
          },
          "metadata": {}
        },
        {
          "output_type": "stream",
          "name": "stdout",
          "text": [
            "Extracting data/MNIST/raw/t10k-labels-idx1-ubyte.gz to data/MNIST/raw\n",
            "\n"
          ]
        }
      ]
    },
    {
      "cell_type": "code",
      "source": [
        "train_data.data.shape"
      ],
      "metadata": {
        "colab": {
          "base_uri": "https://localhost:8080/"
        },
        "id": "mALiz1XAEvbM",
        "outputId": "b8a23bed-9158-4b5b-ea94-b7481185bd48"
      },
      "execution_count": 48,
      "outputs": [
        {
          "output_type": "execute_result",
          "data": {
            "text/plain": [
              "torch.Size([18623, 28, 28])"
            ]
          },
          "metadata": {},
          "execution_count": 48
        }
      ]
    },
    {
      "cell_type": "code",
      "source": [
        "train_data.data[0].dtype"
      ],
      "metadata": {
        "colab": {
          "base_uri": "https://localhost:8080/"
        },
        "id": "d3PX8uaZ3qGj",
        "outputId": "70a362e7-4a6d-425f-d180-a21855f39693"
      },
      "execution_count": null,
      "outputs": [
        {
          "output_type": "execute_result",
          "data": {
            "text/plain": [
              "torch.uint8"
            ]
          },
          "metadata": {},
          "execution_count": 9
        }
      ]
    },
    {
      "cell_type": "code",
      "source": [
        "test_data = datasets.MNIST(\n",
        "    root = 'data', \n",
        "    train = False, \n",
        "    transform = ToTensor()\n",
        ")"
      ],
      "metadata": {
        "id": "zIGw3jL7irHp"
      },
      "execution_count": 16,
      "outputs": []
    },
    {
      "cell_type": "code",
      "source": [
        "train_idx = (train_data.targets==0) | (train_data.targets==1) | (train_data.targets==2)\n",
        "test_idx = (test_data.targets==0) | (test_data.targets==1) | (test_data.targets==2)\n",
        "\n",
        "train_data.data = train_data.data[train_idx]\n",
        "train_data.targets = train_data.targets[train_idx]\n",
        "test_data.data = test_data.data[test_idx]\n",
        "test_data.targets = test_data.targets[test_idx]"
      ],
      "metadata": {
        "id": "zu4gdE2moF4D"
      },
      "execution_count": 17,
      "outputs": []
    },
    {
      "cell_type": "code",
      "source": [
        "from torch.utils.data import DataLoader\n",
        "loaders = {\n",
        "    'train' : torch.utils.data.DataLoader(train_data, \n",
        "                                          batch_size=100, \n",
        "                                          shuffle=True, \n",
        "                                          num_workers=1),\n",
        "\n",
        "    'test'  : torch.utils.data.DataLoader(test_data, \n",
        "                                          batch_size=100, \n",
        "                                          shuffle=True, \n",
        "                                          num_workers=0),\n",
        "}\n",
        "loaders"
      ],
      "metadata": {
        "colab": {
          "base_uri": "https://localhost:8080/"
        },
        "id": "9knN386H6WcS",
        "outputId": "7b420c6c-b462-4177-dca3-57b10a6467be"
      },
      "execution_count": 18,
      "outputs": [
        {
          "output_type": "execute_result",
          "data": {
            "text/plain": [
              "{'train': <torch.utils.data.dataloader.DataLoader at 0x7f9e61ff37f0>,\n",
              " 'test': <torch.utils.data.dataloader.DataLoader at 0x7f9e61ff3ca0>}"
            ]
          },
          "metadata": {},
          "execution_count": 18
        }
      ]
    },
    {
      "cell_type": "code",
      "source": [
        "sample = next(iter(loaders['train']))\n",
        "imgs, lbls = sample\n",
        "imgs.shape"
      ],
      "metadata": {
        "colab": {
          "base_uri": "https://localhost:8080/"
        },
        "id": "UUbrQ9r-8Sam",
        "outputId": "f9600c8b-45b9-4eac-a36c-566ac7431011"
      },
      "execution_count": 38,
      "outputs": [
        {
          "output_type": "execute_result",
          "data": {
            "text/plain": [
              "torch.Size([100, 1, 28, 28])"
            ]
          },
          "metadata": {},
          "execution_count": 38
        }
      ]
    },
    {
      "cell_type": "markdown",
      "source": [
        "## GenerateCNN class and test cases"
      ],
      "metadata": {
        "id": "_gx0aDJ2Bmm7"
      }
    },
    {
      "cell_type": "code",
      "source": [
        "# TODO: Account for PADDING -> assuming 0 for now\n",
        "# TODO: Make work for list params for image size, filter size etc (i.e. non square inputs) -> assuming square inputs\n",
        "\n",
        "class GenerateCNN(nn.Module):\n",
        "    def __init__(self, network_tuples, n_init_channels, n_classes=3):\n",
        "      '''\n",
        "      network_tuples: list of tuples defining network. Params:\n",
        "        layer_type,        # String -- conv, pool, fc, softmax\n",
        "        layer_depth,       # Current depth of network\n",
        "        filter_depth,      # Used for conv, 0 when not conv\n",
        "        filter_size,       # Used for conv and pool, 0 otherwise\n",
        "        stride,            # Used for conv and pool, 0 otherwise\n",
        "        image_size,        # Used for any layer that maintains square input (conv and pool), 0 otherwise\n",
        "        fc_size,           # Used for fc and softmax -- number of neurons in layer\n",
        "        terminate,\n",
        "        state_list \n",
        "      n_init_channels: no of channels in dataset images\n",
        "      '''\n",
        "      super(GenerateCNN, self).__init__()\n",
        "      self.layers=nn.ModuleList()\n",
        "\n",
        "      in_filter=None\n",
        "      running_image_size=None\n",
        "      firstFC=True\n",
        "      running_fc_size=None\n",
        "\n",
        "      for i,state in enumerate(network_tuples):\n",
        "        \n",
        "        layer_type, layer_depth, filter_depth, filter_size, stride, image_size, fc_size, terminate, state_list = state\n",
        "        \n",
        "        # print(running_image_size, in_filter)\n",
        "        if layer_type=='conv':\n",
        "          assert filter_depth != 0, \"filter_depth to conv layer must be non-zero\"\n",
        "\n",
        "          if i==0:\n",
        "            self.layers.append(nn.Conv2d(n_init_channels,filter_depth, filter_size, stride))\n",
        "            running_image_size=image_size\n",
        "          else:\n",
        "            self.layers.append(nn.Conv2d(in_filter,filter_depth, filter_size, stride))\n",
        "          in_filter=filter_depth\n",
        "          running_image_size=self._calc_new_image_size(running_image_size, filter_size, stride)\n",
        "\n",
        "\n",
        "        elif layer_type=='pool':\n",
        "          if i==0:\n",
        "            # self.layers.append(nn.MaxPool2d(filter_size, stride))\n",
        "            running_image_size=image_size\n",
        "            in_filter=n_init_channels\n",
        "\n",
        "          self.layers.append(nn.MaxPool2d(filter_size, stride))\n",
        "          running_image_size=self._calc_new_image_size(running_image_size, filter_size, stride)\n",
        "\n",
        "\n",
        "        elif layer_type=='fc':\n",
        "\n",
        "          # assert image_size == 0, \"Image size to fc layer must be 0, is {}\".format(image_size)\n",
        "          if firstFC:\n",
        "            firstFC=False\n",
        "            image_size_unroll=running_image_size**2 # NOTE: assumption of only square images\n",
        "            image_size_unroll*=in_filter\n",
        "            # print('Unrolled img size:',image_size_unroll)\n",
        "            # self.layers.append(nn.Flatten())\n",
        "            self.layers.append(nn.Linear(image_size_unroll,fc_size))\n",
        "            \n",
        "          else:\n",
        "            self.layers.append(nn.Linear(running_fc_size,fc_size))\n",
        "          running_fc_size=fc_size\n",
        "      \n",
        "      # get the last layer and check\n",
        "      # if lastlayer == FC AND has 3 out: Do nothing\n",
        "      # if lastlayer == FC But not 3 out: Add FC with 3 Out\n",
        "      # if lastlayer != FC -> Flatten -> Add FC with 3 Out\n",
        "      lastlayer=self.layers[-1]\n",
        "      if (isinstance(lastlayer, nn.Linear) and lastlayer.out_features!=n_classes):\n",
        "          print(lastlayer.out_features)\n",
        "          # self.layers.append(nn.Flatten())\n",
        "          self.layers.append(nn.Linear(lastlayer.out_features, n_classes))\n",
        "          \n",
        "      elif isinstance(lastlayer, nn.Conv2d) or isinstance(lastlayer, nn.MaxPool2d):\n",
        "          self.layers.append(nn.Flatten())\n",
        "          image_size_unroll=running_image_size**2 # NOTE: assumption of only square images\n",
        "          image_size_unroll*=in_filter\n",
        "          # print('Unrolled img size:',image_size_unroll)\n",
        "\n",
        "          self.layers.append(nn.Linear(image_size_unroll,n_classes))         \n",
        "        \n",
        "        \n",
        "\n",
        "\n",
        "      # https://github.com/bowenbaker/metaqnn/blob/a25847f635e9545455f83405453e740646038f7a/libs/grammar/state_enumerator.py#L207\n",
        "    def _calc_new_image_size(self, image_size, filter_size, stride):\n",
        "      '''Returns new image size given previous image size and filter parameters'''\n",
        "      new_size = int(math.ceil(float(image_size - filter_size + 1) / float(stride)))\n",
        "      return new_size\n",
        "\n",
        "    def forward(self, x):\n",
        "      for layer in self.layers:\n",
        "        if isinstance(layer, nn.Conv2d):\n",
        "          layer_type='conv'\n",
        "        elif isinstance(layer, nn.MaxPool2d):\n",
        "          layer_type='mp'\n",
        "        elif isinstance(layer, nn.Linear):\n",
        "          x=x.view(x.shape[0],-1) #flatten before a linear layer\n",
        "        x=layer(x)\n",
        "        # print(layer_type, x.shape)\n",
        "      \n",
        "      return x\n"
      ],
      "metadata": {
        "id": "o5JK5oT6aLbi"
      },
      "execution_count": 63,
      "outputs": []
    },
    {
      "cell_type": "markdown",
      "source": [
        "### 1. (conv>pool>conv>pool>fc>fc)"
      ],
      "metadata": {
        "id": "TOKkhVtdBzNo"
      }
    },
    {
      "cell_type": "code",
      "source": [
        "#testcase 1: last layer correct\n",
        "model = GenerateCNN([('conv',1,5,3,1,28,0,0,[]),('pool',1,0,2,2,28,0,0,[]),('conv',1,10,3,1,26,0,0,[]),('pool',1,0,2,2,28,0,0,[]),('fc',0,0,0,0,0,100,0,[]),('fc',0,0,0,0,0,10,0,[])], 1, n_classes=10)\n",
        "print(model)\n",
        "model.to(device)"
      ],
      "metadata": {
        "id": "dubBTSZ9Bx0X"
      },
      "execution_count": null,
      "outputs": []
    },
    {
      "cell_type": "markdown",
      "source": [
        "### 2. Last layer FC out_features != n_classes"
      ],
      "metadata": {
        "id": "BOJcO5tDB6wG"
      }
    },
    {
      "cell_type": "code",
      "source": [
        "#test case 2: last layer fc, incorrect\n",
        "model = GenerateCNN([('conv',1,5,3,1,28,0,0,[]),('pool',1,0,2,2,28,0,0,[]),('conv',1,10,3,1,26,0,0,[]),('pool',1,0,2,2,28,0,0,[]),('fc',0,0,0,0,0,100,0,[])], 1, n_classes=10)\n",
        "print(model)\n",
        "model.to(device)"
      ],
      "metadata": {
        "colab": {
          "base_uri": "https://localhost:8080/"
        },
        "id": "r4-xUXyNmzGM",
        "outputId": "8dffdd43-af79-4005-98d5-31e8e2d225ab"
      },
      "execution_count": 9,
      "outputs": [
        {
          "output_type": "stream",
          "name": "stdout",
          "text": [
            "100\n",
            "GenerateCNN(\n",
            "  (layers): ModuleList(\n",
            "    (0): Conv2d(1, 5, kernel_size=(3, 3), stride=(1, 1))\n",
            "    (1): MaxPool2d(kernel_size=2, stride=2, padding=0, dilation=1, ceil_mode=False)\n",
            "    (2): Conv2d(5, 10, kernel_size=(3, 3), stride=(1, 1))\n",
            "    (3): MaxPool2d(kernel_size=2, stride=2, padding=0, dilation=1, ceil_mode=False)\n",
            "    (4): Linear(in_features=250, out_features=100, bias=True)\n",
            "    (5): Linear(in_features=100, out_features=10, bias=True)\n",
            "  )\n",
            ")\n"
          ]
        },
        {
          "output_type": "execute_result",
          "data": {
            "text/plain": [
              "GenerateCNN(\n",
              "  (layers): ModuleList(\n",
              "    (0): Conv2d(1, 5, kernel_size=(3, 3), stride=(1, 1))\n",
              "    (1): MaxPool2d(kernel_size=2, stride=2, padding=0, dilation=1, ceil_mode=False)\n",
              "    (2): Conv2d(5, 10, kernel_size=(3, 3), stride=(1, 1))\n",
              "    (3): MaxPool2d(kernel_size=2, stride=2, padding=0, dilation=1, ceil_mode=False)\n",
              "    (4): Linear(in_features=250, out_features=100, bias=True)\n",
              "    (5): Linear(in_features=100, out_features=10, bias=True)\n",
              "  )\n",
              ")"
            ]
          },
          "metadata": {},
          "execution_count": 9
        }
      ]
    },
    {
      "cell_type": "markdown",
      "source": [
        "### 3. Last layer Conv"
      ],
      "metadata": {
        "id": "e5srWU93CEUx"
      }
    },
    {
      "cell_type": "code",
      "source": [
        "#test case 3: last layer conv\n",
        "model = GenerateCNN([('conv',1,5,3,1,28,0,0,[]),('pool',1,0,2,2,28,0,0,[]),('conv',1,10,3,1,26,0,0,[])], 1, n_classes=3)\n",
        "print(model)\n",
        "model.to(device)"
      ],
      "metadata": {
        "colab": {
          "base_uri": "https://localhost:8080/"
        },
        "id": "zOpMZwr5nmsM",
        "outputId": "dd1834ef-92bb-4a1e-a76b-416de3447a79"
      },
      "execution_count": 10,
      "outputs": [
        {
          "output_type": "stream",
          "name": "stdout",
          "text": [
            "GenerateCNN(\n",
            "  (layers): ModuleList(\n",
            "    (0): Conv2d(1, 5, kernel_size=(3, 3), stride=(1, 1))\n",
            "    (1): MaxPool2d(kernel_size=2, stride=2, padding=0, dilation=1, ceil_mode=False)\n",
            "    (2): Conv2d(5, 10, kernel_size=(3, 3), stride=(1, 1))\n",
            "    (3): Flatten(start_dim=1, end_dim=-1)\n",
            "    (4): Linear(in_features=1210, out_features=3, bias=True)\n",
            "  )\n",
            ")\n"
          ]
        },
        {
          "output_type": "execute_result",
          "data": {
            "text/plain": [
              "GenerateCNN(\n",
              "  (layers): ModuleList(\n",
              "    (0): Conv2d(1, 5, kernel_size=(3, 3), stride=(1, 1))\n",
              "    (1): MaxPool2d(kernel_size=2, stride=2, padding=0, dilation=1, ceil_mode=False)\n",
              "    (2): Conv2d(5, 10, kernel_size=(3, 3), stride=(1, 1))\n",
              "    (3): Flatten(start_dim=1, end_dim=-1)\n",
              "    (4): Linear(in_features=1210, out_features=3, bias=True)\n",
              "  )\n",
              ")"
            ]
          },
          "metadata": {},
          "execution_count": 10
        }
      ]
    },
    {
      "cell_type": "markdown",
      "source": [
        "### 4. Last layer pool"
      ],
      "metadata": {
        "id": "lrqNHDO_CHUN"
      }
    },
    {
      "cell_type": "code",
      "source": [
        "#test case 4: last layer pool\n",
        "model = GenerateCNN([('conv',1,5,3,1,28,0,0,[]),('pool',1,0,2,2,28,0,0,[]),('conv',1,10,3,1,26,0,0,[]),('pool',1,0,2,2,28,0,0,[])], 1)\n",
        "print(model)\n",
        "model.to(device)"
      ],
      "metadata": {
        "colab": {
          "base_uri": "https://localhost:8080/"
        },
        "id": "sMGmSlP2rgu0",
        "outputId": "14eca7ee-f004-45cf-c2ca-efd5f3a7c42c"
      },
      "execution_count": 11,
      "outputs": [
        {
          "output_type": "stream",
          "name": "stdout",
          "text": [
            "GenerateCNN(\n",
            "  (layers): ModuleList(\n",
            "    (0): Conv2d(1, 5, kernel_size=(3, 3), stride=(1, 1))\n",
            "    (1): MaxPool2d(kernel_size=2, stride=2, padding=0, dilation=1, ceil_mode=False)\n",
            "    (2): Conv2d(5, 10, kernel_size=(3, 3), stride=(1, 1))\n",
            "    (3): MaxPool2d(kernel_size=2, stride=2, padding=0, dilation=1, ceil_mode=False)\n",
            "    (4): Flatten(start_dim=1, end_dim=-1)\n",
            "    (5): Linear(in_features=250, out_features=3, bias=True)\n",
            "  )\n",
            ")\n"
          ]
        },
        {
          "output_type": "execute_result",
          "data": {
            "text/plain": [
              "GenerateCNN(\n",
              "  (layers): ModuleList(\n",
              "    (0): Conv2d(1, 5, kernel_size=(3, 3), stride=(1, 1))\n",
              "    (1): MaxPool2d(kernel_size=2, stride=2, padding=0, dilation=1, ceil_mode=False)\n",
              "    (2): Conv2d(5, 10, kernel_size=(3, 3), stride=(1, 1))\n",
              "    (3): MaxPool2d(kernel_size=2, stride=2, padding=0, dilation=1, ceil_mode=False)\n",
              "    (4): Flatten(start_dim=1, end_dim=-1)\n",
              "    (5): Linear(in_features=250, out_features=3, bias=True)\n",
              "  )\n",
              ")"
            ]
          },
          "metadata": {},
          "execution_count": 11
        }
      ]
    },
    {
      "cell_type": "markdown",
      "source": [
        "### 5. pool stride 3"
      ],
      "metadata": {
        "id": "JFi3jE46CKPC"
      }
    },
    {
      "cell_type": "code",
      "source": [
        "#test case 5: diff stride\n",
        "model = GenerateCNN([('conv',1,5,3,2,28,0,0,[]),('pool',1,0,2,3,28,0,0,[]),('conv',1,10,3,1,26,0,0,[]),('pool',1,0,2,2,28,0,0,[]),('fc',0,0,0,0,0,100,0,[]),('fc',0,0,0,0,0,3,0,[])], 1)\n",
        "print(model)\n",
        "model.to(device)"
      ],
      "metadata": {
        "colab": {
          "base_uri": "https://localhost:8080/"
        },
        "id": "6VznQsPg_dEK",
        "outputId": "a0a40db8-bfaa-4105-fcf2-4ae225b480ee"
      },
      "execution_count": 29,
      "outputs": [
        {
          "output_type": "stream",
          "name": "stdout",
          "text": [
            "GenerateCNN(\n",
            "  (layers): ModuleList(\n",
            "    (0): Conv2d(1, 5, kernel_size=(3, 3), stride=(2, 2))\n",
            "    (1): MaxPool2d(kernel_size=2, stride=3, padding=0, dilation=1, ceil_mode=False)\n",
            "    (2): Conv2d(5, 10, kernel_size=(3, 3), stride=(1, 1))\n",
            "    (3): MaxPool2d(kernel_size=2, stride=2, padding=0, dilation=1, ceil_mode=False)\n",
            "    (4): Linear(in_features=10, out_features=100, bias=True)\n",
            "    (5): Linear(in_features=100, out_features=3, bias=True)\n",
            "  )\n",
            ")\n"
          ]
        },
        {
          "output_type": "execute_result",
          "data": {
            "text/plain": [
              "GenerateCNN(\n",
              "  (layers): ModuleList(\n",
              "    (0): Conv2d(1, 5, kernel_size=(3, 3), stride=(2, 2))\n",
              "    (1): MaxPool2d(kernel_size=2, stride=3, padding=0, dilation=1, ceil_mode=False)\n",
              "    (2): Conv2d(5, 10, kernel_size=(3, 3), stride=(1, 1))\n",
              "    (3): MaxPool2d(kernel_size=2, stride=2, padding=0, dilation=1, ceil_mode=False)\n",
              "    (4): Linear(in_features=10, out_features=100, bias=True)\n",
              "    (5): Linear(in_features=100, out_features=3, bias=True)\n",
              "  )\n",
              ")"
            ]
          },
          "metadata": {},
          "execution_count": 29
        }
      ]
    },
    {
      "cell_type": "markdown",
      "source": [
        "### 6. consecutive pools"
      ],
      "metadata": {
        "id": "58seGDMQCS35"
      }
    },
    {
      "cell_type": "code",
      "source": [
        "#test case 6: pool after pool\n",
        "model = GenerateCNN([('conv',1,5,3,2,28,0,0,[]),('pool',1,0,2,3,28,0,0,[]),('pool',1,0,2,2,28,0,0,[]),('fc',0,0,0,0,0,100,0,[]),('fc',0,0,0,0,0,3,0,[])], 1)\n",
        "print(model)\n",
        "model.to(device)"
      ],
      "metadata": {
        "colab": {
          "base_uri": "https://localhost:8080/"
        },
        "id": "zT9kCWA1A1f5",
        "outputId": "eb2bdca2-3b59-446f-a627-c33769c4a99b"
      },
      "execution_count": 37,
      "outputs": [
        {
          "output_type": "stream",
          "name": "stdout",
          "text": [
            "GenerateCNN(\n",
            "  (layers): ModuleList(\n",
            "    (0): Conv2d(1, 5, kernel_size=(3, 3), stride=(2, 2))\n",
            "    (1): MaxPool2d(kernel_size=2, stride=3, padding=0, dilation=1, ceil_mode=False)\n",
            "    (2): MaxPool2d(kernel_size=2, stride=2, padding=0, dilation=1, ceil_mode=False)\n",
            "    (3): Linear(in_features=20, out_features=100, bias=True)\n",
            "    (4): Linear(in_features=100, out_features=3, bias=True)\n",
            "  )\n",
            ")\n"
          ]
        },
        {
          "output_type": "execute_result",
          "data": {
            "text/plain": [
              "GenerateCNN(\n",
              "  (layers): ModuleList(\n",
              "    (0): Conv2d(1, 5, kernel_size=(3, 3), stride=(2, 2))\n",
              "    (1): MaxPool2d(kernel_size=2, stride=3, padding=0, dilation=1, ceil_mode=False)\n",
              "    (2): MaxPool2d(kernel_size=2, stride=2, padding=0, dilation=1, ceil_mode=False)\n",
              "    (3): Linear(in_features=20, out_features=100, bias=True)\n",
              "    (4): Linear(in_features=100, out_features=3, bias=True)\n",
              "  )\n",
              ")"
            ]
          },
          "metadata": {},
          "execution_count": 37
        }
      ]
    },
    {
      "cell_type": "markdown",
      "source": [
        "### 7. single conv"
      ],
      "metadata": {
        "id": "V8njdOYxCseV"
      }
    },
    {
      "cell_type": "code",
      "source": [
        "#test case 7\n",
        "model = GenerateCNN([('conv',1,20,3,2,28,0,0,[])], 1)\n",
        "print(model)\n",
        "model.to(device)"
      ],
      "metadata": {
        "colab": {
          "base_uri": "https://localhost:8080/"
        },
        "outputId": "24e993c1-3dae-40c2-d4f2-9536aa6ffc5a",
        "id": "iiNJAYPGCseW"
      },
      "execution_count": 87,
      "outputs": [
        {
          "output_type": "stream",
          "name": "stdout",
          "text": [
            "GenerateCNN(\n",
            "  (layers): ModuleList(\n",
            "    (0): Conv2d(1, 20, kernel_size=(3, 3), stride=(2, 2))\n",
            "    (1): Flatten(start_dim=1, end_dim=-1)\n",
            "    (2): Linear(in_features=3380, out_features=3, bias=True)\n",
            "  )\n",
            ")\n"
          ]
        },
        {
          "output_type": "execute_result",
          "data": {
            "text/plain": [
              "GenerateCNN(\n",
              "  (layers): ModuleList(\n",
              "    (0): Conv2d(1, 20, kernel_size=(3, 3), stride=(2, 2))\n",
              "    (1): Flatten(start_dim=1, end_dim=-1)\n",
              "    (2): Linear(in_features=3380, out_features=3, bias=True)\n",
              "  )\n",
              ")"
            ]
          },
          "metadata": {},
          "execution_count": 87
        }
      ]
    },
    {
      "cell_type": "markdown",
      "source": [
        "### 8. Single pool"
      ],
      "metadata": {
        "id": "momYS4ybC2o1"
      }
    },
    {
      "cell_type": "code",
      "source": [
        "#test case 8\n",
        "model = GenerateCNN([('pool',1,0,3,3,28,0,0,[])], 1)\n",
        "print(model)\n",
        "model.to(device)"
      ],
      "metadata": {
        "colab": {
          "base_uri": "https://localhost:8080/"
        },
        "outputId": "a3c0dede-fd37-4f1b-b564-51821aa37e8f",
        "id": "cbcbASeBC2o1"
      },
      "execution_count": 65,
      "outputs": [
        {
          "output_type": "stream",
          "name": "stdout",
          "text": [
            "GenerateCNN(\n",
            "  (layers): ModuleList(\n",
            "    (0): MaxPool2d(kernel_size=3, stride=3, padding=0, dilation=1, ceil_mode=False)\n",
            "    (1): Flatten(start_dim=1, end_dim=-1)\n",
            "    (2): Linear(in_features=81, out_features=3, bias=True)\n",
            "  )\n",
            ")\n"
          ]
        },
        {
          "output_type": "execute_result",
          "data": {
            "text/plain": [
              "GenerateCNN(\n",
              "  (layers): ModuleList(\n",
              "    (0): MaxPool2d(kernel_size=3, stride=3, padding=0, dilation=1, ceil_mode=False)\n",
              "    (1): Flatten(start_dim=1, end_dim=-1)\n",
              "    (2): Linear(in_features=81, out_features=3, bias=True)\n",
              "  )\n",
              ")"
            ]
          },
          "metadata": {},
          "execution_count": 65
        }
      ]
    },
    {
      "cell_type": "markdown",
      "source": [
        "### 9. ('conv',1,20,3,2,28,0,0,[]), ('fc',0,0,0,0,0,512,0,[])"
      ],
      "metadata": {
        "id": "LCJ1ivs5EREN"
      }
    },
    {
      "cell_type": "code",
      "source": [
        "#test case 7\n",
        "model = GenerateCNN([('conv',1,20,3,2,28,0,0,[]), ('fc',0,0,0,0,0,512,0,[])], 1)\n",
        "print(model)\n",
        "model.to(device)"
      ],
      "metadata": {
        "colab": {
          "base_uri": "https://localhost:8080/"
        },
        "outputId": "209eab28-fce7-4d68-bcd1-8f664d11606b",
        "id": "MUpT3SdxEREU"
      },
      "execution_count": 98,
      "outputs": [
        {
          "output_type": "stream",
          "name": "stdout",
          "text": [
            "512\n",
            "GenerateCNN(\n",
            "  (layers): ModuleList(\n",
            "    (0): Conv2d(1, 20, kernel_size=(3, 3), stride=(2, 2))\n",
            "    (1): Linear(in_features=3380, out_features=512, bias=True)\n",
            "    (2): Linear(in_features=512, out_features=3, bias=True)\n",
            "  )\n",
            ")\n"
          ]
        },
        {
          "output_type": "execute_result",
          "data": {
            "text/plain": [
              "GenerateCNN(\n",
              "  (layers): ModuleList(\n",
              "    (0): Conv2d(1, 20, kernel_size=(3, 3), stride=(2, 2))\n",
              "    (1): Linear(in_features=3380, out_features=512, bias=True)\n",
              "    (2): Linear(in_features=512, out_features=3, bias=True)\n",
              "  )\n",
              ")"
            ]
          },
          "metadata": {},
          "execution_count": 98
        }
      ]
    },
    {
      "cell_type": "markdown",
      "source": [
        "## Testing on 10 imgs"
      ],
      "metadata": {
        "id": "88MkXYkzCYy3"
      }
    },
    {
      "cell_type": "code",
      "source": [
        "actual_number = lbls[:10].numpy()\n",
        "actual_number"
      ],
      "metadata": {
        "colab": {
          "base_uri": "https://localhost:8080/"
        },
        "id": "V0SEE_cU8iRE",
        "outputId": "939207c2-6984-4c06-9599-685a08f39895"
      },
      "execution_count": 99,
      "outputs": [
        {
          "output_type": "execute_result",
          "data": {
            "text/plain": [
              "array([1, 0, 2, 0, 1, 0, 2, 0, 1, 2])"
            ]
          },
          "metadata": {},
          "execution_count": 99
        }
      ]
    },
    {
      "cell_type": "code",
      "source": [
        "# imgs[:1]\n",
        "test_output = model(imgs[:10].to(device))\n",
        "pred_y = torch.max(test_output.cpu(), 1)[1].data.numpy().squeeze()\n",
        "# print(f'Prediction number: {pred_y}')\n",
        "# print(f'Actual number: {actual_number}')"
      ],
      "metadata": {
        "id": "ATXykRVJ8jSu"
      },
      "execution_count": 100,
      "outputs": []
    },
    {
      "cell_type": "code",
      "source": [
        "test_output"
      ],
      "metadata": {
        "colab": {
          "base_uri": "https://localhost:8080/"
        },
        "id": "mFgwEYWpo8di",
        "outputId": "d0fe65ec-bf40-4372-d199-6dd8a415f7fe"
      },
      "execution_count": 101,
      "outputs": [
        {
          "output_type": "execute_result",
          "data": {
            "text/plain": [
              "tensor([[-0.0139, -0.0496, -0.1107],\n",
              "        [-0.0263, -0.0539, -0.0559],\n",
              "        [-0.0463,  0.0517, -0.0119],\n",
              "        [-0.0457, -0.1892, -0.0524],\n",
              "        [-0.0638,  0.0604, -0.0582],\n",
              "        [-0.0226, -0.0927, -0.0198],\n",
              "        [-0.0602,  0.0359, -0.0627],\n",
              "        [-0.0259, -0.0839, -0.0497],\n",
              "        [-0.0331,  0.0801, -0.0812],\n",
              "        [-0.0796, -0.0460, -0.0515]], device='cuda:0',\n",
              "       grad_fn=<AddmmBackward0>)"
            ]
          },
          "metadata": {},
          "execution_count": 101
        }
      ]
    },
    {
      "cell_type": "code",
      "source": [
        "pred_y"
      ],
      "metadata": {
        "colab": {
          "base_uri": "https://localhost:8080/"
        },
        "id": "8M4hhNFApWnG",
        "outputId": "02be07ac-f9a3-4e78-c845-5b58ab053da3"
      },
      "execution_count": 102,
      "outputs": [
        {
          "output_type": "execute_result",
          "data": {
            "text/plain": [
              "array([0, 0, 1, 0, 1, 2, 1, 0, 1, 1])"
            ]
          },
          "metadata": {},
          "execution_count": 102
        }
      ]
    },
    {
      "cell_type": "code",
      "source": [
        "print(f'Prediction number: {pred_y}')\n",
        "print(f'Actual number: {actual_number}')"
      ],
      "metadata": {
        "colab": {
          "base_uri": "https://localhost:8080/"
        },
        "id": "VV0Fd9fELSsv",
        "outputId": "30bdee38-13f5-4712-bbf2-8c1acc43bde9"
      },
      "execution_count": 103,
      "outputs": [
        {
          "output_type": "stream",
          "name": "stdout",
          "text": [
            "Prediction number: [0 0 1 0 1 2 1 0 1 1]\n",
            "Actual number: [1 0 2 0 1 0 2 0 1 2]\n"
          ]
        }
      ]
    },
    {
      "cell_type": "markdown",
      "source": [
        "## Testing on MNIST 3 classes"
      ],
      "metadata": {
        "id": "RxpcdHxeCelS"
      }
    },
    {
      "cell_type": "code",
      "source": [
        "loss_func = nn.CrossEntropyLoss()   \n",
        "loss_func"
      ],
      "metadata": {
        "colab": {
          "base_uri": "https://localhost:8080/"
        },
        "id": "p489UFdOfptG",
        "outputId": "bc513b53-5f52-47f1-b26f-3d7d71d6da41"
      },
      "execution_count": 104,
      "outputs": [
        {
          "output_type": "execute_result",
          "data": {
            "text/plain": [
              "CrossEntropyLoss()"
            ]
          },
          "metadata": {},
          "execution_count": 104
        }
      ]
    },
    {
      "cell_type": "code",
      "source": [
        "from torch import optim\n",
        "optimizer = optim.Adam(model.parameters(), lr = 0.01)   \n",
        "optimizer"
      ],
      "metadata": {
        "colab": {
          "base_uri": "https://localhost:8080/"
        },
        "id": "TogiKwtPf6lh",
        "outputId": "1d258424-acc8-40e2-9c66-fa420689cecf"
      },
      "execution_count": 105,
      "outputs": [
        {
          "output_type": "execute_result",
          "data": {
            "text/plain": [
              "Adam (\n",
              "Parameter Group 0\n",
              "    amsgrad: False\n",
              "    betas: (0.9, 0.999)\n",
              "    capturable: False\n",
              "    differentiable: False\n",
              "    eps: 1e-08\n",
              "    foreach: None\n",
              "    fused: False\n",
              "    lr: 0.01\n",
              "    maximize: False\n",
              "    weight_decay: 0\n",
              ")"
            ]
          },
          "metadata": {},
          "execution_count": 105
        }
      ]
    },
    {
      "cell_type": "code",
      "source": [
        "from torch.autograd import Variable\n",
        "num_epochs = 1\n",
        "def train(num_epochs, cnn, loaders):\n",
        "    \n",
        "    cnn.train()\n",
        "        \n",
        "    # Train the model\n",
        "    total_step = len(loaders['train'])\n",
        "        \n",
        "    for epoch in range(num_epochs):\n",
        "        for i, (images, labels) in enumerate(loaders['train']):\n",
        "            \n",
        "            # gives batch data, normalize x when iterate train_loader\n",
        "            b_x = Variable(images).to(device)   # batch x\n",
        "            b_y = Variable(labels).to(device)   # batch y\n",
        "            # print('y batch shape,',b_y.shape)\n",
        "\n",
        "            output = cnn(b_x)\n",
        "\n",
        "            loss = loss_func(output, b_y)\n",
        "            \n",
        "            # clear gradients for this training step   \n",
        "            optimizer.zero_grad()           \n",
        "            \n",
        "            # backpropagation, compute gradients \n",
        "            loss.backward()    \n",
        "            # apply gradients             \n",
        "            optimizer.step()                \n",
        "            \n",
        "            if (i+1) % 100 == 0:\n",
        "                print ('Epoch [{}/{}], Step [{}/{}], Loss: {:.4f}'.format(epoch + 1, num_epochs, i + 1, total_step, loss.item()))\n",
        "                pass\n",
        "        \n",
        "        pass\n",
        "    \n",
        "    \n",
        "    pass\n",
        "train(num_epochs, model, loaders)"
      ],
      "metadata": {
        "colab": {
          "base_uri": "https://localhost:8080/"
        },
        "id": "LFBcCL4Kf96i",
        "outputId": "a603d348-3971-4a44-a17f-61967022bd52"
      },
      "execution_count": 106,
      "outputs": [
        {
          "output_type": "stream",
          "name": "stdout",
          "text": [
            "Epoch [1/1], Step [100/187], Loss: 0.0171\n"
          ]
        }
      ]
    },
    {
      "cell_type": "code",
      "source": [
        "def test():\n",
        "    # Test the model\n",
        "    model.eval()\n",
        "    with torch.no_grad():\n",
        "        correct = 0\n",
        "        total = 0\n",
        "        accuracy=0\n",
        "        for images, labels in loaders['test']:\n",
        "            images=images.to(device)\n",
        "            labels=labels.to(device)\n",
        "            test_output= model(images)\n",
        "            pred_y = torch.max(test_output, 1)[1].data.squeeze()\n",
        "            accuracy += (pred_y == labels).sum().item()\n",
        "            total+=float(labels.size(0))\n",
        "            \n",
        "    print('Test Accuracy of the model on the 10000 test images: %.4f' % (accuracy/total))\n",
        "    return accuracy/total\n",
        "test()"
      ],
      "metadata": {
        "colab": {
          "base_uri": "https://localhost:8080/"
        },
        "id": "iFD-NKFViaMF",
        "outputId": "84df5795-f38e-4453-a11f-3b1d285c57f1"
      },
      "execution_count": 107,
      "outputs": [
        {
          "output_type": "stream",
          "name": "stdout",
          "text": [
            "Test Accuracy of the model on the 10000 test images: 0.9838\n"
          ]
        },
        {
          "output_type": "execute_result",
          "data": {
            "text/plain": [
              "0.9837940896091516"
            ]
          },
          "metadata": {},
          "execution_count": 107
        }
      ]
    },
    {
      "cell_type": "code",
      "source": [
        "print(model)"
      ],
      "metadata": {
        "colab": {
          "base_uri": "https://localhost:8080/"
        },
        "id": "gRLRdiympxhH",
        "outputId": "7bab98e1-eddc-4d68-e61a-6f3e1d5a8b5a"
      },
      "execution_count": 108,
      "outputs": [
        {
          "output_type": "stream",
          "name": "stdout",
          "text": [
            "GenerateCNN(\n",
            "  (layers): ModuleList(\n",
            "    (0): Conv2d(1, 20, kernel_size=(3, 3), stride=(2, 2))\n",
            "    (1): Linear(in_features=3380, out_features=512, bias=True)\n",
            "    (2): Linear(in_features=512, out_features=3, bias=True)\n",
            "  )\n",
            ")\n"
          ]
        }
      ]
    }
  ]
}