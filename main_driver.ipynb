{
 "cells": [
  {
   "cell_type": "code",
   "execution_count": 1,
   "metadata": {},
   "outputs": [],
   "source": [
    "import gym_examples\n",
    "import gym\n",
    "import numpy as np\n",
    "# from stable_baselines3 import PPO\n",
    "import sb3_contrib as sb3\n",
    "from sb3_contrib import MaskablePPO\n",
    "from sb3_contrib.common.wrappers import ActionMasker\n",
    "from sb3_contrib.common.maskable.policies import MaskableActorCriticPolicy\n",
    "from gym.wrappers import FlattenObservation\n",
    "from stable_baselines3.common.env_util import make_vec_env\n",
    "from stable_baselines3.common.vec_env import SubprocVecEnv\n",
    "from sb3_contrib.common.maskable.utils import get_action_masks"
   ]
  },
  {
   "cell_type": "code",
   "execution_count": 2,
   "metadata": {},
   "outputs": [
    {
     "data": {
      "text/plain": [
       "('1.7.0', '0.26.0')"
      ]
     },
     "execution_count": 2,
     "metadata": {},
     "output_type": "execute_result"
    }
   ],
   "source": [
    "sb3.__version__, gym.__version__"
   ]
  },
  {
   "attachments": {},
   "cell_type": "markdown",
   "metadata": {},
   "source": [
    "# CNN ENV TESTING"
   ]
  },
  {
   "cell_type": "code",
   "execution_count": 3,
   "metadata": {},
   "outputs": [],
   "source": [
    "env2 = gym.make(\"gym_examples/CNN-v0\")"
   ]
  },
  {
   "cell_type": "code",
   "execution_count": 4,
   "metadata": {},
   "outputs": [
    {
     "data": {
      "text/plain": [
       "({'layer_type': 0,\n",
       "  'layer_depth': 0,\n",
       "  'filter_depth': 0,\n",
       "  'filter_size': 0,\n",
       "  'fc_size': 0,\n",
       "  'is_start': 1,\n",
       "  'pool_size_and_stride': 0},\n",
       " {'current_network': [{'layer_type': 'conv',\n",
       "    'layer_depth': 0,\n",
       "    'filter_depth': 0,\n",
       "    'filter_size': 0,\n",
       "    'fc_size': 0,\n",
       "    'image_size': 28,\n",
       "    'pool_size': 0,\n",
       "    'pool_stride': 0,\n",
       "    'is_start': 1}],\n",
       "  'current_image_size': 28,\n",
       "  'current_layer_depth': 0,\n",
       "  'current_num_fc_layers': 0,\n",
       "  'obs_vector': array([0, 0, 0, 0, 0, 1, 0])})"
      ]
     },
     "execution_count": 4,
     "metadata": {},
     "output_type": "execute_result"
    }
   ],
   "source": [
    "start_cnn = env2.reset()\n",
    "start_cnn"
   ]
  },
  {
   "cell_type": "code",
   "execution_count": 5,
   "metadata": {},
   "outputs": [
    {
     "data": {
      "text/plain": [
       "MultiDiscrete([3 9 5 4 5 2 4])"
      ]
     },
     "execution_count": 5,
     "metadata": {},
     "output_type": "execute_result"
    }
   ],
   "source": [
    "env2.action_space"
   ]
  },
  {
   "cell_type": "code",
   "execution_count": 6,
   "metadata": {},
   "outputs": [
    {
     "name": "stdout",
     "output_type": "stream",
     "text": [
      "inside layer depth limit\n",
      "enabling convolutions\n"
     ]
    },
    {
     "data": {
      "text/plain": [
       "(array([1, 0, 0], dtype=int8),\n",
       " array([0, 1, 0, 0, 0, 0, 0, 0, 0], dtype=int8),\n",
       " array([0, 1, 1, 1, 1], dtype=int8),\n",
       " array([0, 1, 1, 1], dtype=int8),\n",
       " array([1, 0, 0, 0, 0], dtype=int8),\n",
       " array([1, 0], dtype=int8),\n",
       " array([1, 0, 0, 0], dtype=int8))"
      ]
     },
     "execution_count": 6,
     "metadata": {},
     "output_type": "execute_result"
    }
   ],
   "source": [
    "env2.get_valid_action_mask()"
   ]
  },
  {
   "cell_type": "code",
   "execution_count": 7,
   "metadata": {},
   "outputs": [
    {
     "name": "stdout",
     "output_type": "stream",
     "text": [
      "inside layer depth limit\n",
      "enabling convolutions\n"
     ]
    },
    {
     "data": {
      "text/plain": [
       "array([0, 1, 4, 2, 0, 0, 0], dtype=int64)"
      ]
     },
     "execution_count": 7,
     "metadata": {},
     "output_type": "execute_result"
    }
   ],
   "source": [
    "env2.action_space.sample(mask=env2.get_valid_action_mask())"
   ]
  },
  {
   "cell_type": "code",
   "execution_count": 7,
   "metadata": {},
   "outputs": [
    {
     "name": "stdout",
     "output_type": "stream",
     "text": [
      "inside layer depth limit\n",
      "enabling convolutions\n",
      "enabling valid pools\n"
     ]
    }
   ],
   "source": [
    "# take an action that picks a conv layer, with 20 filters with a 3x3 kernel. \n",
    "action = np.array([0, 1, 2, 2, 0, 0, 0], dtype=np.int64)\n",
    "\n",
    "new_obs, reward, terminated, _, info = env2.step(action)"
   ]
  },
  {
   "cell_type": "code",
   "execution_count": 8,
   "metadata": {},
   "outputs": [
    {
     "data": {
      "text/plain": [
       "{'layer_type': 0,\n",
       " 'layer_depth': 1,\n",
       " 'filter_depth': 2,\n",
       " 'filter_size': 2,\n",
       " 'fc_size': 0,\n",
       " 'is_start': 0,\n",
       " 'pool_size_and_stride': 0}"
      ]
     },
     "execution_count": 8,
     "metadata": {},
     "output_type": "execute_result"
    }
   ],
   "source": [
    "new_obs"
   ]
  },
  {
   "cell_type": "code",
   "execution_count": 9,
   "metadata": {},
   "outputs": [
    {
     "data": {
      "text/plain": [
       "{'current_network': [{'layer_type': 'conv',\n",
       "   'layer_depth': 0,\n",
       "   'filter_depth': 0,\n",
       "   'filter_size': 0,\n",
       "   'fc_size': 0,\n",
       "   'image_size': 28,\n",
       "   'pool_size': 0,\n",
       "   'pool_stride': 0,\n",
       "   'is_start': 1},\n",
       "  {'layer_type': 'conv',\n",
       "   'layer_depth': 1,\n",
       "   'filter_depth': 20,\n",
       "   'filter_size': 3,\n",
       "   'fc_size': 0,\n",
       "   'image_size': 26,\n",
       "   'is_start': 0,\n",
       "   'pool_size': 0,\n",
       "   'pool_stride': 0}],\n",
       " 'current_image_size': 26,\n",
       " 'current_layer_depth': 1,\n",
       " 'current_num_fc_layers': 0,\n",
       " 'obs_vector': array([0, 1, 2, 2, 0, 0, 0])}"
      ]
     },
     "execution_count": 9,
     "metadata": {},
     "output_type": "execute_result"
    }
   ],
   "source": [
    "info"
   ]
  },
  {
   "cell_type": "code",
   "execution_count": 11,
   "metadata": {},
   "outputs": [
    {
     "name": "stdout",
     "output_type": "stream",
     "text": [
      "inside layer depth limit\n",
      "enabling convolutions\n",
      "enabling valid pools\n"
     ]
    },
    {
     "data": {
      "text/plain": [
       "(array([1, 1, 1], dtype=int8),\n",
       " array([0, 0, 1, 0, 0, 0, 0, 0, 0], dtype=int8),\n",
       " array([0, 1, 1, 1, 1], dtype=int8),\n",
       " array([0, 1, 1, 1], dtype=int8),\n",
       " array([0, 1, 1, 1, 1], dtype=int8),\n",
       " array([1, 1], dtype=int8),\n",
       " array([0, 1, 1, 1], dtype=int8))"
      ]
     },
     "execution_count": 11,
     "metadata": {},
     "output_type": "execute_result"
    }
   ],
   "source": [
    "env2.get_valid_action_mask()"
   ]
  },
  {
   "cell_type": "code",
   "execution_count": 12,
   "metadata": {},
   "outputs": [
    {
     "data": {
      "text/plain": [
       "{'current_network': [{'layer_type': 'conv',\n",
       "   'layer_depth': 0,\n",
       "   'filter_depth': 0,\n",
       "   'filter_size': 0,\n",
       "   'fc_size': 0,\n",
       "   'image_size': 28,\n",
       "   'pool_size': 0,\n",
       "   'pool_stride': 0,\n",
       "   'is_start': 1},\n",
       "  {'layer_type': 'conv',\n",
       "   'layer_depth': 1,\n",
       "   'filter_depth': 20,\n",
       "   'filter_size': 3,\n",
       "   'fc_size': 0,\n",
       "   'image_size': 26,\n",
       "   'is_start': 0,\n",
       "   'pool_size': 0,\n",
       "   'pool_stride': 0},\n",
       "  {'layer_type': 'fc',\n",
       "   'layer_depth': 2,\n",
       "   'filter_depth': 20,\n",
       "   'filter_size': 3,\n",
       "   'fc_size': 512,\n",
       "   'image_size': 26,\n",
       "   'is_start': 0,\n",
       "   'pool_size': 5,\n",
       "   'pool_stride': 3}],\n",
       " 'current_image_size': 26,\n",
       " 'current_layer_depth': 2,\n",
       " 'current_num_fc_layers': 1}"
      ]
     },
     "execution_count": 12,
     "metadata": {},
     "output_type": "execute_result"
    }
   ],
   "source": [
    "#make an fc layer with 512\n",
    "action = np.array([2, 2, 2, 2, 1, 0, 1], dtype=np.int64)\n",
    "new_obs, reward, terminated, _, info = env2.step(action)\n",
    "\n",
    "info"
   ]
  },
  {
   "cell_type": "code",
   "execution_count": 13,
   "metadata": {},
   "outputs": [
    {
     "name": "stdout",
     "output_type": "stream",
     "text": [
      "inside layer depth limit\n"
     ]
    },
    {
     "data": {
      "text/plain": [
       "(array([0, 0, 1], dtype=int8),\n",
       " array([0, 0, 0, 1, 0, 0, 0, 0, 0], dtype=int8),\n",
       " array([1, 0, 0, 0, 0], dtype=int8),\n",
       " array([1, 0, 0, 0], dtype=int8),\n",
       " array([0, 0, 1, 1, 1], dtype=int8),\n",
       " array([0, 1], dtype=int8),\n",
       " array([1, 0, 0, 0], dtype=int8))"
      ]
     },
     "execution_count": 13,
     "metadata": {},
     "output_type": "execute_result"
    }
   ],
   "source": [
    "env2.get_valid_action_mask() #Only fc layer allowed and fc layer with less than 512 nodes and this has to be terminal layer"
   ]
  },
  {
   "cell_type": "code",
   "execution_count": 14,
   "metadata": {},
   "outputs": [
    {
     "name": "stdout",
     "output_type": "stream",
     "text": [
      "network =  [{'layer_type': 'conv', 'layer_depth': 0, 'filter_depth': 0, 'filter_size': 0, 'fc_size': 0, 'image_size': 28, 'pool_size': 0, 'pool_stride': 0, 'is_start': 1}, {'layer_type': 'conv', 'layer_depth': 1, 'filter_depth': 20, 'filter_size': 3, 'fc_size': 0, 'image_size': 26, 'is_start': 0, 'pool_size': 0, 'pool_stride': 0}, {'layer_type': 'fc', 'layer_depth': 2, 'filter_depth': 20, 'filter_size': 3, 'fc_size': 512, 'image_size': 26, 'is_start': 0, 'pool_size': 5, 'pool_stride': 3}, {'layer_type': 'fc', 'layer_depth': 3, 'filter_depth': 0, 'filter_size': 0, 'fc_size': 256, 'image_size': 26, 'is_start': 0, 'pool_size': 0, 'pool_stride': 0}] terminated = True\n",
      "layersList =  [('conv', 1, 20, 3, 1, 26, 0, 0, []), ('fc', 2, 20, 5, 3, 26, 512, 0, []), ('fc', 3, 0, 0, 0, 26, 256, 0, [])]\n"
     ]
    },
    {
     "data": {
      "text/plain": [
       "{'current_network': [{'layer_type': 'conv',\n",
       "   'layer_depth': 0,\n",
       "   'filter_depth': 0,\n",
       "   'filter_size': 0,\n",
       "   'fc_size': 0,\n",
       "   'image_size': 28,\n",
       "   'pool_size': 0,\n",
       "   'pool_stride': 0,\n",
       "   'is_start': 1},\n",
       "  {'layer_type': 'conv',\n",
       "   'layer_depth': 1,\n",
       "   'filter_depth': 20,\n",
       "   'filter_size': 3,\n",
       "   'fc_size': 0,\n",
       "   'image_size': 26,\n",
       "   'is_start': 0,\n",
       "   'pool_size': 0,\n",
       "   'pool_stride': 0},\n",
       "  {'layer_type': 'fc',\n",
       "   'layer_depth': 2,\n",
       "   'filter_depth': 20,\n",
       "   'filter_size': 3,\n",
       "   'fc_size': 512,\n",
       "   'image_size': 26,\n",
       "   'is_start': 0,\n",
       "   'pool_size': 5,\n",
       "   'pool_stride': 3},\n",
       "  {'layer_type': 'fc',\n",
       "   'layer_depth': 3,\n",
       "   'filter_depth': 0,\n",
       "   'filter_size': 0,\n",
       "   'fc_size': 256,\n",
       "   'image_size': 26,\n",
       "   'is_start': 0,\n",
       "   'pool_size': 0,\n",
       "   'pool_stride': 0}],\n",
       " 'current_image_size': 26,\n",
       " 'current_layer_depth': 3,\n",
       " 'current_num_fc_layers': 2}"
      ]
     },
     "execution_count": 14,
     "metadata": {},
     "output_type": "execute_result"
    }
   ],
   "source": [
    "action = np.array([2, 3, 0, 0, 2, 1, 0], dtype=np.int64)\n",
    "new_obs, reward, terminated, _, info = env2.step(action)\n",
    "\n",
    "info"
   ]
  },
  {
   "cell_type": "code",
   "execution_count": 15,
   "metadata": {},
   "outputs": [
    {
     "data": {
      "text/plain": [
       "0.9907848744836352"
      ]
     },
     "execution_count": 15,
     "metadata": {},
     "output_type": "execute_result"
    }
   ],
   "source": [
    "reward"
   ]
  },
  {
   "cell_type": "code",
   "execution_count": 5,
   "metadata": {},
   "outputs": [],
   "source": [
    "# env = gym.make(\"gym_examples/StarWars-v0\")"
   ]
  },
  {
   "attachments": {},
   "cell_type": "markdown",
   "metadata": {},
   "source": [
    "# PPO DEBUGGING"
   ]
  },
  {
   "cell_type": "code",
   "execution_count": 2,
   "metadata": {},
   "outputs": [
    {
     "data": {
      "text/plain": [
       "MultiDiscrete([4 8 5 4 4 2])"
      ]
     },
     "execution_count": 2,
     "metadata": {},
     "output_type": "execute_result"
    }
   ],
   "source": [
    "myspace = gym.spaces.MultiDiscrete([4, 8, 5, 4, 4, 2])\n",
    "myspace"
   ]
  },
  {
   "cell_type": "code",
   "execution_count": 3,
   "metadata": {},
   "outputs": [],
   "source": [
    "# md_mask = tuple([np.ones(x,) for x in myspace.nvec])\n",
    "# md_mask"
   ]
  },
  {
   "cell_type": "code",
   "execution_count": 4,
   "metadata": {},
   "outputs": [],
   "source": [
    "# mysample = myspace.sample()\n",
    "# mysample"
   ]
  },
  {
   "cell_type": "code",
   "execution_count": 5,
   "metadata": {},
   "outputs": [],
   "source": [
    "# array([1, 6, 4, 2, 2, 0]) -> interpreted as [layer_type, layer_depth, filter_depth, filter_size, fc_size, terminal]\n",
    "# i.e. [pool, 6th layer, 512 filter depth, 3 kernel size, 128 FC size, terminal]\n"
   ]
  },
  {
   "cell_type": "code",
   "execution_count": 6,
   "metadata": {},
   "outputs": [],
   "source": [
    "# flatten(myspace, mysample)"
   ]
  },
  {
   "cell_type": "code",
   "execution_count": 7,
   "metadata": {},
   "outputs": [],
   "source": [
    "cnn_env = gym.make(\"gym_examples/CNN-v0\")\n",
    "cnn_env.verbose = True"
   ]
  },
  {
   "cell_type": "code",
   "execution_count": null,
   "metadata": {},
   "outputs": [],
   "source": []
  },
  {
   "cell_type": "code",
   "execution_count": 8,
   "metadata": {},
   "outputs": [],
   "source": [
    "# cnn_env = ActionMasker(cnn_env, masking_fn)"
   ]
  },
  {
   "cell_type": "code",
   "execution_count": 9,
   "metadata": {},
   "outputs": [],
   "source": [
    "# cnn_env = ActionMasker(FlattenObservation(cnn_env, masking_fn))"
   ]
  },
  {
   "cell_type": "code",
   "execution_count": 10,
   "metadata": {},
   "outputs": [
    {
     "data": {
      "text/plain": [
       "OrderedDict([('fc_size', 4),\n",
       "             ('filter_depth', 0),\n",
       "             ('filter_size', 2),\n",
       "             ('is_start', 1),\n",
       "             ('layer_depth', 7),\n",
       "             ('layer_type', 0),\n",
       "             ('pool_size_and_stride', 0)])"
      ]
     },
     "execution_count": 10,
     "metadata": {},
     "output_type": "execute_result"
    }
   ],
   "source": [
    "cnn_env.observation_space.sample()"
   ]
  },
  {
   "cell_type": "code",
   "execution_count": 11,
   "metadata": {},
   "outputs": [],
   "source": [
    "# cnn_env = FlattenObservation(cnn_env)\n",
    "# cnn_env = make_vec_env(cnn_env, n_envs=2)"
   ]
  },
  {
   "cell_type": "code",
   "execution_count": 12,
   "metadata": {},
   "outputs": [
    {
     "name": "stdout",
     "output_type": "stream",
     "text": [
      "Using cpu device\n",
      "Wrapping the env with a `Monitor` wrapper\n",
      "Wrapping the env in a DummyVecEnv.\n"
     ]
    }
   ],
   "source": [
    "model = MaskablePPO(MaskableActorCriticPolicy, FlattenObservation(cnn_env), verbose=1)"
   ]
  },
  {
   "cell_type": "code",
   "execution_count": 13,
   "metadata": {},
   "outputs": [
    {
     "name": "stdout",
     "output_type": "stream",
     "text": [
      "network =  [{'layer_type': 'conv', 'layer_depth': 1, 'filter_depth': 64, 'filter_size': 3, 'fc_size': 0, 'image_size': 26, 'is_start': 0, 'pool_size': 0, 'pool_stride': 0}, {'layer_type': 'pool', 'layer_depth': 2, 'filter_depth': 20, 'filter_size': 1, 'fc_size': 128, 'image_size': 13, 'is_start': 0, 'pool_size': 2, 'pool_stride': 2}, {'layer_type': 'fc', 'layer_depth': 3, 'filter_depth': 32, 'filter_size': 5, 'fc_size': 256, 'image_size': 13, 'is_start': 0, 'pool_size': 0, 'pool_stride': 0}] terminated = True\n",
      "network =  [{'layer_type': 'conv', 'layer_depth': 1, 'filter_depth': 64, 'filter_size': 3, 'fc_size': 0, 'image_size': 26, 'is_start': 0, 'pool_size': 0, 'pool_stride': 0}] terminated = True\n",
      "network =  [{'layer_type': 'conv', 'layer_depth': 1, 'filter_depth': 10, 'filter_size': 3, 'fc_size': 0, 'image_size': 26, 'is_start': 0, 'pool_size': 0, 'pool_stride': 0}] terminated = True\n",
      "network =  [{'layer_type': 'conv', 'layer_depth': 1, 'filter_depth': 32, 'filter_size': 5, 'fc_size': 0, 'image_size': 24, 'is_start': 0, 'pool_size': 0, 'pool_stride': 0}] terminated = True\n",
      "network =  [{'layer_type': 'conv', 'layer_depth': 1, 'filter_depth': 64, 'filter_size': 3, 'fc_size': 0, 'image_size': 26, 'is_start': 0, 'pool_size': 0, 'pool_stride': 0}] terminated = True\n",
      "network =  [{'layer_type': 'conv', 'layer_depth': 1, 'filter_depth': 10, 'filter_size': 3, 'fc_size': 0, 'image_size': 26, 'is_start': 0, 'pool_size': 0, 'pool_stride': 0}] terminated = True\n",
      "network =  [{'layer_type': 'conv', 'layer_depth': 1, 'filter_depth': 64, 'filter_size': 5, 'fc_size': 0, 'image_size': 24, 'is_start': 0, 'pool_size': 0, 'pool_stride': 0}, {'layer_type': 'conv', 'layer_depth': 2, 'filter_depth': 32, 'filter_size': 3, 'fc_size': 64, 'image_size': 22, 'is_start': 0, 'pool_size': 2, 'pool_stride': 2}] terminated = True\n",
      "network =  [{'layer_type': 'conv', 'layer_depth': 1, 'filter_depth': 32, 'filter_size': 5, 'fc_size': 0, 'image_size': 24, 'is_start': 0, 'pool_size': 0, 'pool_stride': 0}] terminated = True\n",
      "network =  [{'layer_type': 'conv', 'layer_depth': 1, 'filter_depth': 20, 'filter_size': 3, 'fc_size': 0, 'image_size': 26, 'is_start': 0, 'pool_size': 0, 'pool_stride': 0}] terminated = True\n",
      "network =  [{'layer_type': 'conv', 'layer_depth': 1, 'filter_depth': 32, 'filter_size': 1, 'fc_size': 0, 'image_size': 28, 'is_start': 0, 'pool_size': 0, 'pool_stride': 0}] terminated = True\n",
      "network =  [{'layer_type': 'conv', 'layer_depth': 1, 'filter_depth': 20, 'filter_size': 1, 'fc_size': 0, 'image_size': 28, 'is_start': 0, 'pool_size': 0, 'pool_stride': 0}] terminated = True\n",
      "network =  [{'layer_type': 'conv', 'layer_depth': 1, 'filter_depth': 10, 'filter_size': 3, 'fc_size': 0, 'image_size': 26, 'is_start': 0, 'pool_size': 0, 'pool_stride': 0}, {'layer_type': 'fc', 'layer_depth': 2, 'filter_depth': 20, 'filter_size': 1, 'fc_size': 512, 'image_size': 26, 'is_start': 0, 'pool_size': 2, 'pool_stride': 2}, {'layer_type': 'fc', 'layer_depth': 3, 'filter_depth': 0, 'filter_size': 0, 'fc_size': 128, 'image_size': 26, 'is_start': 0, 'pool_size': 0, 'pool_stride': 0}] terminated = True\n",
      "network =  [{'layer_type': 'conv', 'layer_depth': 1, 'filter_depth': 64, 'filter_size': 5, 'fc_size': 0, 'image_size': 24, 'is_start': 0, 'pool_size': 0, 'pool_stride': 0}] terminated = True\n",
      "network =  [{'layer_type': 'conv', 'layer_depth': 1, 'filter_depth': 20, 'filter_size': 1, 'fc_size': 0, 'image_size': 28, 'is_start': 0, 'pool_size': 0, 'pool_stride': 0}] terminated = True\n",
      "network =  [{'layer_type': 'conv', 'layer_depth': 1, 'filter_depth': 20, 'filter_size': 5, 'fc_size': 0, 'image_size': 24, 'is_start': 0, 'pool_size': 0, 'pool_stride': 0}, {'layer_type': 'fc', 'layer_depth': 2, 'filter_depth': 10, 'filter_size': 3, 'fc_size': 512, 'image_size': 24, 'is_start': 0, 'pool_size': 5, 'pool_stride': 3}, {'layer_type': 'fc', 'layer_depth': 3, 'filter_depth': 0, 'filter_size': 0, 'fc_size': 64, 'image_size': 24, 'is_start': 0, 'pool_size': 0, 'pool_stride': 0}] terminated = True\n",
      "network =  [{'layer_type': 'conv', 'layer_depth': 1, 'filter_depth': 20, 'filter_size': 3, 'fc_size': 0, 'image_size': 26, 'is_start': 0, 'pool_size': 0, 'pool_stride': 0}, {'layer_type': 'fc', 'layer_depth': 2, 'filter_depth': 20, 'filter_size': 5, 'fc_size': 512, 'image_size': 26, 'is_start': 0, 'pool_size': 5, 'pool_stride': 3}] terminated = True\n",
      "network =  [{'layer_type': 'conv', 'layer_depth': 1, 'filter_depth': 10, 'filter_size': 1, 'fc_size': 0, 'image_size': 28, 'is_start': 0, 'pool_size': 0, 'pool_stride': 0}, {'layer_type': 'conv', 'layer_depth': 2, 'filter_depth': 20, 'filter_size': 3, 'fc_size': 64, 'image_size': 26, 'is_start': 0, 'pool_size': 5, 'pool_stride': 3}] terminated = True\n",
      "network =  [{'layer_type': 'conv', 'layer_depth': 1, 'filter_depth': 64, 'filter_size': 3, 'fc_size': 0, 'image_size': 26, 'is_start': 0, 'pool_size': 0, 'pool_stride': 0}] terminated = True\n",
      "network =  [{'layer_type': 'conv', 'layer_depth': 1, 'filter_depth': 64, 'filter_size': 1, 'fc_size': 0, 'image_size': 28, 'is_start': 0, 'pool_size': 0, 'pool_stride': 0}, {'layer_type': 'conv', 'layer_depth': 2, 'filter_depth': 64, 'filter_size': 1, 'fc_size': 256, 'image_size': 28, 'is_start': 0, 'pool_size': 3, 'pool_stride': 2}, {'layer_type': 'pool', 'layer_depth': 3, 'filter_depth': 64, 'filter_size': 5, 'fc_size': 64, 'image_size': 13, 'is_start': 0, 'pool_size': 3, 'pool_stride': 2}, {'layer_type': 'fc', 'layer_depth': 4, 'filter_depth': 32, 'filter_size': 3, 'fc_size': 256, 'image_size': 13, 'is_start': 0, 'pool_size': 0, 'pool_stride': 0}, {'layer_type': 'fc', 'layer_depth': 5, 'filter_depth': 0, 'filter_size': 0, 'fc_size': 64, 'image_size': 13, 'is_start': 0, 'pool_size': 0, 'pool_stride': 0}] terminated = True\n",
      "network =  [{'layer_type': 'conv', 'layer_depth': 1, 'filter_depth': 20, 'filter_size': 5, 'fc_size': 0, 'image_size': 24, 'is_start': 0, 'pool_size': 0, 'pool_stride': 0}] terminated = True\n",
      "network =  [{'layer_type': 'conv', 'layer_depth': 1, 'filter_depth': 10, 'filter_size': 1, 'fc_size': 0, 'image_size': 28, 'is_start': 0, 'pool_size': 0, 'pool_stride': 0}] terminated = True\n",
      "network =  [{'layer_type': 'conv', 'layer_depth': 1, 'filter_depth': 32, 'filter_size': 5, 'fc_size': 0, 'image_size': 24, 'is_start': 0, 'pool_size': 0, 'pool_stride': 0}, {'layer_type': 'pool', 'layer_depth': 2, 'filter_depth': 64, 'filter_size': 3, 'fc_size': 128, 'image_size': 7, 'is_start': 0, 'pool_size': 5, 'pool_stride': 3}] terminated = True\n",
      "network =  [{'layer_type': 'conv', 'layer_depth': 1, 'filter_depth': 64, 'filter_size': 5, 'fc_size': 0, 'image_size': 24, 'is_start': 0, 'pool_size': 0, 'pool_stride': 0}] terminated = True\n",
      "network =  [{'layer_type': 'conv', 'layer_depth': 1, 'filter_depth': 64, 'filter_size': 5, 'fc_size': 0, 'image_size': 24, 'is_start': 0, 'pool_size': 0, 'pool_stride': 0}, {'layer_type': 'fc', 'layer_depth': 2, 'filter_depth': 20, 'filter_size': 3, 'fc_size': 128, 'image_size': 24, 'is_start': 0, 'pool_size': 2, 'pool_stride': 2}, {'layer_type': 'fc', 'layer_depth': 3, 'filter_depth': 0, 'filter_size': 0, 'fc_size': 64, 'image_size': 24, 'is_start': 0, 'pool_size': 0, 'pool_stride': 0}] terminated = True\n",
      "network =  [{'layer_type': 'conv', 'layer_depth': 1, 'filter_depth': 10, 'filter_size': 5, 'fc_size': 0, 'image_size': 24, 'is_start': 0, 'pool_size': 0, 'pool_stride': 0}, {'layer_type': 'conv', 'layer_depth': 2, 'filter_depth': 20, 'filter_size': 3, 'fc_size': 512, 'image_size': 22, 'is_start': 0, 'pool_size': 2, 'pool_stride': 2}, {'layer_type': 'conv', 'layer_depth': 3, 'filter_depth': 10, 'filter_size': 3, 'fc_size': 512, 'image_size': 20, 'is_start': 0, 'pool_size': 3, 'pool_stride': 2}, {'layer_type': 'conv', 'layer_depth': 4, 'filter_depth': 20, 'filter_size': 1, 'fc_size': 512, 'image_size': 20, 'is_start': 0, 'pool_size': 2, 'pool_stride': 2}, {'layer_type': 'pool', 'layer_depth': 5, 'filter_depth': 64, 'filter_size': 5, 'fc_size': 256, 'image_size': 6, 'is_start': 0, 'pool_size': 5, 'pool_stride': 3}, {'layer_type': 'fc', 'layer_depth': 6, 'filter_depth': 10, 'filter_size': 3, 'fc_size': 512, 'image_size': 6, 'is_start': 0, 'pool_size': 0, 'pool_stride': 0}, {'layer_type': 'fc', 'layer_depth': 7, 'filter_depth': 0, 'filter_size': 0, 'fc_size': 64, 'image_size': 6, 'is_start': 0, 'pool_size': 0, 'pool_stride': 0}] terminated = True\n"
     ]
    }
   ],
   "source": [
    "model.learn(total_timesteps=100)"
   ]
  },
  {
   "cell_type": "code",
   "execution_count": null,
   "metadata": {},
   "outputs": [],
   "source": [
    "# # env = ActionMasker(env, masking_fn)\n",
    "# model = MaskablePPO(MaskableActorCriticPolicy, cnn_env, verbose=1)\n",
    "# model.learn(total_timesteps=(100))"
   ]
  },
  {
   "cell_type": "code",
   "execution_count": null,
   "metadata": {},
   "outputs": [],
   "source": []
  }
 ],
 "metadata": {
  "kernelspec": {
   "display_name": "venv",
   "language": "python",
   "name": "python3"
  },
  "language_info": {
   "codemirror_mode": {
    "name": "ipython",
    "version": 3
   },
   "file_extension": ".py",
   "mimetype": "text/x-python",
   "name": "python",
   "nbconvert_exporter": "python",
   "pygments_lexer": "ipython3",
   "version": "3.7.6"
  },
  "orig_nbformat": 4,
  "vscode": {
   "interpreter": {
    "hash": "cf73a689ba998dc6f3460086dc66de4c3a85bb66803eb508340fb019598e645e"
   }
  }
 },
 "nbformat": 4,
 "nbformat_minor": 2
}
