{
 "cells": [
  {
   "cell_type": "code",
   "execution_count": 1,
   "metadata": {},
   "outputs": [],
   "source": [
    "import gym_examples\n",
    "import gym\n",
    "import numpy as np\n",
    "# from stable_baselines3 import PPO\n",
    "import sb3_contrib as sb3\n",
    "from sb3_contrib import MaskablePPO\n",
    "from sb3_contrib.common.wrappers import ActionMasker\n",
    "from sb3_contrib.common.maskable.policies import MaskableActorCriticPolicy\n",
    "from gym.wrappers import FlattenObservation\n",
    "from stable_baselines3.common.env_util import make_vec_env\n",
    "from sb3_contrib.common.maskable.utils import get_action_masks"
   ]
  },
  {
   "cell_type": "code",
   "execution_count": 2,
   "metadata": {},
   "outputs": [
    {
     "data": {
      "text/plain": [
       "('1.7.0', '0.26.0')"
      ]
     },
     "execution_count": 2,
     "metadata": {},
     "output_type": "execute_result"
    }
   ],
   "source": [
    "sb3.__version__, gym.__version__"
   ]
  },
  {
   "attachments": {},
   "cell_type": "markdown",
   "metadata": {},
   "source": [
    "# CNN ENV TESTING"
   ]
  },
  {
   "cell_type": "code",
   "execution_count": 3,
   "metadata": {},
   "outputs": [],
   "source": [
    "env2 = gym.make(\"gym_examples/CNN-v0\")"
   ]
  },
  {
   "cell_type": "code",
   "execution_count": 4,
   "metadata": {},
   "outputs": [
    {
     "data": {
      "text/plain": [
       "({'layer_type': 0,\n",
       "  'layer_depth': 0,\n",
       "  'filter_depth': 0,\n",
       "  'filter_size': 0,\n",
       "  'fc_size': 0,\n",
       "  'is_start': 1,\n",
       "  'pool_size_and_stride': 0},\n",
       " {'current_network': [{'layer_type': 'conv',\n",
       "    'layer_depth': 0,\n",
       "    'filter_depth': 0,\n",
       "    'filter_size': 0,\n",
       "    'fc_size': 0,\n",
       "    'image_size': 28,\n",
       "    'pool_size': 0,\n",
       "    'pool_stride': 0,\n",
       "    'is_start': 1}],\n",
       "  'current_image_size': 28,\n",
       "  'current_layer_depth': 0,\n",
       "  'current_num_fc_layers': 0,\n",
       "  'obs_vector': array([0, 0, 0, 0, 0, 1, 0])})"
      ]
     },
     "execution_count": 4,
     "metadata": {},
     "output_type": "execute_result"
    }
   ],
   "source": [
    "start_cnn = env2.reset()\n",
    "start_cnn"
   ]
  },
  {
   "cell_type": "code",
   "execution_count": 5,
   "metadata": {},
   "outputs": [
    {
     "data": {
      "text/plain": [
       "MultiDiscrete([3 9 5 4 5 2 4])"
      ]
     },
     "execution_count": 5,
     "metadata": {},
     "output_type": "execute_result"
    }
   ],
   "source": [
    "env2.action_space"
   ]
  },
  {
   "cell_type": "code",
   "execution_count": 6,
   "metadata": {},
   "outputs": [
    {
     "name": "stdout",
     "output_type": "stream",
     "text": [
      "inside layer depth limit\n",
      "enabling convolutions\n"
     ]
    },
    {
     "data": {
      "text/plain": [
       "(array([1, 0, 0], dtype=int8),\n",
       " array([0, 1, 0, 0, 0, 0, 0, 0, 0], dtype=int8),\n",
       " array([0, 1, 1, 1, 1], dtype=int8),\n",
       " array([0, 1, 1, 1], dtype=int8),\n",
       " array([1, 0, 0, 0, 0], dtype=int8),\n",
       " array([1, 0], dtype=int8),\n",
       " array([1, 0, 0, 0], dtype=int8))"
      ]
     },
     "execution_count": 6,
     "metadata": {},
     "output_type": "execute_result"
    }
   ],
   "source": [
    "env2.get_valid_action_mask()"
   ]
  },
  {
   "cell_type": "code",
   "execution_count": 7,
   "metadata": {},
   "outputs": [
    {
     "name": "stdout",
     "output_type": "stream",
     "text": [
      "inside layer depth limit\n",
      "enabling convolutions\n"
     ]
    },
    {
     "data": {
      "text/plain": [
       "array([0, 1, 4, 2, 0, 0, 0], dtype=int64)"
      ]
     },
     "execution_count": 7,
     "metadata": {},
     "output_type": "execute_result"
    }
   ],
   "source": [
    "env2.action_space.sample(mask=env2.get_valid_action_mask())"
   ]
  },
  {
   "cell_type": "code",
   "execution_count": 7,
   "metadata": {},
   "outputs": [
    {
     "name": "stdout",
     "output_type": "stream",
     "text": [
      "inside layer depth limit\n",
      "enabling convolutions\n",
      "enabling valid pools\n"
     ]
    }
   ],
   "source": [
    "# take an action that picks a conv layer, with 20 filters with a 3x3 kernel. \n",
    "action = np.array([0, 1, 2, 2, 0, 0, 0], dtype=np.int64)\n",
    "\n",
    "new_obs, reward, terminated, _, info = env2.step(action)"
   ]
  },
  {
   "cell_type": "code",
   "execution_count": 8,
   "metadata": {},
   "outputs": [
    {
     "data": {
      "text/plain": [
       "{'layer_type': 0,\n",
       " 'layer_depth': 1,\n",
       " 'filter_depth': 2,\n",
       " 'filter_size': 2,\n",
       " 'fc_size': 0,\n",
       " 'is_start': 0,\n",
       " 'pool_size_and_stride': 0}"
      ]
     },
     "execution_count": 8,
     "metadata": {},
     "output_type": "execute_result"
    }
   ],
   "source": [
    "new_obs"
   ]
  },
  {
   "cell_type": "code",
   "execution_count": 9,
   "metadata": {},
   "outputs": [
    {
     "data": {
      "text/plain": [
       "{'current_network': [{'layer_type': 'conv',\n",
       "   'layer_depth': 0,\n",
       "   'filter_depth': 0,\n",
       "   'filter_size': 0,\n",
       "   'fc_size': 0,\n",
       "   'image_size': 28,\n",
       "   'pool_size': 0,\n",
       "   'pool_stride': 0,\n",
       "   'is_start': 1},\n",
       "  {'layer_type': 'conv',\n",
       "   'layer_depth': 1,\n",
       "   'filter_depth': 20,\n",
       "   'filter_size': 3,\n",
       "   'fc_size': 0,\n",
       "   'image_size': 26,\n",
       "   'is_start': 0,\n",
       "   'pool_size': 0,\n",
       "   'pool_stride': 0}],\n",
       " 'current_image_size': 26,\n",
       " 'current_layer_depth': 1,\n",
       " 'current_num_fc_layers': 0,\n",
       " 'obs_vector': array([0, 1, 2, 2, 0, 0, 0])}"
      ]
     },
     "execution_count": 9,
     "metadata": {},
     "output_type": "execute_result"
    }
   ],
   "source": [
    "info"
   ]
  },
  {
   "cell_type": "code",
   "execution_count": 11,
   "metadata": {},
   "outputs": [
    {
     "name": "stdout",
     "output_type": "stream",
     "text": [
      "inside layer depth limit\n",
      "enabling convolutions\n",
      "enabling valid pools\n"
     ]
    },
    {
     "data": {
      "text/plain": [
       "(array([1, 1, 1], dtype=int8),\n",
       " array([0, 0, 1, 0, 0, 0, 0, 0, 0], dtype=int8),\n",
       " array([0, 1, 1, 1, 1], dtype=int8),\n",
       " array([0, 1, 1, 1], dtype=int8),\n",
       " array([0, 1, 1, 1, 1], dtype=int8),\n",
       " array([1, 1], dtype=int8),\n",
       " array([0, 1, 1, 1], dtype=int8))"
      ]
     },
     "execution_count": 11,
     "metadata": {},
     "output_type": "execute_result"
    }
   ],
   "source": [
    "env2.get_valid_action_mask()"
   ]
  },
  {
   "cell_type": "code",
   "execution_count": 12,
   "metadata": {},
   "outputs": [
    {
     "data": {
      "text/plain": [
       "{'current_network': [{'layer_type': 'conv',\n",
       "   'layer_depth': 0,\n",
       "   'filter_depth': 0,\n",
       "   'filter_size': 0,\n",
       "   'fc_size': 0,\n",
       "   'image_size': 28,\n",
       "   'pool_size': 0,\n",
       "   'pool_stride': 0,\n",
       "   'is_start': 1},\n",
       "  {'layer_type': 'conv',\n",
       "   'layer_depth': 1,\n",
       "   'filter_depth': 20,\n",
       "   'filter_size': 3,\n",
       "   'fc_size': 0,\n",
       "   'image_size': 26,\n",
       "   'is_start': 0,\n",
       "   'pool_size': 0,\n",
       "   'pool_stride': 0},\n",
       "  {'layer_type': 'fc',\n",
       "   'layer_depth': 2,\n",
       "   'filter_depth': 20,\n",
       "   'filter_size': 3,\n",
       "   'fc_size': 512,\n",
       "   'image_size': 26,\n",
       "   'is_start': 0,\n",
       "   'pool_size': 5,\n",
       "   'pool_stride': 3}],\n",
       " 'current_image_size': 26,\n",
       " 'current_layer_depth': 2,\n",
       " 'current_num_fc_layers': 1}"
      ]
     },
     "execution_count": 12,
     "metadata": {},
     "output_type": "execute_result"
    }
   ],
   "source": [
    "#make an fc layer with 512\n",
    "action = np.array([2, 2, 2, 2, 1, 0, 1], dtype=np.int64)\n",
    "new_obs, reward, terminated, _, info = env2.step(action)\n",
    "\n",
    "info"
   ]
  },
  {
   "cell_type": "code",
   "execution_count": 13,
   "metadata": {},
   "outputs": [
    {
     "name": "stdout",
     "output_type": "stream",
     "text": [
      "inside layer depth limit\n"
     ]
    },
    {
     "data": {
      "text/plain": [
       "(array([0, 0, 1], dtype=int8),\n",
       " array([0, 0, 0, 1, 0, 0, 0, 0, 0], dtype=int8),\n",
       " array([1, 0, 0, 0, 0], dtype=int8),\n",
       " array([1, 0, 0, 0], dtype=int8),\n",
       " array([0, 0, 1, 1, 1], dtype=int8),\n",
       " array([0, 1], dtype=int8),\n",
       " array([1, 0, 0, 0], dtype=int8))"
      ]
     },
     "execution_count": 13,
     "metadata": {},
     "output_type": "execute_result"
    }
   ],
   "source": [
    "env2.get_valid_action_mask() #Only fc layer allowed and fc layer with less than 512 nodes and this has to be terminal layer"
   ]
  },
  {
   "cell_type": "code",
   "execution_count": 14,
   "metadata": {},
   "outputs": [
    {
     "name": "stdout",
     "output_type": "stream",
     "text": [
      "network =  [{'layer_type': 'conv', 'layer_depth': 0, 'filter_depth': 0, 'filter_size': 0, 'fc_size': 0, 'image_size': 28, 'pool_size': 0, 'pool_stride': 0, 'is_start': 1}, {'layer_type': 'conv', 'layer_depth': 1, 'filter_depth': 20, 'filter_size': 3, 'fc_size': 0, 'image_size': 26, 'is_start': 0, 'pool_size': 0, 'pool_stride': 0}, {'layer_type': 'fc', 'layer_depth': 2, 'filter_depth': 20, 'filter_size': 3, 'fc_size': 512, 'image_size': 26, 'is_start': 0, 'pool_size': 5, 'pool_stride': 3}, {'layer_type': 'fc', 'layer_depth': 3, 'filter_depth': 0, 'filter_size': 0, 'fc_size': 256, 'image_size': 26, 'is_start': 0, 'pool_size': 0, 'pool_stride': 0}] terminated = True\n",
      "layersList =  [('conv', 1, 20, 3, 1, 26, 0, 0, []), ('fc', 2, 20, 5, 3, 26, 512, 0, []), ('fc', 3, 0, 0, 0, 26, 256, 0, [])]\n"
     ]
    },
    {
     "data": {
      "text/plain": [
       "{'current_network': [{'layer_type': 'conv',\n",
       "   'layer_depth': 0,\n",
       "   'filter_depth': 0,\n",
       "   'filter_size': 0,\n",
       "   'fc_size': 0,\n",
       "   'image_size': 28,\n",
       "   'pool_size': 0,\n",
       "   'pool_stride': 0,\n",
       "   'is_start': 1},\n",
       "  {'layer_type': 'conv',\n",
       "   'layer_depth': 1,\n",
       "   'filter_depth': 20,\n",
       "   'filter_size': 3,\n",
       "   'fc_size': 0,\n",
       "   'image_size': 26,\n",
       "   'is_start': 0,\n",
       "   'pool_size': 0,\n",
       "   'pool_stride': 0},\n",
       "  {'layer_type': 'fc',\n",
       "   'layer_depth': 2,\n",
       "   'filter_depth': 20,\n",
       "   'filter_size': 3,\n",
       "   'fc_size': 512,\n",
       "   'image_size': 26,\n",
       "   'is_start': 0,\n",
       "   'pool_size': 5,\n",
       "   'pool_stride': 3},\n",
       "  {'layer_type': 'fc',\n",
       "   'layer_depth': 3,\n",
       "   'filter_depth': 0,\n",
       "   'filter_size': 0,\n",
       "   'fc_size': 256,\n",
       "   'image_size': 26,\n",
       "   'is_start': 0,\n",
       "   'pool_size': 0,\n",
       "   'pool_stride': 0}],\n",
       " 'current_image_size': 26,\n",
       " 'current_layer_depth': 3,\n",
       " 'current_num_fc_layers': 2}"
      ]
     },
     "execution_count": 14,
     "metadata": {},
     "output_type": "execute_result"
    }
   ],
   "source": [
    "action = np.array([2, 3, 0, 0, 2, 1, 0], dtype=np.int64)\n",
    "new_obs, reward, terminated, _, info = env2.step(action)\n",
    "\n",
    "info"
   ]
  },
  {
   "cell_type": "code",
   "execution_count": 15,
   "metadata": {},
   "outputs": [
    {
     "data": {
      "text/plain": [
       "0.9907848744836352"
      ]
     },
     "execution_count": 15,
     "metadata": {},
     "output_type": "execute_result"
    }
   ],
   "source": [
    "reward"
   ]
  },
  {
   "cell_type": "code",
   "execution_count": 5,
   "metadata": {},
   "outputs": [],
   "source": [
    "# env = gym.make(\"gym_examples/StarWars-v0\")"
   ]
  },
  {
   "attachments": {},
   "cell_type": "markdown",
   "metadata": {},
   "source": [
    "# PPO DEBUGGING"
   ]
  },
  {
   "cell_type": "code",
   "execution_count": 3,
   "metadata": {},
   "outputs": [
    {
     "data": {
      "text/plain": [
       "MultiDiscrete([4 8 5 4 4 2])"
      ]
     },
     "execution_count": 3,
     "metadata": {},
     "output_type": "execute_result"
    }
   ],
   "source": [
    "myspace = gym.spaces.MultiDiscrete([4, 8, 5, 4, 4, 2])\n",
    "myspace"
   ]
  },
  {
   "cell_type": "code",
   "execution_count": 12,
   "metadata": {},
   "outputs": [],
   "source": [
    "# md_mask = tuple([np.ones(x,) for x in myspace.nvec])\n",
    "# md_mask"
   ]
  },
  {
   "cell_type": "code",
   "execution_count": 13,
   "metadata": {},
   "outputs": [],
   "source": [
    "# mysample = myspace.sample()\n",
    "# mysample"
   ]
  },
  {
   "cell_type": "code",
   "execution_count": 14,
   "metadata": {},
   "outputs": [],
   "source": [
    "# array([1, 6, 4, 2, 2, 0]) -> interpreted as [layer_type, layer_depth, filter_depth, filter_size, fc_size, terminal]\n",
    "# i.e. [pool, 6th layer, 512 filter depth, 3 kernel size, 128 FC size, terminal]\n"
   ]
  },
  {
   "cell_type": "code",
   "execution_count": 15,
   "metadata": {},
   "outputs": [],
   "source": [
    "# flatten(myspace, mysample)"
   ]
  },
  {
   "cell_type": "code",
   "execution_count": 8,
   "metadata": {},
   "outputs": [],
   "source": [
    "cnn_env = gym.make(\"gym_examples/CNN-v0\")"
   ]
  },
  {
   "cell_type": "code",
   "execution_count": 39,
   "metadata": {},
   "outputs": [],
   "source": [
    "# cnn_env = ActionMasker(cnn_env, masking_fn)"
   ]
  },
  {
   "cell_type": "code",
   "execution_count": 18,
   "metadata": {},
   "outputs": [],
   "source": [
    "# cnn_env = ActionMasker(FlattenObservation(cnn_env, masking_fn))"
   ]
  },
  {
   "cell_type": "code",
   "execution_count": 9,
   "metadata": {},
   "outputs": [
    {
     "data": {
      "text/plain": [
       "OrderedDict([('fc_size', 0),\n",
       "             ('filter_depth', 1),\n",
       "             ('filter_size', 3),\n",
       "             ('is_start', 1),\n",
       "             ('layer_depth', 1),\n",
       "             ('layer_type', 2),\n",
       "             ('pool_size_and_stride', 0)])"
      ]
     },
     "execution_count": 9,
     "metadata": {},
     "output_type": "execute_result"
    }
   ],
   "source": [
    "cnn_env.observation_space.sample()"
   ]
  },
  {
   "cell_type": "code",
   "execution_count": 6,
   "metadata": {},
   "outputs": [
    {
     "name": "stdout",
     "output_type": "stream",
     "text": [
      "Using cpu device\n",
      "Wrapping the env with a `Monitor` wrapper\n",
      "Wrapping the env in a DummyVecEnv.\n"
     ]
    }
   ],
   "source": [
    "model = MaskablePPO(MaskableActorCriticPolicy, FlattenObservation(cnn_env), verbose=1)"
   ]
  },
  {
   "cell_type": "code",
   "execution_count": 7,
   "metadata": {},
   "outputs": [
    {
     "name": "stdout",
     "output_type": "stream",
     "text": [
      "inside layer depth limit\n",
      "enabling convolutions\n",
      "inside layer depth limit\n",
      "enabling convolutions\n",
      "enabling valid pools\n",
      "inside layer depth limit\n",
      "enabling convolutions\n",
      "enabling valid pools\n",
      "inside layer depth limit\n",
      "enabling convolutions\n",
      "inside layer depth limit\n",
      "enabling convolutions\n",
      "inside layer depth limit\n",
      "network =  [{'layer_type': 'conv', 'layer_depth': 0, 'filter_depth': 0, 'filter_size': 0, 'fc_size': 0, 'image_size': 28, 'pool_size': 0, 'pool_stride': 0, 'is_start': 1}, {'layer_type': 'conv', 'layer_depth': 1, 'filter_depth': 64, 'filter_size': 3, 'fc_size': 0, 'image_size': 26, 'is_start': 0, 'pool_size': 0, 'pool_stride': 0}, {'layer_type': 'pool', 'layer_depth': 2, 'filter_depth': 20, 'filter_size': 1, 'fc_size': 128, 'image_size': 13, 'is_start': 0, 'pool_size': 2, 'pool_stride': 2}, {'layer_type': 'fc', 'layer_depth': 3, 'filter_depth': 32, 'filter_size': 5, 'fc_size': 256, 'image_size': 13, 'is_start': 0, 'pool_size': 0, 'pool_stride': 0}] terminated = True\n",
      "layersList =  [('conv', 1, 64, 3, 1, 26, 0, 0, []), ('pool', 2, 20, 2, 2, 13, 128, 0, []), ('fc', 3, 32, 0, 0, 13, 256, 0, [])]\n",
      "inside layer depth limit\n",
      "enabling convolutions\n",
      "inside layer depth limit\n",
      "enabling convolutions\n",
      "enabling valid pools\n",
      "network =  [{'layer_type': 'conv', 'layer_depth': 0, 'filter_depth': 0, 'filter_size': 0, 'fc_size': 0, 'image_size': 28, 'pool_size': 0, 'pool_stride': 0, 'is_start': 1}, {'layer_type': 'conv', 'layer_depth': 1, 'filter_depth': 64, 'filter_size': 3, 'fc_size': 0, 'image_size': 26, 'is_start': 0, 'pool_size': 0, 'pool_stride': 0}] terminated = True\n",
      "layersList =  [('conv', 1, 64, 3, 1, 26, 0, 0, [])]\n",
      "inside layer depth limit\n",
      "enabling convolutions\n",
      "inside layer depth limit\n",
      "enabling convolutions\n",
      "enabling valid pools\n",
      "network =  [{'layer_type': 'conv', 'layer_depth': 0, 'filter_depth': 0, 'filter_size': 0, 'fc_size': 0, 'image_size': 28, 'pool_size': 0, 'pool_stride': 0, 'is_start': 1}, {'layer_type': 'conv', 'layer_depth': 1, 'filter_depth': 10, 'filter_size': 3, 'fc_size': 0, 'image_size': 26, 'is_start': 0, 'pool_size': 0, 'pool_stride': 0}] terminated = True\n",
      "layersList =  [('conv', 1, 10, 3, 1, 26, 0, 0, [])]\n",
      "inside layer depth limit\n",
      "enabling convolutions\n",
      "inside layer depth limit\n",
      "enabling convolutions\n",
      "enabling valid pools\n",
      "network =  [{'layer_type': 'conv', 'layer_depth': 0, 'filter_depth': 0, 'filter_size': 0, 'fc_size': 0, 'image_size': 28, 'pool_size': 0, 'pool_stride': 0, 'is_start': 1}, {'layer_type': 'conv', 'layer_depth': 1, 'filter_depth': 32, 'filter_size': 5, 'fc_size': 0, 'image_size': 24, 'is_start': 0, 'pool_size': 0, 'pool_stride': 0}] terminated = True\n",
      "layersList =  [('conv', 1, 32, 5, 1, 24, 0, 0, [])]\n",
      "inside layer depth limit\n",
      "enabling convolutions\n",
      "inside layer depth limit\n",
      "enabling convolutions\n",
      "enabling valid pools\n",
      "network =  [{'layer_type': 'conv', 'layer_depth': 0, 'filter_depth': 0, 'filter_size': 0, 'fc_size': 0, 'image_size': 28, 'pool_size': 0, 'pool_stride': 0, 'is_start': 1}, {'layer_type': 'conv', 'layer_depth': 1, 'filter_depth': 64, 'filter_size': 3, 'fc_size': 0, 'image_size': 26, 'is_start': 0, 'pool_size': 0, 'pool_stride': 0}] terminated = True\n",
      "layersList =  [('conv', 1, 64, 3, 1, 26, 0, 0, [])]\n",
      "inside layer depth limit\n",
      "enabling convolutions\n",
      "inside layer depth limit\n",
      "enabling convolutions\n",
      "enabling valid pools\n",
      "network =  [{'layer_type': 'conv', 'layer_depth': 0, 'filter_depth': 0, 'filter_size': 0, 'fc_size': 0, 'image_size': 28, 'pool_size': 0, 'pool_stride': 0, 'is_start': 1}, {'layer_type': 'conv', 'layer_depth': 1, 'filter_depth': 10, 'filter_size': 3, 'fc_size': 0, 'image_size': 26, 'is_start': 0, 'pool_size': 0, 'pool_stride': 0}] terminated = True\n",
      "layersList =  [('conv', 1, 10, 3, 1, 26, 0, 0, [])]\n",
      "inside layer depth limit\n",
      "enabling convolutions\n",
      "inside layer depth limit\n",
      "enabling convolutions\n",
      "enabling valid pools\n",
      "inside layer depth limit\n",
      "enabling convolutions\n",
      "enabling valid pools\n",
      "inside layer depth limit\n",
      "enabling convolutions\n",
      "enabling valid pools\n",
      "network =  [{'layer_type': 'conv', 'layer_depth': 0, 'filter_depth': 0, 'filter_size': 0, 'fc_size': 0, 'image_size': 28, 'pool_size': 0, 'pool_stride': 0, 'is_start': 1}, {'layer_type': 'conv', 'layer_depth': 1, 'filter_depth': 64, 'filter_size': 5, 'fc_size': 0, 'image_size': 24, 'is_start': 0, 'pool_size': 0, 'pool_stride': 0}, {'layer_type': 'conv', 'layer_depth': 2, 'filter_depth': 32, 'filter_size': 3, 'fc_size': 64, 'image_size': 22, 'is_start': 0, 'pool_size': 2, 'pool_stride': 2}] terminated = True\n",
      "layersList =  [('conv', 1, 64, 5, 1, 24, 0, 0, []), ('conv', 2, 32, 3, 1, 22, 64, 0, [])]\n",
      "inside layer depth limit\n",
      "enabling convolutions\n",
      "inside layer depth limit\n",
      "enabling convolutions\n",
      "enabling valid pools\n",
      "network =  [{'layer_type': 'conv', 'layer_depth': 0, 'filter_depth': 0, 'filter_size': 0, 'fc_size': 0, 'image_size': 28, 'pool_size': 0, 'pool_stride': 0, 'is_start': 1}, {'layer_type': 'conv', 'layer_depth': 1, 'filter_depth': 32, 'filter_size': 5, 'fc_size': 0, 'image_size': 24, 'is_start': 0, 'pool_size': 0, 'pool_stride': 0}] terminated = True\n",
      "layersList =  [('conv', 1, 32, 5, 1, 24, 0, 0, [])]\n",
      "inside layer depth limit\n",
      "enabling convolutions\n",
      "inside layer depth limit\n",
      "enabling convolutions\n",
      "enabling valid pools\n",
      "network =  [{'layer_type': 'conv', 'layer_depth': 0, 'filter_depth': 0, 'filter_size': 0, 'fc_size': 0, 'image_size': 28, 'pool_size': 0, 'pool_stride': 0, 'is_start': 1}, {'layer_type': 'conv', 'layer_depth': 1, 'filter_depth': 20, 'filter_size': 3, 'fc_size': 0, 'image_size': 26, 'is_start': 0, 'pool_size': 0, 'pool_stride': 0}] terminated = True\n",
      "layersList =  [('conv', 1, 20, 3, 1, 26, 0, 0, [])]\n",
      "inside layer depth limit\n",
      "enabling convolutions\n",
      "inside layer depth limit\n",
      "enabling convolutions\n",
      "enabling valid pools\n",
      "network =  [{'layer_type': 'conv', 'layer_depth': 0, 'filter_depth': 0, 'filter_size': 0, 'fc_size': 0, 'image_size': 28, 'pool_size': 0, 'pool_stride': 0, 'is_start': 1}, {'layer_type': 'conv', 'layer_depth': 1, 'filter_depth': 32, 'filter_size': 1, 'fc_size': 0, 'image_size': 28, 'is_start': 0, 'pool_size': 0, 'pool_stride': 0}] terminated = True\n",
      "layersList =  [('conv', 1, 32, 1, 1, 28, 0, 0, [])]\n",
      "inside layer depth limit\n",
      "enabling convolutions\n",
      "inside layer depth limit\n",
      "enabling convolutions\n",
      "enabling valid pools\n",
      "network =  [{'layer_type': 'conv', 'layer_depth': 0, 'filter_depth': 0, 'filter_size': 0, 'fc_size': 0, 'image_size': 28, 'pool_size': 0, 'pool_stride': 0, 'is_start': 1}, {'layer_type': 'conv', 'layer_depth': 1, 'filter_depth': 20, 'filter_size': 1, 'fc_size': 0, 'image_size': 28, 'is_start': 0, 'pool_size': 0, 'pool_stride': 0}] terminated = True\n",
      "layersList =  [('conv', 1, 20, 1, 1, 28, 0, 0, [])]\n",
      "inside layer depth limit\n",
      "enabling convolutions\n",
      "inside layer depth limit\n",
      "enabling convolutions\n",
      "enabling valid pools\n",
      "inside layer depth limit\n",
      "enabling convolutions\n",
      "enabling valid pools\n",
      "inside layer depth limit\n",
      "inside layer depth limit\n",
      "inside layer depth limit\n",
      "network =  [{'layer_type': 'conv', 'layer_depth': 0, 'filter_depth': 0, 'filter_size': 0, 'fc_size': 0, 'image_size': 28, 'pool_size': 0, 'pool_stride': 0, 'is_start': 1}, {'layer_type': 'conv', 'layer_depth': 1, 'filter_depth': 10, 'filter_size': 3, 'fc_size': 0, 'image_size': 26, 'is_start': 0, 'pool_size': 0, 'pool_stride': 0}, {'layer_type': 'fc', 'layer_depth': 2, 'filter_depth': 20, 'filter_size': 1, 'fc_size': 512, 'image_size': 26, 'is_start': 0, 'pool_size': 2, 'pool_stride': 2}, {'layer_type': 'fc', 'layer_depth': 3, 'filter_depth': 0, 'filter_size': 0, 'fc_size': 128, 'image_size': 26, 'is_start': 0, 'pool_size': 0, 'pool_stride': 0}] terminated = True\n",
      "layersList =  [('conv', 1, 10, 3, 1, 26, 0, 0, []), ('fc', 2, 20, 2, 2, 26, 512, 0, []), ('fc', 3, 0, 0, 0, 26, 128, 0, [])]\n",
      "inside layer depth limit\n",
      "enabling convolutions\n",
      "inside layer depth limit\n",
      "enabling convolutions\n",
      "enabling valid pools\n",
      "network =  [{'layer_type': 'conv', 'layer_depth': 0, 'filter_depth': 0, 'filter_size': 0, 'fc_size': 0, 'image_size': 28, 'pool_size': 0, 'pool_stride': 0, 'is_start': 1}, {'layer_type': 'conv', 'layer_depth': 1, 'filter_depth': 64, 'filter_size': 5, 'fc_size': 0, 'image_size': 24, 'is_start': 0, 'pool_size': 0, 'pool_stride': 0}] terminated = True\n",
      "layersList =  [('conv', 1, 64, 5, 1, 24, 0, 0, [])]\n",
      "inside layer depth limit\n",
      "enabling convolutions\n",
      "inside layer depth limit\n",
      "enabling convolutions\n",
      "enabling valid pools\n",
      "network =  [{'layer_type': 'conv', 'layer_depth': 0, 'filter_depth': 0, 'filter_size': 0, 'fc_size': 0, 'image_size': 28, 'pool_size': 0, 'pool_stride': 0, 'is_start': 1}, {'layer_type': 'conv', 'layer_depth': 1, 'filter_depth': 20, 'filter_size': 1, 'fc_size': 0, 'image_size': 28, 'is_start': 0, 'pool_size': 0, 'pool_stride': 0}] terminated = True\n",
      "layersList =  [('conv', 1, 20, 1, 1, 28, 0, 0, [])]\n",
      "inside layer depth limit\n",
      "enabling convolutions\n",
      "inside layer depth limit\n",
      "enabling convolutions\n",
      "enabling valid pools\n",
      "inside layer depth limit\n",
      "enabling convolutions\n",
      "enabling valid pools\n",
      "inside layer depth limit\n",
      "inside layer depth limit\n",
      "inside layer depth limit\n",
      "network =  [{'layer_type': 'conv', 'layer_depth': 0, 'filter_depth': 0, 'filter_size': 0, 'fc_size': 0, 'image_size': 28, 'pool_size': 0, 'pool_stride': 0, 'is_start': 1}, {'layer_type': 'conv', 'layer_depth': 1, 'filter_depth': 20, 'filter_size': 5, 'fc_size': 0, 'image_size': 24, 'is_start': 0, 'pool_size': 0, 'pool_stride': 0}, {'layer_type': 'fc', 'layer_depth': 2, 'filter_depth': 10, 'filter_size': 3, 'fc_size': 512, 'image_size': 24, 'is_start': 0, 'pool_size': 5, 'pool_stride': 3}, {'layer_type': 'fc', 'layer_depth': 3, 'filter_depth': 0, 'filter_size': 0, 'fc_size': 64, 'image_size': 24, 'is_start': 0, 'pool_size': 0, 'pool_stride': 0}] terminated = True\n",
      "layersList =  [('conv', 1, 20, 5, 1, 24, 0, 0, []), ('fc', 2, 10, 5, 3, 24, 512, 0, []), ('fc', 3, 0, 0, 0, 24, 64, 0, [])]\n",
      "inside layer depth limit\n",
      "enabling convolutions\n",
      "inside layer depth limit\n",
      "enabling convolutions\n",
      "enabling valid pools\n",
      "inside layer depth limit\n",
      "enabling convolutions\n",
      "enabling valid pools\n",
      "inside layer depth limit\n",
      "network =  [{'layer_type': 'conv', 'layer_depth': 0, 'filter_depth': 0, 'filter_size': 0, 'fc_size': 0, 'image_size': 28, 'pool_size': 0, 'pool_stride': 0, 'is_start': 1}, {'layer_type': 'conv', 'layer_depth': 1, 'filter_depth': 20, 'filter_size': 3, 'fc_size': 0, 'image_size': 26, 'is_start': 0, 'pool_size': 0, 'pool_stride': 0}, {'layer_type': 'fc', 'layer_depth': 2, 'filter_depth': 20, 'filter_size': 5, 'fc_size': 512, 'image_size': 26, 'is_start': 0, 'pool_size': 5, 'pool_stride': 3}] terminated = True\n",
      "layersList =  [('conv', 1, 20, 3, 1, 26, 0, 0, []), ('fc', 2, 20, 5, 3, 26, 512, 0, [])]\n",
      "inside layer depth limit\n",
      "enabling convolutions\n",
      "inside layer depth limit\n",
      "enabling convolutions\n",
      "enabling valid pools\n",
      "inside layer depth limit\n",
      "enabling convolutions\n",
      "enabling valid pools\n",
      "inside layer depth limit\n",
      "enabling convolutions\n",
      "enabling valid pools\n",
      "network =  [{'layer_type': 'conv', 'layer_depth': 0, 'filter_depth': 0, 'filter_size': 0, 'fc_size': 0, 'image_size': 28, 'pool_size': 0, 'pool_stride': 0, 'is_start': 1}, {'layer_type': 'conv', 'layer_depth': 1, 'filter_depth': 10, 'filter_size': 1, 'fc_size': 0, 'image_size': 28, 'is_start': 0, 'pool_size': 0, 'pool_stride': 0}, {'layer_type': 'conv', 'layer_depth': 2, 'filter_depth': 20, 'filter_size': 3, 'fc_size': 64, 'image_size': 26, 'is_start': 0, 'pool_size': 5, 'pool_stride': 3}] terminated = True\n",
      "layersList =  [('conv', 1, 10, 1, 1, 28, 0, 0, []), ('conv', 2, 20, 3, 1, 26, 64, 0, [])]\n",
      "inside layer depth limit\n",
      "enabling convolutions\n",
      "inside layer depth limit\n",
      "enabling convolutions\n",
      "enabling valid pools\n",
      "network =  [{'layer_type': 'conv', 'layer_depth': 0, 'filter_depth': 0, 'filter_size': 0, 'fc_size': 0, 'image_size': 28, 'pool_size': 0, 'pool_stride': 0, 'is_start': 1}, {'layer_type': 'conv', 'layer_depth': 1, 'filter_depth': 64, 'filter_size': 3, 'fc_size': 0, 'image_size': 26, 'is_start': 0, 'pool_size': 0, 'pool_stride': 0}] terminated = True\n",
      "layersList =  [('conv', 1, 64, 3, 1, 26, 0, 0, [])]\n",
      "inside layer depth limit\n",
      "enabling convolutions\n",
      "inside layer depth limit\n",
      "enabling convolutions\n",
      "enabling valid pools\n",
      "inside layer depth limit\n",
      "enabling convolutions\n",
      "enabling valid pools\n",
      "inside layer depth limit\n",
      "enabling convolutions\n",
      "enabling valid pools\n",
      "inside layer depth limit\n",
      "enabling convolutions\n",
      "enabling valid pools\n",
      "inside layer depth limit\n",
      "enabling convolutions\n",
      "inside layer depth limit\n",
      "enabling convolutions\n",
      "inside layer depth limit\n",
      "inside layer depth limit\n",
      "inside layer depth limit\n",
      "network =  [{'layer_type': 'conv', 'layer_depth': 0, 'filter_depth': 0, 'filter_size': 0, 'fc_size': 0, 'image_size': 28, 'pool_size': 0, 'pool_stride': 0, 'is_start': 1}, {'layer_type': 'conv', 'layer_depth': 1, 'filter_depth': 64, 'filter_size': 1, 'fc_size': 0, 'image_size': 28, 'is_start': 0, 'pool_size': 0, 'pool_stride': 0}, {'layer_type': 'conv', 'layer_depth': 2, 'filter_depth': 64, 'filter_size': 1, 'fc_size': 256, 'image_size': 28, 'is_start': 0, 'pool_size': 3, 'pool_stride': 2}, {'layer_type': 'pool', 'layer_depth': 3, 'filter_depth': 64, 'filter_size': 5, 'fc_size': 64, 'image_size': 13, 'is_start': 0, 'pool_size': 3, 'pool_stride': 2}, {'layer_type': 'fc', 'layer_depth': 4, 'filter_depth': 32, 'filter_size': 3, 'fc_size': 256, 'image_size': 13, 'is_start': 0, 'pool_size': 0, 'pool_stride': 0}, {'layer_type': 'fc', 'layer_depth': 5, 'filter_depth': 0, 'filter_size': 0, 'fc_size': 64, 'image_size': 13, 'is_start': 0, 'pool_size': 0, 'pool_stride': 0}] terminated = True\n",
      "layersList =  [('conv', 1, 64, 1, 1, 28, 0, 0, []), ('conv', 2, 64, 1, 1, 28, 256, 0, []), ('pool', 3, 64, 3, 2, 13, 64, 0, []), ('fc', 4, 32, 0, 0, 13, 256, 0, []), ('fc', 5, 0, 0, 0, 13, 64, 0, [])]\n",
      "inside layer depth limit\n",
      "enabling convolutions\n",
      "inside layer depth limit\n",
      "enabling convolutions\n",
      "enabling valid pools\n",
      "network =  [{'layer_type': 'conv', 'layer_depth': 0, 'filter_depth': 0, 'filter_size': 0, 'fc_size': 0, 'image_size': 28, 'pool_size': 0, 'pool_stride': 0, 'is_start': 1}, {'layer_type': 'conv', 'layer_depth': 1, 'filter_depth': 20, 'filter_size': 5, 'fc_size': 0, 'image_size': 24, 'is_start': 0, 'pool_size': 0, 'pool_stride': 0}] terminated = True\n",
      "layersList =  [('conv', 1, 20, 5, 1, 24, 0, 0, [])]\n",
      "inside layer depth limit\n",
      "enabling convolutions\n",
      "inside layer depth limit\n",
      "enabling convolutions\n",
      "enabling valid pools\n",
      "network =  [{'layer_type': 'conv', 'layer_depth': 0, 'filter_depth': 0, 'filter_size': 0, 'fc_size': 0, 'image_size': 28, 'pool_size': 0, 'pool_stride': 0, 'is_start': 1}, {'layer_type': 'conv', 'layer_depth': 1, 'filter_depth': 10, 'filter_size': 1, 'fc_size': 0, 'image_size': 28, 'is_start': 0, 'pool_size': 0, 'pool_stride': 0}] terminated = True\n",
      "layersList =  [('conv', 1, 10, 1, 1, 28, 0, 0, [])]\n",
      "inside layer depth limit\n",
      "enabling convolutions\n",
      "inside layer depth limit\n",
      "enabling convolutions\n",
      "enabling valid pools\n",
      "inside layer depth limit\n",
      "enabling convolutions\n",
      "enabling valid pools\n",
      "inside layer depth limit\n",
      "enabling convolutions\n",
      "network =  [{'layer_type': 'conv', 'layer_depth': 0, 'filter_depth': 0, 'filter_size': 0, 'fc_size': 0, 'image_size': 28, 'pool_size': 0, 'pool_stride': 0, 'is_start': 1}, {'layer_type': 'conv', 'layer_depth': 1, 'filter_depth': 32, 'filter_size': 5, 'fc_size': 0, 'image_size': 24, 'is_start': 0, 'pool_size': 0, 'pool_stride': 0}, {'layer_type': 'pool', 'layer_depth': 2, 'filter_depth': 64, 'filter_size': 3, 'fc_size': 128, 'image_size': 7, 'is_start': 0, 'pool_size': 5, 'pool_stride': 3}] terminated = True\n",
      "layersList =  [('conv', 1, 32, 5, 1, 24, 0, 0, []), ('pool', 2, 64, 5, 3, 7, 128, 0, [])]\n",
      "inside layer depth limit\n",
      "enabling convolutions\n",
      "inside layer depth limit\n",
      "enabling convolutions\n",
      "enabling valid pools\n",
      "network =  [{'layer_type': 'conv', 'layer_depth': 0, 'filter_depth': 0, 'filter_size': 0, 'fc_size': 0, 'image_size': 28, 'pool_size': 0, 'pool_stride': 0, 'is_start': 1}, {'layer_type': 'conv', 'layer_depth': 1, 'filter_depth': 64, 'filter_size': 5, 'fc_size': 0, 'image_size': 24, 'is_start': 0, 'pool_size': 0, 'pool_stride': 0}] terminated = True\n",
      "layersList =  [('conv', 1, 64, 5, 1, 24, 0, 0, [])]\n",
      "inside layer depth limit\n",
      "enabling convolutions\n",
      "inside layer depth limit\n",
      "enabling convolutions\n",
      "enabling valid pools\n",
      "inside layer depth limit\n",
      "enabling convolutions\n",
      "enabling valid pools\n",
      "inside layer depth limit\n",
      "inside layer depth limit\n",
      "inside layer depth limit\n",
      "network =  [{'layer_type': 'conv', 'layer_depth': 0, 'filter_depth': 0, 'filter_size': 0, 'fc_size': 0, 'image_size': 28, 'pool_size': 0, 'pool_stride': 0, 'is_start': 1}, {'layer_type': 'conv', 'layer_depth': 1, 'filter_depth': 64, 'filter_size': 5, 'fc_size': 0, 'image_size': 24, 'is_start': 0, 'pool_size': 0, 'pool_stride': 0}, {'layer_type': 'fc', 'layer_depth': 2, 'filter_depth': 20, 'filter_size': 3, 'fc_size': 128, 'image_size': 24, 'is_start': 0, 'pool_size': 2, 'pool_stride': 2}, {'layer_type': 'fc', 'layer_depth': 3, 'filter_depth': 0, 'filter_size': 0, 'fc_size': 64, 'image_size': 24, 'is_start': 0, 'pool_size': 0, 'pool_stride': 0}] terminated = True\n",
      "layersList =  [('conv', 1, 64, 5, 1, 24, 0, 0, []), ('fc', 2, 20, 2, 2, 24, 128, 0, []), ('fc', 3, 0, 0, 0, 24, 64, 0, [])]\n",
      "inside layer depth limit\n",
      "enabling convolutions\n",
      "inside layer depth limit\n",
      "enabling convolutions\n",
      "enabling valid pools\n",
      "inside layer depth limit\n",
      "enabling convolutions\n",
      "enabling valid pools\n",
      "inside layer depth limit\n",
      "enabling convolutions\n",
      "enabling valid pools\n",
      "inside layer depth limit\n",
      "enabling convolutions\n",
      "enabling valid pools\n",
      "inside layer depth limit\n",
      "enabling convolutions\n",
      "enabling valid pools\n",
      "inside layer depth limit\n",
      "enabling convolutions\n",
      "enabling valid pools\n",
      "inside layer depth limit\n",
      "enabling convolutions\n",
      "enabling valid pools\n",
      "inside layer depth limit\n",
      "enabling convolutions\n",
      "enabling valid pools\n",
      "inside layer depth limit\n",
      "enabling convolutions\n",
      "inside layer depth limit\n",
      "enabling convolutions\n",
      "inside layer depth limit\n",
      "inside layer depth limit\n",
      "inside layer depth limit\n",
      "network =  [{'layer_type': 'conv', 'layer_depth': 0, 'filter_depth': 0, 'filter_size': 0, 'fc_size': 0, 'image_size': 28, 'pool_size': 0, 'pool_stride': 0, 'is_start': 1}, {'layer_type': 'conv', 'layer_depth': 1, 'filter_depth': 10, 'filter_size': 5, 'fc_size': 0, 'image_size': 24, 'is_start': 0, 'pool_size': 0, 'pool_stride': 0}, {'layer_type': 'conv', 'layer_depth': 2, 'filter_depth': 20, 'filter_size': 3, 'fc_size': 512, 'image_size': 22, 'is_start': 0, 'pool_size': 2, 'pool_stride': 2}, {'layer_type': 'conv', 'layer_depth': 3, 'filter_depth': 10, 'filter_size': 3, 'fc_size': 512, 'image_size': 20, 'is_start': 0, 'pool_size': 3, 'pool_stride': 2}, {'layer_type': 'conv', 'layer_depth': 4, 'filter_depth': 20, 'filter_size': 1, 'fc_size': 512, 'image_size': 20, 'is_start': 0, 'pool_size': 2, 'pool_stride': 2}, {'layer_type': 'pool', 'layer_depth': 5, 'filter_depth': 64, 'filter_size': 5, 'fc_size': 256, 'image_size': 6, 'is_start': 0, 'pool_size': 5, 'pool_stride': 3}, {'layer_type': 'fc', 'layer_depth': 6, 'filter_depth': 10, 'filter_size': 3, 'fc_size': 512, 'image_size': 6, 'is_start': 0, 'pool_size': 0, 'pool_stride': 0}, {'layer_type': 'fc', 'layer_depth': 7, 'filter_depth': 0, 'filter_size': 0, 'fc_size': 64, 'image_size': 6, 'is_start': 0, 'pool_size': 0, 'pool_stride': 0}] terminated = True\n",
      "layersList =  [('conv', 1, 10, 5, 1, 24, 0, 0, []), ('conv', 2, 20, 3, 1, 22, 512, 0, []), ('conv', 3, 10, 3, 1, 20, 512, 0, []), ('conv', 4, 20, 1, 1, 20, 512, 0, []), ('pool', 5, 64, 5, 3, 6, 256, 0, []), ('fc', 6, 10, 0, 0, 6, 512, 0, []), ('fc', 7, 0, 0, 0, 6, 64, 0, [])]\n",
      "inside layer depth limit\n",
      "enabling convolutions\n",
      "inside layer depth limit\n",
      "enabling convolutions\n",
      "enabling valid pools\n",
      "network =  [{'layer_type': 'conv', 'layer_depth': 0, 'filter_depth': 0, 'filter_size': 0, 'fc_size': 0, 'image_size': 28, 'pool_size': 0, 'pool_stride': 0, 'is_start': 1}, {'layer_type': 'conv', 'layer_depth': 1, 'filter_depth': 10, 'filter_size': 3, 'fc_size': 0, 'image_size': 26, 'is_start': 0, 'pool_size': 0, 'pool_stride': 0}] terminated = True\n",
      "layersList =  [('conv', 1, 10, 3, 1, 26, 0, 0, [])]\n",
      "inside layer depth limit\n",
      "enabling convolutions\n",
      "inside layer depth limit\n",
      "enabling convolutions\n",
      "enabling valid pools\n",
      "network =  [{'layer_type': 'conv', 'layer_depth': 0, 'filter_depth': 0, 'filter_size': 0, 'fc_size': 0, 'image_size': 28, 'pool_size': 0, 'pool_stride': 0, 'is_start': 1}, {'layer_type': 'conv', 'layer_depth': 1, 'filter_depth': 10, 'filter_size': 1, 'fc_size': 0, 'image_size': 28, 'is_start': 0, 'pool_size': 0, 'pool_stride': 0}] terminated = True\n",
      "layersList =  [('conv', 1, 10, 1, 1, 28, 0, 0, [])]\n",
      "inside layer depth limit\n",
      "enabling convolutions\n",
      "inside layer depth limit\n",
      "enabling convolutions\n",
      "enabling valid pools\n",
      "inside layer depth limit\n",
      "enabling convolutions\n",
      "enabling valid pools\n",
      "inside layer depth limit\n",
      "enabling convolutions\n",
      "enabling valid pools\n",
      "network =  [{'layer_type': 'conv', 'layer_depth': 0, 'filter_depth': 0, 'filter_size': 0, 'fc_size': 0, 'image_size': 28, 'pool_size': 0, 'pool_stride': 0, 'is_start': 1}, {'layer_type': 'conv', 'layer_depth': 1, 'filter_depth': 32, 'filter_size': 5, 'fc_size': 0, 'image_size': 24, 'is_start': 0, 'pool_size': 0, 'pool_stride': 0}, {'layer_type': 'conv', 'layer_depth': 2, 'filter_depth': 10, 'filter_size': 1, 'fc_size': 128, 'image_size': 24, 'is_start': 0, 'pool_size': 3, 'pool_stride': 2}] terminated = True\n",
      "layersList =  [('conv', 1, 32, 5, 1, 24, 0, 0, []), ('conv', 2, 10, 1, 1, 24, 128, 0, [])]\n"
     ]
    },
    {
     "ename": "KeyboardInterrupt",
     "evalue": "",
     "output_type": "error",
     "traceback": [
      "\u001b[1;31m---------------------------------------------------------------------------\u001b[0m",
      "\u001b[1;31mKeyboardInterrupt\u001b[0m                         Traceback (most recent call last)",
      "\u001b[1;32m~\\AppData\\Local\\Temp\\ipykernel_20936\\592320855.py\u001b[0m in \u001b[0;36m<module>\u001b[1;34m\u001b[0m\n\u001b[1;32m----> 1\u001b[1;33m \u001b[0mmodel\u001b[0m\u001b[1;33m.\u001b[0m\u001b[0mlearn\u001b[0m\u001b[1;33m(\u001b[0m\u001b[0mtotal_timesteps\u001b[0m\u001b[1;33m=\u001b[0m\u001b[1;36m100\u001b[0m\u001b[1;33m)\u001b[0m\u001b[1;33m\u001b[0m\u001b[1;33m\u001b[0m\u001b[0m\n\u001b[0m",
      "\u001b[1;32mc:\\Users\\Eshwar\\Documents\\GDriveSync\\CourseNotes\\CSCI566 - Deep Learning\\Deep_RL_For_CNN\\venv\\lib\\site-packages\\sb3_contrib\\ppo_mask\\ppo_mask.py\u001b[0m in \u001b[0;36mlearn\u001b[1;34m(self, total_timesteps, callback, log_interval, tb_log_name, reset_num_timesteps, use_masking, progress_bar)\u001b[0m\n\u001b[0;32m    519\u001b[0m \u001b[1;33m\u001b[0m\u001b[0m\n\u001b[0;32m    520\u001b[0m         \u001b[1;32mwhile\u001b[0m \u001b[0mself\u001b[0m\u001b[1;33m.\u001b[0m\u001b[0mnum_timesteps\u001b[0m \u001b[1;33m<\u001b[0m \u001b[0mtotal_timesteps\u001b[0m\u001b[1;33m:\u001b[0m\u001b[1;33m\u001b[0m\u001b[1;33m\u001b[0m\u001b[0m\n\u001b[1;32m--> 521\u001b[1;33m             \u001b[0mcontinue_training\u001b[0m \u001b[1;33m=\u001b[0m \u001b[0mself\u001b[0m\u001b[1;33m.\u001b[0m\u001b[0mcollect_rollouts\u001b[0m\u001b[1;33m(\u001b[0m\u001b[0mself\u001b[0m\u001b[1;33m.\u001b[0m\u001b[0menv\u001b[0m\u001b[1;33m,\u001b[0m \u001b[0mcallback\u001b[0m\u001b[1;33m,\u001b[0m \u001b[0mself\u001b[0m\u001b[1;33m.\u001b[0m\u001b[0mrollout_buffer\u001b[0m\u001b[1;33m,\u001b[0m \u001b[0mself\u001b[0m\u001b[1;33m.\u001b[0m\u001b[0mn_steps\u001b[0m\u001b[1;33m,\u001b[0m \u001b[0muse_masking\u001b[0m\u001b[1;33m)\u001b[0m\u001b[1;33m\u001b[0m\u001b[1;33m\u001b[0m\u001b[0m\n\u001b[0m\u001b[0;32m    522\u001b[0m \u001b[1;33m\u001b[0m\u001b[0m\n\u001b[0;32m    523\u001b[0m             \u001b[1;32mif\u001b[0m \u001b[0mcontinue_training\u001b[0m \u001b[1;32mis\u001b[0m \u001b[1;32mFalse\u001b[0m\u001b[1;33m:\u001b[0m\u001b[1;33m\u001b[0m\u001b[1;33m\u001b[0m\u001b[0m\n",
      "\u001b[1;32mc:\\Users\\Eshwar\\Documents\\GDriveSync\\CourseNotes\\CSCI566 - Deep Learning\\Deep_RL_For_CNN\\venv\\lib\\site-packages\\sb3_contrib\\ppo_mask\\ppo_mask.py\u001b[0m in \u001b[0;36mcollect_rollouts\u001b[1;34m(self, env, callback, rollout_buffer, n_rollout_steps, use_masking)\u001b[0m\n\u001b[0;32m    299\u001b[0m \u001b[1;33m\u001b[0m\u001b[0m\n\u001b[0;32m    300\u001b[0m             \u001b[0mactions\u001b[0m \u001b[1;33m=\u001b[0m \u001b[0mactions\u001b[0m\u001b[1;33m.\u001b[0m\u001b[0mcpu\u001b[0m\u001b[1;33m(\u001b[0m\u001b[1;33m)\u001b[0m\u001b[1;33m.\u001b[0m\u001b[0mnumpy\u001b[0m\u001b[1;33m(\u001b[0m\u001b[1;33m)\u001b[0m\u001b[1;33m\u001b[0m\u001b[1;33m\u001b[0m\u001b[0m\n\u001b[1;32m--> 301\u001b[1;33m             \u001b[0mnew_obs\u001b[0m\u001b[1;33m,\u001b[0m \u001b[0mrewards\u001b[0m\u001b[1;33m,\u001b[0m \u001b[0mdones\u001b[0m\u001b[1;33m,\u001b[0m \u001b[0minfos\u001b[0m \u001b[1;33m=\u001b[0m \u001b[0menv\u001b[0m\u001b[1;33m.\u001b[0m\u001b[0mstep\u001b[0m\u001b[1;33m(\u001b[0m\u001b[0mactions\u001b[0m\u001b[1;33m)\u001b[0m\u001b[1;33m\u001b[0m\u001b[1;33m\u001b[0m\u001b[0m\n\u001b[0m\u001b[0;32m    302\u001b[0m \u001b[1;33m\u001b[0m\u001b[0m\n\u001b[0;32m    303\u001b[0m             \u001b[0mself\u001b[0m\u001b[1;33m.\u001b[0m\u001b[0mnum_timesteps\u001b[0m \u001b[1;33m+=\u001b[0m \u001b[0menv\u001b[0m\u001b[1;33m.\u001b[0m\u001b[0mnum_envs\u001b[0m\u001b[1;33m\u001b[0m\u001b[1;33m\u001b[0m\u001b[0m\n",
      "\u001b[1;32mc:\\Users\\Eshwar\\Documents\\GDriveSync\\CourseNotes\\CSCI566 - Deep Learning\\Deep_RL_For_CNN\\venv\\lib\\site-packages\\stable_baselines3\\common\\vec_env\\base_vec_env.py\u001b[0m in \u001b[0;36mstep\u001b[1;34m(self, actions)\u001b[0m\n\u001b[0;32m    169\u001b[0m         \"\"\"\n\u001b[0;32m    170\u001b[0m         \u001b[0mself\u001b[0m\u001b[1;33m.\u001b[0m\u001b[0mstep_async\u001b[0m\u001b[1;33m(\u001b[0m\u001b[0mactions\u001b[0m\u001b[1;33m)\u001b[0m\u001b[1;33m\u001b[0m\u001b[1;33m\u001b[0m\u001b[0m\n\u001b[1;32m--> 171\u001b[1;33m         \u001b[1;32mreturn\u001b[0m \u001b[0mself\u001b[0m\u001b[1;33m.\u001b[0m\u001b[0mstep_wait\u001b[0m\u001b[1;33m(\u001b[0m\u001b[1;33m)\u001b[0m\u001b[1;33m\u001b[0m\u001b[1;33m\u001b[0m\u001b[0m\n\u001b[0m\u001b[0;32m    172\u001b[0m \u001b[1;33m\u001b[0m\u001b[0m\n\u001b[0;32m    173\u001b[0m     \u001b[1;32mdef\u001b[0m \u001b[0mget_images\u001b[0m\u001b[1;33m(\u001b[0m\u001b[0mself\u001b[0m\u001b[1;33m)\u001b[0m \u001b[1;33m->\u001b[0m \u001b[0mSequence\u001b[0m\u001b[1;33m[\u001b[0m\u001b[0mOptional\u001b[0m\u001b[1;33m[\u001b[0m\u001b[0mnp\u001b[0m\u001b[1;33m.\u001b[0m\u001b[0mndarray\u001b[0m\u001b[1;33m]\u001b[0m\u001b[1;33m]\u001b[0m\u001b[1;33m:\u001b[0m\u001b[1;33m\u001b[0m\u001b[1;33m\u001b[0m\u001b[0m\n",
      "\u001b[1;32mc:\\Users\\Eshwar\\Documents\\GDriveSync\\CourseNotes\\CSCI566 - Deep Learning\\Deep_RL_For_CNN\\venv\\lib\\site-packages\\stable_baselines3\\common\\vec_env\\dummy_vec_env.py\u001b[0m in \u001b[0;36mstep_wait\u001b[1;34m(self)\u001b[0m\n\u001b[0;32m     55\u001b[0m         \u001b[1;32mfor\u001b[0m \u001b[0menv_idx\u001b[0m \u001b[1;32min\u001b[0m \u001b[0mrange\u001b[0m\u001b[1;33m(\u001b[0m\u001b[0mself\u001b[0m\u001b[1;33m.\u001b[0m\u001b[0mnum_envs\u001b[0m\u001b[1;33m)\u001b[0m\u001b[1;33m:\u001b[0m\u001b[1;33m\u001b[0m\u001b[1;33m\u001b[0m\u001b[0m\n\u001b[0;32m     56\u001b[0m             obs, self.buf_rews[env_idx], terminated, truncated, self.buf_infos[env_idx] = self.envs[env_idx].step(\n\u001b[1;32m---> 57\u001b[1;33m                 \u001b[0mself\u001b[0m\u001b[1;33m.\u001b[0m\u001b[0mactions\u001b[0m\u001b[1;33m[\u001b[0m\u001b[0menv_idx\u001b[0m\u001b[1;33m]\u001b[0m\u001b[1;33m\u001b[0m\u001b[1;33m\u001b[0m\u001b[0m\n\u001b[0m\u001b[0;32m     58\u001b[0m             )\n\u001b[0;32m     59\u001b[0m             \u001b[1;31m# convert to SB3 VecEnv api\u001b[0m\u001b[1;33m\u001b[0m\u001b[1;33m\u001b[0m\u001b[1;33m\u001b[0m\u001b[0m\n",
      "\u001b[1;32mc:\\Users\\Eshwar\\Documents\\GDriveSync\\CourseNotes\\CSCI566 - Deep Learning\\Deep_RL_For_CNN\\venv\\lib\\site-packages\\stable_baselines3\\common\\monitor.py\u001b[0m in \u001b[0;36mstep\u001b[1;34m(self, action)\u001b[0m\n\u001b[0;32m     94\u001b[0m         \u001b[1;32mif\u001b[0m \u001b[0mself\u001b[0m\u001b[1;33m.\u001b[0m\u001b[0mneeds_reset\u001b[0m\u001b[1;33m:\u001b[0m\u001b[1;33m\u001b[0m\u001b[1;33m\u001b[0m\u001b[0m\n\u001b[0;32m     95\u001b[0m             \u001b[1;32mraise\u001b[0m \u001b[0mRuntimeError\u001b[0m\u001b[1;33m(\u001b[0m\u001b[1;34m\"Tried to step environment that needs reset\"\u001b[0m\u001b[1;33m)\u001b[0m\u001b[1;33m\u001b[0m\u001b[1;33m\u001b[0m\u001b[0m\n\u001b[1;32m---> 96\u001b[1;33m         \u001b[0mobservation\u001b[0m\u001b[1;33m,\u001b[0m \u001b[0mreward\u001b[0m\u001b[1;33m,\u001b[0m \u001b[0mterminated\u001b[0m\u001b[1;33m,\u001b[0m \u001b[0mtruncated\u001b[0m\u001b[1;33m,\u001b[0m \u001b[0minfo\u001b[0m \u001b[1;33m=\u001b[0m \u001b[0mself\u001b[0m\u001b[1;33m.\u001b[0m\u001b[0menv\u001b[0m\u001b[1;33m.\u001b[0m\u001b[0mstep\u001b[0m\u001b[1;33m(\u001b[0m\u001b[0maction\u001b[0m\u001b[1;33m)\u001b[0m\u001b[1;33m\u001b[0m\u001b[1;33m\u001b[0m\u001b[0m\n\u001b[0m\u001b[0;32m     97\u001b[0m         \u001b[0mself\u001b[0m\u001b[1;33m.\u001b[0m\u001b[0mrewards\u001b[0m\u001b[1;33m.\u001b[0m\u001b[0mappend\u001b[0m\u001b[1;33m(\u001b[0m\u001b[0mreward\u001b[0m\u001b[1;33m)\u001b[0m\u001b[1;33m\u001b[0m\u001b[1;33m\u001b[0m\u001b[0m\n\u001b[0;32m     98\u001b[0m         \u001b[1;32mif\u001b[0m \u001b[0mterminated\u001b[0m \u001b[1;32mor\u001b[0m \u001b[0mtruncated\u001b[0m\u001b[1;33m:\u001b[0m\u001b[1;33m\u001b[0m\u001b[1;33m\u001b[0m\u001b[0m\n",
      "\u001b[1;32mc:\\Users\\Eshwar\\Documents\\GDriveSync\\CourseNotes\\CSCI566 - Deep Learning\\Deep_RL_For_CNN\\venv\\lib\\site-packages\\gym\\core.py\u001b[0m in \u001b[0;36mstep\u001b[1;34m(self, action)\u001b[0m\n\u001b[0;32m    382\u001b[0m     \u001b[1;32mdef\u001b[0m \u001b[0mstep\u001b[0m\u001b[1;33m(\u001b[0m\u001b[0mself\u001b[0m\u001b[1;33m,\u001b[0m \u001b[0maction\u001b[0m\u001b[1;33m)\u001b[0m\u001b[1;33m:\u001b[0m\u001b[1;33m\u001b[0m\u001b[1;33m\u001b[0m\u001b[0m\n\u001b[0;32m    383\u001b[0m         \u001b[1;34m\"\"\"Returns a modified observation using :meth:`self.observation` after calling :meth:`env.step`.\"\"\"\u001b[0m\u001b[1;33m\u001b[0m\u001b[1;33m\u001b[0m\u001b[0m\n\u001b[1;32m--> 384\u001b[1;33m         \u001b[0mobservation\u001b[0m\u001b[1;33m,\u001b[0m \u001b[0mreward\u001b[0m\u001b[1;33m,\u001b[0m \u001b[0mterminated\u001b[0m\u001b[1;33m,\u001b[0m \u001b[0mtruncated\u001b[0m\u001b[1;33m,\u001b[0m \u001b[0minfo\u001b[0m \u001b[1;33m=\u001b[0m \u001b[0mself\u001b[0m\u001b[1;33m.\u001b[0m\u001b[0menv\u001b[0m\u001b[1;33m.\u001b[0m\u001b[0mstep\u001b[0m\u001b[1;33m(\u001b[0m\u001b[0maction\u001b[0m\u001b[1;33m)\u001b[0m\u001b[1;33m\u001b[0m\u001b[1;33m\u001b[0m\u001b[0m\n\u001b[0m\u001b[0;32m    385\u001b[0m         \u001b[1;32mreturn\u001b[0m \u001b[0mself\u001b[0m\u001b[1;33m.\u001b[0m\u001b[0mobservation\u001b[0m\u001b[1;33m(\u001b[0m\u001b[0mobservation\u001b[0m\u001b[1;33m)\u001b[0m\u001b[1;33m,\u001b[0m \u001b[0mreward\u001b[0m\u001b[1;33m,\u001b[0m \u001b[0mterminated\u001b[0m\u001b[1;33m,\u001b[0m \u001b[0mtruncated\u001b[0m\u001b[1;33m,\u001b[0m \u001b[0minfo\u001b[0m\u001b[1;33m\u001b[0m\u001b[1;33m\u001b[0m\u001b[0m\n\u001b[0;32m    386\u001b[0m \u001b[1;33m\u001b[0m\u001b[0m\n",
      "\u001b[1;32mc:\\Users\\Eshwar\\Documents\\GDriveSync\\CourseNotes\\CSCI566 - Deep Learning\\Deep_RL_For_CNN\\venv\\lib\\site-packages\\gym\\wrappers\\time_limit.py\u001b[0m in \u001b[0;36mstep\u001b[1;34m(self, action)\u001b[0m\n\u001b[0;32m     48\u001b[0m \u001b[1;33m\u001b[0m\u001b[0m\n\u001b[0;32m     49\u001b[0m         \"\"\"\n\u001b[1;32m---> 50\u001b[1;33m         \u001b[0mobservation\u001b[0m\u001b[1;33m,\u001b[0m \u001b[0mreward\u001b[0m\u001b[1;33m,\u001b[0m \u001b[0mterminated\u001b[0m\u001b[1;33m,\u001b[0m \u001b[0mtruncated\u001b[0m\u001b[1;33m,\u001b[0m \u001b[0minfo\u001b[0m \u001b[1;33m=\u001b[0m \u001b[0mself\u001b[0m\u001b[1;33m.\u001b[0m\u001b[0menv\u001b[0m\u001b[1;33m.\u001b[0m\u001b[0mstep\u001b[0m\u001b[1;33m(\u001b[0m\u001b[0maction\u001b[0m\u001b[1;33m)\u001b[0m\u001b[1;33m\u001b[0m\u001b[1;33m\u001b[0m\u001b[0m\n\u001b[0m\u001b[0;32m     51\u001b[0m         \u001b[0mself\u001b[0m\u001b[1;33m.\u001b[0m\u001b[0m_elapsed_steps\u001b[0m \u001b[1;33m+=\u001b[0m \u001b[1;36m1\u001b[0m\u001b[1;33m\u001b[0m\u001b[1;33m\u001b[0m\u001b[0m\n\u001b[0;32m     52\u001b[0m \u001b[1;33m\u001b[0m\u001b[0m\n",
      "\u001b[1;32mc:\\Users\\Eshwar\\Documents\\GDriveSync\\CourseNotes\\CSCI566 - Deep Learning\\Deep_RL_For_CNN\\venv\\lib\\site-packages\\gym\\wrappers\\order_enforcing.py\u001b[0m in \u001b[0;36mstep\u001b[1;34m(self, action)\u001b[0m\n\u001b[0;32m     35\u001b[0m         \u001b[1;32mif\u001b[0m \u001b[1;32mnot\u001b[0m \u001b[0mself\u001b[0m\u001b[1;33m.\u001b[0m\u001b[0m_has_reset\u001b[0m\u001b[1;33m:\u001b[0m\u001b[1;33m\u001b[0m\u001b[1;33m\u001b[0m\u001b[0m\n\u001b[0;32m     36\u001b[0m             \u001b[1;32mraise\u001b[0m \u001b[0mResetNeeded\u001b[0m\u001b[1;33m(\u001b[0m\u001b[1;34m\"Cannot call env.step() before calling env.reset()\"\u001b[0m\u001b[1;33m)\u001b[0m\u001b[1;33m\u001b[0m\u001b[1;33m\u001b[0m\u001b[0m\n\u001b[1;32m---> 37\u001b[1;33m         \u001b[1;32mreturn\u001b[0m \u001b[0mself\u001b[0m\u001b[1;33m.\u001b[0m\u001b[0menv\u001b[0m\u001b[1;33m.\u001b[0m\u001b[0mstep\u001b[0m\u001b[1;33m(\u001b[0m\u001b[0maction\u001b[0m\u001b[1;33m)\u001b[0m\u001b[1;33m\u001b[0m\u001b[1;33m\u001b[0m\u001b[0m\n\u001b[0m\u001b[0;32m     38\u001b[0m \u001b[1;33m\u001b[0m\u001b[0m\n\u001b[0;32m     39\u001b[0m     \u001b[1;32mdef\u001b[0m \u001b[0mreset\u001b[0m\u001b[1;33m(\u001b[0m\u001b[0mself\u001b[0m\u001b[1;33m,\u001b[0m \u001b[1;33m**\u001b[0m\u001b[0mkwargs\u001b[0m\u001b[1;33m)\u001b[0m\u001b[1;33m:\u001b[0m\u001b[1;33m\u001b[0m\u001b[1;33m\u001b[0m\u001b[0m\n",
      "\u001b[1;32mc:\\Users\\Eshwar\\Documents\\GDriveSync\\CourseNotes\\CSCI566 - Deep Learning\\Deep_RL_For_CNN\\venv\\lib\\site-packages\\gym\\wrappers\\env_checker.py\u001b[0m in \u001b[0;36mstep\u001b[1;34m(self, action)\u001b[0m\n\u001b[0;32m     37\u001b[0m             \u001b[1;32mreturn\u001b[0m \u001b[0menv_step_passive_checker\u001b[0m\u001b[1;33m(\u001b[0m\u001b[0mself\u001b[0m\u001b[1;33m.\u001b[0m\u001b[0menv\u001b[0m\u001b[1;33m,\u001b[0m \u001b[0maction\u001b[0m\u001b[1;33m)\u001b[0m\u001b[1;33m\u001b[0m\u001b[1;33m\u001b[0m\u001b[0m\n\u001b[0;32m     38\u001b[0m         \u001b[1;32melse\u001b[0m\u001b[1;33m:\u001b[0m\u001b[1;33m\u001b[0m\u001b[1;33m\u001b[0m\u001b[0m\n\u001b[1;32m---> 39\u001b[1;33m             \u001b[1;32mreturn\u001b[0m \u001b[0mself\u001b[0m\u001b[1;33m.\u001b[0m\u001b[0menv\u001b[0m\u001b[1;33m.\u001b[0m\u001b[0mstep\u001b[0m\u001b[1;33m(\u001b[0m\u001b[0maction\u001b[0m\u001b[1;33m)\u001b[0m\u001b[1;33m\u001b[0m\u001b[1;33m\u001b[0m\u001b[0m\n\u001b[0m\u001b[0;32m     40\u001b[0m \u001b[1;33m\u001b[0m\u001b[0m\n\u001b[0;32m     41\u001b[0m     \u001b[1;32mdef\u001b[0m \u001b[0mreset\u001b[0m\u001b[1;33m(\u001b[0m\u001b[0mself\u001b[0m\u001b[1;33m,\u001b[0m \u001b[1;33m**\u001b[0m\u001b[0mkwargs\u001b[0m\u001b[1;33m)\u001b[0m\u001b[1;33m:\u001b[0m\u001b[1;33m\u001b[0m\u001b[1;33m\u001b[0m\u001b[0m\n",
      "\u001b[1;32mc:\\Users\\Eshwar\\Documents\\GDriveSync\\CourseNotes\\CSCI566 - Deep Learning\\Deep_RL_For_CNN\\gym_examples\\envs\\cnn_env.py\u001b[0m in \u001b[0;36mstep\u001b[1;34m(self, action)\u001b[0m\n\u001b[0;32m    516\u001b[0m                                     ))\n\u001b[0;32m    517\u001b[0m             \u001b[0mprint\u001b[0m\u001b[1;33m(\u001b[0m\u001b[1;34m'layersList = '\u001b[0m\u001b[1;33m,\u001b[0m \u001b[0mlayersList\u001b[0m\u001b[1;33m)\u001b[0m\u001b[1;33m\u001b[0m\u001b[1;33m\u001b[0m\u001b[0m\n\u001b[1;32m--> 518\u001b[1;33m             \u001b[0mreward\u001b[0m \u001b[1;33m=\u001b[0m \u001b[0mgenerate_and_train\u001b[0m\u001b[1;33m(\u001b[0m\u001b[0mlayersList\u001b[0m\u001b[1;33m,\u001b[0m \u001b[0mself\u001b[0m\u001b[1;33m.\u001b[0m\u001b[0mtrain_data\u001b[0m\u001b[1;33m,\u001b[0m \u001b[0mself\u001b[0m\u001b[1;33m.\u001b[0m\u001b[0mtest_data\u001b[0m\u001b[1;33m)\u001b[0m\u001b[1;33m\u001b[0m\u001b[1;33m\u001b[0m\u001b[0m\n\u001b[0m\u001b[0;32m    519\u001b[0m \u001b[1;33m\u001b[0m\u001b[0m\n\u001b[0;32m    520\u001b[0m         \u001b[1;32melse\u001b[0m\u001b[1;33m:\u001b[0m\u001b[1;33m\u001b[0m\u001b[1;33m\u001b[0m\u001b[0m\n",
      "\u001b[1;32mc:\\Users\\Eshwar\\Documents\\GDriveSync\\CourseNotes\\CSCI566 - Deep Learning\\Deep_RL_For_CNN\\gym_examples\\envs\\pytorch_parser\\pytorch_parser_function.py\u001b[0m in \u001b[0;36mgenerate_and_train\u001b[1;34m(model_architecture, train_data, test_data, input_channels, lr, num_epochs, verbose)\u001b[0m\n\u001b[0;32m    190\u001b[0m \u001b[1;33m\u001b[0m\u001b[0m\n\u001b[0;32m    191\u001b[0m           \u001b[1;31m# backpropagation, compute gradients\u001b[0m\u001b[1;33m\u001b[0m\u001b[1;33m\u001b[0m\u001b[1;33m\u001b[0m\u001b[0m\n\u001b[1;32m--> 192\u001b[1;33m           \u001b[0mloss\u001b[0m\u001b[1;33m.\u001b[0m\u001b[0mbackward\u001b[0m\u001b[1;33m(\u001b[0m\u001b[1;33m)\u001b[0m\u001b[1;33m\u001b[0m\u001b[1;33m\u001b[0m\u001b[0m\n\u001b[0m\u001b[0;32m    193\u001b[0m           \u001b[1;31m# apply gradients\u001b[0m\u001b[1;33m\u001b[0m\u001b[1;33m\u001b[0m\u001b[1;33m\u001b[0m\u001b[0m\n\u001b[0;32m    194\u001b[0m           \u001b[0moptimizer\u001b[0m\u001b[1;33m.\u001b[0m\u001b[0mstep\u001b[0m\u001b[1;33m(\u001b[0m\u001b[1;33m)\u001b[0m\u001b[1;33m\u001b[0m\u001b[1;33m\u001b[0m\u001b[0m\n",
      "\u001b[1;32mc:\\Users\\Eshwar\\Documents\\GDriveSync\\CourseNotes\\CSCI566 - Deep Learning\\Deep_RL_For_CNN\\venv\\lib\\site-packages\\torch\\_tensor.py\u001b[0m in \u001b[0;36mbackward\u001b[1;34m(self, gradient, retain_graph, create_graph, inputs)\u001b[0m\n\u001b[0;32m    487\u001b[0m             )\n\u001b[0;32m    488\u001b[0m         torch.autograd.backward(\n\u001b[1;32m--> 489\u001b[1;33m             \u001b[0mself\u001b[0m\u001b[1;33m,\u001b[0m \u001b[0mgradient\u001b[0m\u001b[1;33m,\u001b[0m \u001b[0mretain_graph\u001b[0m\u001b[1;33m,\u001b[0m \u001b[0mcreate_graph\u001b[0m\u001b[1;33m,\u001b[0m \u001b[0minputs\u001b[0m\u001b[1;33m=\u001b[0m\u001b[0minputs\u001b[0m\u001b[1;33m\u001b[0m\u001b[1;33m\u001b[0m\u001b[0m\n\u001b[0m\u001b[0;32m    490\u001b[0m         )\n\u001b[0;32m    491\u001b[0m \u001b[1;33m\u001b[0m\u001b[0m\n",
      "\u001b[1;32mc:\\Users\\Eshwar\\Documents\\GDriveSync\\CourseNotes\\CSCI566 - Deep Learning\\Deep_RL_For_CNN\\venv\\lib\\site-packages\\torch\\autograd\\__init__.py\u001b[0m in \u001b[0;36mbackward\u001b[1;34m(tensors, grad_tensors, retain_graph, create_graph, grad_variables, inputs)\u001b[0m\n\u001b[0;32m    197\u001b[0m     Variable._execution_engine.run_backward(  # Calls into the C++ engine to run the backward pass\n\u001b[0;32m    198\u001b[0m         \u001b[0mtensors\u001b[0m\u001b[1;33m,\u001b[0m \u001b[0mgrad_tensors_\u001b[0m\u001b[1;33m,\u001b[0m \u001b[0mretain_graph\u001b[0m\u001b[1;33m,\u001b[0m \u001b[0mcreate_graph\u001b[0m\u001b[1;33m,\u001b[0m \u001b[0minputs\u001b[0m\u001b[1;33m,\u001b[0m\u001b[1;33m\u001b[0m\u001b[1;33m\u001b[0m\u001b[0m\n\u001b[1;32m--> 199\u001b[1;33m         allow_unreachable=True, accumulate_grad=True)  # Calls into the C++ engine to run the backward pass\n\u001b[0m\u001b[0;32m    200\u001b[0m \u001b[1;33m\u001b[0m\u001b[0m\n\u001b[0;32m    201\u001b[0m def grad(\n",
      "\u001b[1;31mKeyboardInterrupt\u001b[0m: "
     ]
    }
   ],
   "source": [
    "model.learn(total_timesteps=100)"
   ]
  },
  {
   "cell_type": "code",
   "execution_count": 7,
   "metadata": {},
   "outputs": [
    {
     "name": "stdout",
     "output_type": "stream",
     "text": [
      "Using cpu device\n",
      "Wrapping the env with a `Monitor` wrapper\n",
      "Wrapping the env in a DummyVecEnv.\n",
      "inside layer depth limit\n",
      "enabling convolutions\n"
     ]
    },
    {
     "ename": "AttributeError",
     "evalue": "'dict' object has no attribute 'flatten'",
     "output_type": "error",
     "traceback": [
      "\u001b[1;31m---------------------------------------------------------------------------\u001b[0m",
      "\u001b[1;31mAttributeError\u001b[0m                            Traceback (most recent call last)",
      "\u001b[1;32m~\\AppData\\Local\\Temp\\ipykernel_21028\\1156200744.py\u001b[0m in \u001b[0;36m<module>\u001b[1;34m\u001b[0m\n\u001b[0;32m      1\u001b[0m \u001b[1;31m# env = ActionMasker(env, masking_fn)\u001b[0m\u001b[1;33m\u001b[0m\u001b[1;33m\u001b[0m\u001b[1;33m\u001b[0m\u001b[0m\n\u001b[0;32m      2\u001b[0m \u001b[0mmodel\u001b[0m \u001b[1;33m=\u001b[0m \u001b[0mMaskablePPO\u001b[0m\u001b[1;33m(\u001b[0m\u001b[0mMaskableActorCriticPolicy\u001b[0m\u001b[1;33m,\u001b[0m \u001b[0mcnn_env\u001b[0m\u001b[1;33m,\u001b[0m \u001b[0mverbose\u001b[0m\u001b[1;33m=\u001b[0m\u001b[1;36m1\u001b[0m\u001b[1;33m)\u001b[0m\u001b[1;33m\u001b[0m\u001b[1;33m\u001b[0m\u001b[0m\n\u001b[1;32m----> 3\u001b[1;33m \u001b[0mmodel\u001b[0m\u001b[1;33m.\u001b[0m\u001b[0mlearn\u001b[0m\u001b[1;33m(\u001b[0m\u001b[0mtotal_timesteps\u001b[0m\u001b[1;33m=\u001b[0m\u001b[1;33m(\u001b[0m\u001b[1;36m100\u001b[0m\u001b[1;33m)\u001b[0m\u001b[1;33m)\u001b[0m\u001b[1;33m\u001b[0m\u001b[1;33m\u001b[0m\u001b[0m\n\u001b[0m",
      "\u001b[1;32mc:\\Users\\Eshwar\\Documents\\GDriveSync\\CourseNotes\\CSCI566 - Deep Learning\\Deep_RL_For_CNN\\venv\\lib\\site-packages\\sb3_contrib\\ppo_mask\\ppo_mask.py\u001b[0m in \u001b[0;36mlearn\u001b[1;34m(self, total_timesteps, callback, log_interval, tb_log_name, reset_num_timesteps, use_masking, progress_bar)\u001b[0m\n\u001b[0;32m    519\u001b[0m \u001b[1;33m\u001b[0m\u001b[0m\n\u001b[0;32m    520\u001b[0m         \u001b[1;32mwhile\u001b[0m \u001b[0mself\u001b[0m\u001b[1;33m.\u001b[0m\u001b[0mnum_timesteps\u001b[0m \u001b[1;33m<\u001b[0m \u001b[0mtotal_timesteps\u001b[0m\u001b[1;33m:\u001b[0m\u001b[1;33m\u001b[0m\u001b[1;33m\u001b[0m\u001b[0m\n\u001b[1;32m--> 521\u001b[1;33m             \u001b[0mcontinue_training\u001b[0m \u001b[1;33m=\u001b[0m \u001b[0mself\u001b[0m\u001b[1;33m.\u001b[0m\u001b[0mcollect_rollouts\u001b[0m\u001b[1;33m(\u001b[0m\u001b[0mself\u001b[0m\u001b[1;33m.\u001b[0m\u001b[0menv\u001b[0m\u001b[1;33m,\u001b[0m \u001b[0mcallback\u001b[0m\u001b[1;33m,\u001b[0m \u001b[0mself\u001b[0m\u001b[1;33m.\u001b[0m\u001b[0mrollout_buffer\u001b[0m\u001b[1;33m,\u001b[0m \u001b[0mself\u001b[0m\u001b[1;33m.\u001b[0m\u001b[0mn_steps\u001b[0m\u001b[1;33m,\u001b[0m \u001b[0muse_masking\u001b[0m\u001b[1;33m)\u001b[0m\u001b[1;33m\u001b[0m\u001b[1;33m\u001b[0m\u001b[0m\n\u001b[0m\u001b[0;32m    522\u001b[0m \u001b[1;33m\u001b[0m\u001b[0m\n\u001b[0;32m    523\u001b[0m             \u001b[1;32mif\u001b[0m \u001b[0mcontinue_training\u001b[0m \u001b[1;32mis\u001b[0m \u001b[1;32mFalse\u001b[0m\u001b[1;33m:\u001b[0m\u001b[1;33m\u001b[0m\u001b[1;33m\u001b[0m\u001b[0m\n",
      "\u001b[1;32mc:\\Users\\Eshwar\\Documents\\GDriveSync\\CourseNotes\\CSCI566 - Deep Learning\\Deep_RL_For_CNN\\venv\\lib\\site-packages\\sb3_contrib\\ppo_mask\\ppo_mask.py\u001b[0m in \u001b[0;36mcollect_rollouts\u001b[1;34m(self, env, callback, rollout_buffer, n_rollout_steps, use_masking)\u001b[0m\n\u001b[0;32m    296\u001b[0m                     \u001b[0maction_masks\u001b[0m \u001b[1;33m=\u001b[0m \u001b[0mget_action_masks\u001b[0m\u001b[1;33m(\u001b[0m\u001b[0menv\u001b[0m\u001b[1;33m)\u001b[0m\u001b[1;33m\u001b[0m\u001b[1;33m\u001b[0m\u001b[0m\n\u001b[0;32m    297\u001b[0m \u001b[1;33m\u001b[0m\u001b[0m\n\u001b[1;32m--> 298\u001b[1;33m                 \u001b[0mactions\u001b[0m\u001b[1;33m,\u001b[0m \u001b[0mvalues\u001b[0m\u001b[1;33m,\u001b[0m \u001b[0mlog_probs\u001b[0m \u001b[1;33m=\u001b[0m \u001b[0mself\u001b[0m\u001b[1;33m.\u001b[0m\u001b[0mpolicy\u001b[0m\u001b[1;33m(\u001b[0m\u001b[0mobs_tensor\u001b[0m\u001b[1;33m,\u001b[0m \u001b[0maction_masks\u001b[0m\u001b[1;33m=\u001b[0m\u001b[0maction_masks\u001b[0m\u001b[1;33m)\u001b[0m\u001b[1;33m\u001b[0m\u001b[1;33m\u001b[0m\u001b[0m\n\u001b[0m\u001b[0;32m    299\u001b[0m \u001b[1;33m\u001b[0m\u001b[0m\n\u001b[0;32m    300\u001b[0m             \u001b[0mactions\u001b[0m \u001b[1;33m=\u001b[0m \u001b[0mactions\u001b[0m\u001b[1;33m.\u001b[0m\u001b[0mcpu\u001b[0m\u001b[1;33m(\u001b[0m\u001b[1;33m)\u001b[0m\u001b[1;33m.\u001b[0m\u001b[0mnumpy\u001b[0m\u001b[1;33m(\u001b[0m\u001b[1;33m)\u001b[0m\u001b[1;33m\u001b[0m\u001b[1;33m\u001b[0m\u001b[0m\n",
      "\u001b[1;32mc:\\Users\\Eshwar\\Documents\\GDriveSync\\CourseNotes\\CSCI566 - Deep Learning\\Deep_RL_For_CNN\\venv\\lib\\site-packages\\torch\\nn\\modules\\module.py\u001b[0m in \u001b[0;36m_call_impl\u001b[1;34m(self, *input, **kwargs)\u001b[0m\n\u001b[0;32m   1192\u001b[0m         if not (self._backward_hooks or self._forward_hooks or self._forward_pre_hooks or _global_backward_hooks\n\u001b[0;32m   1193\u001b[0m                 or _global_forward_hooks or _global_forward_pre_hooks):\n\u001b[1;32m-> 1194\u001b[1;33m             \u001b[1;32mreturn\u001b[0m \u001b[0mforward_call\u001b[0m\u001b[1;33m(\u001b[0m\u001b[1;33m*\u001b[0m\u001b[0minput\u001b[0m\u001b[1;33m,\u001b[0m \u001b[1;33m**\u001b[0m\u001b[0mkwargs\u001b[0m\u001b[1;33m)\u001b[0m\u001b[1;33m\u001b[0m\u001b[1;33m\u001b[0m\u001b[0m\n\u001b[0m\u001b[0;32m   1195\u001b[0m         \u001b[1;31m# Do not call functions when jit is used\u001b[0m\u001b[1;33m\u001b[0m\u001b[1;33m\u001b[0m\u001b[1;33m\u001b[0m\u001b[0m\n\u001b[0;32m   1196\u001b[0m         \u001b[0mfull_backward_hooks\u001b[0m\u001b[1;33m,\u001b[0m \u001b[0mnon_full_backward_hooks\u001b[0m \u001b[1;33m=\u001b[0m \u001b[1;33m[\u001b[0m\u001b[1;33m]\u001b[0m\u001b[1;33m,\u001b[0m \u001b[1;33m[\u001b[0m\u001b[1;33m]\u001b[0m\u001b[1;33m\u001b[0m\u001b[1;33m\u001b[0m\u001b[0m\n",
      "\u001b[1;32mc:\\Users\\Eshwar\\Documents\\GDriveSync\\CourseNotes\\CSCI566 - Deep Learning\\Deep_RL_For_CNN\\venv\\lib\\site-packages\\sb3_contrib\\common\\maskable\\policies.py\u001b[0m in \u001b[0;36mforward\u001b[1;34m(self, obs, deterministic, action_masks)\u001b[0m\n\u001b[0;32m    140\u001b[0m         \"\"\"\n\u001b[0;32m    141\u001b[0m         \u001b[1;31m# Preprocess the observation if needed\u001b[0m\u001b[1;33m\u001b[0m\u001b[1;33m\u001b[0m\u001b[1;33m\u001b[0m\u001b[0m\n\u001b[1;32m--> 142\u001b[1;33m         \u001b[0mfeatures\u001b[0m \u001b[1;33m=\u001b[0m \u001b[0mself\u001b[0m\u001b[1;33m.\u001b[0m\u001b[0mextract_features\u001b[0m\u001b[1;33m(\u001b[0m\u001b[0mobs\u001b[0m\u001b[1;33m)\u001b[0m\u001b[1;33m\u001b[0m\u001b[1;33m\u001b[0m\u001b[0m\n\u001b[0m\u001b[0;32m    143\u001b[0m         \u001b[1;32mif\u001b[0m \u001b[0mself\u001b[0m\u001b[1;33m.\u001b[0m\u001b[0mshare_features_extractor\u001b[0m\u001b[1;33m:\u001b[0m\u001b[1;33m\u001b[0m\u001b[1;33m\u001b[0m\u001b[0m\n\u001b[0;32m    144\u001b[0m             \u001b[0mlatent_pi\u001b[0m\u001b[1;33m,\u001b[0m \u001b[0mlatent_vf\u001b[0m \u001b[1;33m=\u001b[0m \u001b[0mself\u001b[0m\u001b[1;33m.\u001b[0m\u001b[0mmlp_extractor\u001b[0m\u001b[1;33m(\u001b[0m\u001b[0mfeatures\u001b[0m\u001b[1;33m)\u001b[0m\u001b[1;33m\u001b[0m\u001b[1;33m\u001b[0m\u001b[0m\n",
      "\u001b[1;32mc:\\Users\\Eshwar\\Documents\\GDriveSync\\CourseNotes\\CSCI566 - Deep Learning\\Deep_RL_For_CNN\\venv\\lib\\site-packages\\sb3_contrib\\common\\maskable\\policies.py\u001b[0m in \u001b[0;36mextract_features\u001b[1;34m(self, obs)\u001b[0m\n\u001b[0;32m    163\u001b[0m         \"\"\"\n\u001b[0;32m    164\u001b[0m         \u001b[1;32mif\u001b[0m \u001b[0mself\u001b[0m\u001b[1;33m.\u001b[0m\u001b[0mshare_features_extractor\u001b[0m\u001b[1;33m:\u001b[0m\u001b[1;33m\u001b[0m\u001b[1;33m\u001b[0m\u001b[0m\n\u001b[1;32m--> 165\u001b[1;33m             \u001b[1;32mreturn\u001b[0m \u001b[0msuper\u001b[0m\u001b[1;33m(\u001b[0m\u001b[1;33m)\u001b[0m\u001b[1;33m.\u001b[0m\u001b[0mextract_features\u001b[0m\u001b[1;33m(\u001b[0m\u001b[0mobs\u001b[0m\u001b[1;33m,\u001b[0m \u001b[0mself\u001b[0m\u001b[1;33m.\u001b[0m\u001b[0mfeatures_extractor\u001b[0m\u001b[1;33m)\u001b[0m\u001b[1;33m\u001b[0m\u001b[1;33m\u001b[0m\u001b[0m\n\u001b[0m\u001b[0;32m    166\u001b[0m         \u001b[1;32melse\u001b[0m\u001b[1;33m:\u001b[0m\u001b[1;33m\u001b[0m\u001b[1;33m\u001b[0m\u001b[0m\n\u001b[0;32m    167\u001b[0m             \u001b[0mpi_features\u001b[0m \u001b[1;33m=\u001b[0m \u001b[0msuper\u001b[0m\u001b[1;33m(\u001b[0m\u001b[1;33m)\u001b[0m\u001b[1;33m.\u001b[0m\u001b[0mextract_features\u001b[0m\u001b[1;33m(\u001b[0m\u001b[0mobs\u001b[0m\u001b[1;33m,\u001b[0m \u001b[0mself\u001b[0m\u001b[1;33m.\u001b[0m\u001b[0mpi_features_extractor\u001b[0m\u001b[1;33m)\u001b[0m\u001b[1;33m\u001b[0m\u001b[1;33m\u001b[0m\u001b[0m\n",
      "\u001b[1;32mc:\\Users\\Eshwar\\Documents\\GDriveSync\\CourseNotes\\CSCI566 - Deep Learning\\Deep_RL_For_CNN\\venv\\lib\\site-packages\\stable_baselines3\\common\\policies.py\u001b[0m in \u001b[0;36mextract_features\u001b[1;34m(self, obs, features_extractor)\u001b[0m\n\u001b[0;32m    128\u001b[0m         \"\"\"\n\u001b[0;32m    129\u001b[0m         \u001b[0mpreprocessed_obs\u001b[0m \u001b[1;33m=\u001b[0m \u001b[0mpreprocess_obs\u001b[0m\u001b[1;33m(\u001b[0m\u001b[0mobs\u001b[0m\u001b[1;33m,\u001b[0m \u001b[0mself\u001b[0m\u001b[1;33m.\u001b[0m\u001b[0mobservation_space\u001b[0m\u001b[1;33m,\u001b[0m \u001b[0mnormalize_images\u001b[0m\u001b[1;33m=\u001b[0m\u001b[0mself\u001b[0m\u001b[1;33m.\u001b[0m\u001b[0mnormalize_images\u001b[0m\u001b[1;33m)\u001b[0m\u001b[1;33m\u001b[0m\u001b[1;33m\u001b[0m\u001b[0m\n\u001b[1;32m--> 130\u001b[1;33m         \u001b[1;32mreturn\u001b[0m \u001b[0mfeatures_extractor\u001b[0m\u001b[1;33m(\u001b[0m\u001b[0mpreprocessed_obs\u001b[0m\u001b[1;33m)\u001b[0m\u001b[1;33m\u001b[0m\u001b[1;33m\u001b[0m\u001b[0m\n\u001b[0m\u001b[0;32m    131\u001b[0m \u001b[1;33m\u001b[0m\u001b[0m\n\u001b[0;32m    132\u001b[0m     \u001b[1;32mdef\u001b[0m \u001b[0m_get_constructor_parameters\u001b[0m\u001b[1;33m(\u001b[0m\u001b[0mself\u001b[0m\u001b[1;33m)\u001b[0m \u001b[1;33m->\u001b[0m \u001b[0mDict\u001b[0m\u001b[1;33m[\u001b[0m\u001b[0mstr\u001b[0m\u001b[1;33m,\u001b[0m \u001b[0mAny\u001b[0m\u001b[1;33m]\u001b[0m\u001b[1;33m:\u001b[0m\u001b[1;33m\u001b[0m\u001b[1;33m\u001b[0m\u001b[0m\n",
      "\u001b[1;32mc:\\Users\\Eshwar\\Documents\\GDriveSync\\CourseNotes\\CSCI566 - Deep Learning\\Deep_RL_For_CNN\\venv\\lib\\site-packages\\torch\\nn\\modules\\module.py\u001b[0m in \u001b[0;36m_call_impl\u001b[1;34m(self, *input, **kwargs)\u001b[0m\n\u001b[0;32m   1192\u001b[0m         if not (self._backward_hooks or self._forward_hooks or self._forward_pre_hooks or _global_backward_hooks\n\u001b[0;32m   1193\u001b[0m                 or _global_forward_hooks or _global_forward_pre_hooks):\n\u001b[1;32m-> 1194\u001b[1;33m             \u001b[1;32mreturn\u001b[0m \u001b[0mforward_call\u001b[0m\u001b[1;33m(\u001b[0m\u001b[1;33m*\u001b[0m\u001b[0minput\u001b[0m\u001b[1;33m,\u001b[0m \u001b[1;33m**\u001b[0m\u001b[0mkwargs\u001b[0m\u001b[1;33m)\u001b[0m\u001b[1;33m\u001b[0m\u001b[1;33m\u001b[0m\u001b[0m\n\u001b[0m\u001b[0;32m   1195\u001b[0m         \u001b[1;31m# Do not call functions when jit is used\u001b[0m\u001b[1;33m\u001b[0m\u001b[1;33m\u001b[0m\u001b[1;33m\u001b[0m\u001b[0m\n\u001b[0;32m   1196\u001b[0m         \u001b[0mfull_backward_hooks\u001b[0m\u001b[1;33m,\u001b[0m \u001b[0mnon_full_backward_hooks\u001b[0m \u001b[1;33m=\u001b[0m \u001b[1;33m[\u001b[0m\u001b[1;33m]\u001b[0m\u001b[1;33m,\u001b[0m \u001b[1;33m[\u001b[0m\u001b[1;33m]\u001b[0m\u001b[1;33m\u001b[0m\u001b[1;33m\u001b[0m\u001b[0m\n",
      "\u001b[1;32mc:\\Users\\Eshwar\\Documents\\GDriveSync\\CourseNotes\\CSCI566 - Deep Learning\\Deep_RL_For_CNN\\venv\\lib\\site-packages\\stable_baselines3\\common\\torch_layers.py\u001b[0m in \u001b[0;36mforward\u001b[1;34m(self, observations)\u001b[0m\n\u001b[0;32m     43\u001b[0m \u001b[1;33m\u001b[0m\u001b[0m\n\u001b[0;32m     44\u001b[0m     \u001b[1;32mdef\u001b[0m \u001b[0mforward\u001b[0m\u001b[1;33m(\u001b[0m\u001b[0mself\u001b[0m\u001b[1;33m,\u001b[0m \u001b[0mobservations\u001b[0m\u001b[1;33m:\u001b[0m \u001b[0mth\u001b[0m\u001b[1;33m.\u001b[0m\u001b[0mTensor\u001b[0m\u001b[1;33m)\u001b[0m \u001b[1;33m->\u001b[0m \u001b[0mth\u001b[0m\u001b[1;33m.\u001b[0m\u001b[0mTensor\u001b[0m\u001b[1;33m:\u001b[0m\u001b[1;33m\u001b[0m\u001b[1;33m\u001b[0m\u001b[0m\n\u001b[1;32m---> 45\u001b[1;33m         \u001b[1;32mreturn\u001b[0m \u001b[0mself\u001b[0m\u001b[1;33m.\u001b[0m\u001b[0mflatten\u001b[0m\u001b[1;33m(\u001b[0m\u001b[0mobservations\u001b[0m\u001b[1;33m)\u001b[0m\u001b[1;33m\u001b[0m\u001b[1;33m\u001b[0m\u001b[0m\n\u001b[0m\u001b[0;32m     46\u001b[0m \u001b[1;33m\u001b[0m\u001b[0m\n\u001b[0;32m     47\u001b[0m \u001b[1;33m\u001b[0m\u001b[0m\n",
      "\u001b[1;32mc:\\Users\\Eshwar\\Documents\\GDriveSync\\CourseNotes\\CSCI566 - Deep Learning\\Deep_RL_For_CNN\\venv\\lib\\site-packages\\torch\\nn\\modules\\module.py\u001b[0m in \u001b[0;36m_call_impl\u001b[1;34m(self, *input, **kwargs)\u001b[0m\n\u001b[0;32m   1192\u001b[0m         if not (self._backward_hooks or self._forward_hooks or self._forward_pre_hooks or _global_backward_hooks\n\u001b[0;32m   1193\u001b[0m                 or _global_forward_hooks or _global_forward_pre_hooks):\n\u001b[1;32m-> 1194\u001b[1;33m             \u001b[1;32mreturn\u001b[0m \u001b[0mforward_call\u001b[0m\u001b[1;33m(\u001b[0m\u001b[1;33m*\u001b[0m\u001b[0minput\u001b[0m\u001b[1;33m,\u001b[0m \u001b[1;33m**\u001b[0m\u001b[0mkwargs\u001b[0m\u001b[1;33m)\u001b[0m\u001b[1;33m\u001b[0m\u001b[1;33m\u001b[0m\u001b[0m\n\u001b[0m\u001b[0;32m   1195\u001b[0m         \u001b[1;31m# Do not call functions when jit is used\u001b[0m\u001b[1;33m\u001b[0m\u001b[1;33m\u001b[0m\u001b[1;33m\u001b[0m\u001b[0m\n\u001b[0;32m   1196\u001b[0m         \u001b[0mfull_backward_hooks\u001b[0m\u001b[1;33m,\u001b[0m \u001b[0mnon_full_backward_hooks\u001b[0m \u001b[1;33m=\u001b[0m \u001b[1;33m[\u001b[0m\u001b[1;33m]\u001b[0m\u001b[1;33m,\u001b[0m \u001b[1;33m[\u001b[0m\u001b[1;33m]\u001b[0m\u001b[1;33m\u001b[0m\u001b[1;33m\u001b[0m\u001b[0m\n",
      "\u001b[1;32mc:\\Users\\Eshwar\\Documents\\GDriveSync\\CourseNotes\\CSCI566 - Deep Learning\\Deep_RL_For_CNN\\venv\\lib\\site-packages\\torch\\nn\\modules\\flatten.py\u001b[0m in \u001b[0;36mforward\u001b[1;34m(self, input)\u001b[0m\n\u001b[0;32m     44\u001b[0m \u001b[1;33m\u001b[0m\u001b[0m\n\u001b[0;32m     45\u001b[0m     \u001b[1;32mdef\u001b[0m \u001b[0mforward\u001b[0m\u001b[1;33m(\u001b[0m\u001b[0mself\u001b[0m\u001b[1;33m,\u001b[0m \u001b[0minput\u001b[0m\u001b[1;33m:\u001b[0m \u001b[0mTensor\u001b[0m\u001b[1;33m)\u001b[0m \u001b[1;33m->\u001b[0m \u001b[0mTensor\u001b[0m\u001b[1;33m:\u001b[0m\u001b[1;33m\u001b[0m\u001b[1;33m\u001b[0m\u001b[0m\n\u001b[1;32m---> 46\u001b[1;33m         \u001b[1;32mreturn\u001b[0m \u001b[0minput\u001b[0m\u001b[1;33m.\u001b[0m\u001b[0mflatten\u001b[0m\u001b[1;33m(\u001b[0m\u001b[0mself\u001b[0m\u001b[1;33m.\u001b[0m\u001b[0mstart_dim\u001b[0m\u001b[1;33m,\u001b[0m \u001b[0mself\u001b[0m\u001b[1;33m.\u001b[0m\u001b[0mend_dim\u001b[0m\u001b[1;33m)\u001b[0m\u001b[1;33m\u001b[0m\u001b[1;33m\u001b[0m\u001b[0m\n\u001b[0m\u001b[0;32m     47\u001b[0m \u001b[1;33m\u001b[0m\u001b[0m\n\u001b[0;32m     48\u001b[0m     \u001b[1;32mdef\u001b[0m \u001b[0mextra_repr\u001b[0m\u001b[1;33m(\u001b[0m\u001b[0mself\u001b[0m\u001b[1;33m)\u001b[0m \u001b[1;33m->\u001b[0m \u001b[0mstr\u001b[0m\u001b[1;33m:\u001b[0m\u001b[1;33m\u001b[0m\u001b[1;33m\u001b[0m\u001b[0m\n",
      "\u001b[1;31mAttributeError\u001b[0m: 'dict' object has no attribute 'flatten'"
     ]
    }
   ],
   "source": [
    "# # env = ActionMasker(env, masking_fn)\n",
    "# model = MaskablePPO(MaskableActorCriticPolicy, cnn_env, verbose=1)\n",
    "# model.learn(total_timesteps=(100))"
   ]
  },
  {
   "cell_type": "code",
   "execution_count": null,
   "metadata": {},
   "outputs": [],
   "source": []
  }
 ],
 "metadata": {
  "kernelspec": {
   "display_name": "venv",
   "language": "python",
   "name": "python3"
  },
  "language_info": {
   "codemirror_mode": {
    "name": "ipython",
    "version": 3
   },
   "file_extension": ".py",
   "mimetype": "text/x-python",
   "name": "python",
   "nbconvert_exporter": "python",
   "pygments_lexer": "ipython3",
   "version": "3.7.6"
  },
  "orig_nbformat": 4,
  "vscode": {
   "interpreter": {
    "hash": "cf73a689ba998dc6f3460086dc66de4c3a85bb66803eb508340fb019598e645e"
   }
  }
 },
 "nbformat": 4,
 "nbformat_minor": 2
}
